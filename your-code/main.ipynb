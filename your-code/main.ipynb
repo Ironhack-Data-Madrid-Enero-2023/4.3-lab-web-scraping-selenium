{
 "cells": [
  {
   "cell_type": "markdown",
   "metadata": {},
   "source": [
    "# Web Scraping Lab\n",
    "\n",
    "You will find in this notebook some scrapy exercises to practise your scraping skills.\n",
    "\n",
    "**Tips:**\n",
    "\n",
    "- Check the response status code for each request to ensure you have obtained the intended contennt.\n",
    "- Print the response text in each request to understand the kind of info you are getting and its format.\n",
    "- Check for patterns in the response text to extract the data/info requested in each question.\n",
    "- Visit each url and take a look at its source through Chrome DevTools. You'll need to identify the html tags, special class names etc. used for the html content you are expected to extract."
   ]
  },
  {
   "cell_type": "markdown",
   "metadata": {},
   "source": [
    "- [Selenium Doc](https://www.selenium.dev/documentation/)\n",
    "- [Requests library](http://docs.python-requests.org/en/master/#the-user-guide) documentation \n",
    "- [Urllib](https://docs.python.org/3/library/urllib.html#module-urllib)\n",
    "- [re lib](https://docs.python.org/3/library/re.html)\n",
    "- [lxml lib](https://lxml.de/)\n",
    "- [Scrapy](https://scrapy.org/)\n",
    "- [List of HTTP status codes](https://en.wikipedia.org/wiki/List_of_HTTP_status_codes)\n",
    "- [HTML basics](http://www.simplehtmlguide.com/cheatsheet.php)\n",
    "- [CSS basics](https://www.cssbasics.com/#page_start)"
   ]
  },
  {
   "cell_type": "markdown",
   "metadata": {},
   "source": [
    "#### Below are the libraries and modules you may need. `Selenium` and `pandas` are imported for you."
   ]
  },
  {
   "cell_type": "code",
   "execution_count": 1,
   "metadata": {},
   "outputs": [],
   "source": [
    "import pandas as pd\n",
    "from selenium import webdriver\n",
    "from selenium.webdriver.chrome.options import Options\n",
    "from webdriver_manager.chrome import ChromeDriverManager\n",
    "from selenium.webdriver.common.by import By # By es para buscar por tag, clase, id...\n",
    "import time"
   ]
  },
  {
   "cell_type": "markdown",
   "metadata": {},
   "source": [
    "#### Enable the options you may need. In the next cell you have an example of them but you can choose to use them or not."
   ]
  },
  {
   "cell_type": "code",
   "execution_count": 2,
   "metadata": {},
   "outputs": [
    {
     "name": "stderr",
     "output_type": "stream",
     "text": [
      "C:\\Users\\jorge\\AppData\\Local\\Temp\\ipykernel_13656\\1669142788.py:6: DeprecationWarning: headless property is deprecated, instead use add_argument('--headless') or add_argument('--headless=new')\n",
      "  opciones.headless=False    # si True, no aperece la ventana (headless=no visible)\n"
     ]
    }
   ],
   "source": [
    "#driver configuration\n",
    "opciones=Options()\n",
    "\n",
    "opciones.add_experimental_option('excludeSwitches', ['enable-automation'])\n",
    "opciones.add_experimental_option('useAutomationExtension', False)\n",
    "opciones.headless=False    # si True, no aperece la ventana (headless=no visible)\n",
    "opciones.add_argument('--start-maximized')         # comienza maximizado\n",
    "opciones.add_argument('user-data-dir=selenium')    # mantiene las cookies\n",
    "#opciones.add_extension('driver_folder/adblock.crx')       # adblocker\n",
    "opciones.add_argument('--incognito')"
   ]
  },
  {
   "cell_type": "code",
   "execution_count": 3,
   "metadata": {},
   "outputs": [
    {
     "name": "stderr",
     "output_type": "stream",
     "text": [
      "C:\\Users\\jorge\\AppData\\Local\\Temp\\ipykernel_13656\\1901118871.py:2: DeprecationWarning: executable_path has been deprecated, please pass in a Service object\n",
      "  driver=webdriver.Chrome(PATH)\n"
     ]
    }
   ],
   "source": [
    "PATH = ChromeDriverManager().install() \n",
    "driver=webdriver.Chrome(PATH) "
   ]
  },
  {
   "cell_type": "markdown",
   "metadata": {},
   "source": [
    "#### Download, parse, and print the content from the Trending Developers page from GitHub:"
   ]
  },
  {
   "cell_type": "code",
   "execution_count": 4,
   "metadata": {},
   "outputs": [],
   "source": [
    "# This is the url you will scrape in this exercise\n",
    "url = 'https://github.com/trending/developers'\n",
    "driver.get(url)"
   ]
  },
  {
   "cell_type": "code",
   "execution_count": 5,
   "metadata": {},
   "outputs": [],
   "source": [
    "def f(xpath):\n",
    "    return driver.find_element(By.XPATH, xpath)\n",
    "\n",
    "def fs(xpath):\n",
    "    return driver.find_elements(By.XPATH, xpath)\n",
    "def g(tag):\n",
    "    return driver.find_elements(By.TAG_NAME, tag)"
   ]
  },
  {
   "cell_type": "markdown",
   "metadata": {},
   "source": [
    "#### Display the names of the trending developers retrieved in the previous step.\n",
    "\n",
    "Your output should be a Python list of developer names. Each name should not contain any html tag.\n",
    "\n",
    "**Instructions:**\n",
    "\n",
    "1. Find out the html tag and class names used for the developer names.\n",
    "\n",
    "1. Use string manipulation techniques to replace whitespaces and linebreaks (i.e. `\\n`) in the *text* of each html element. Use a list to store the clean names.\n",
    "\n",
    "1. Print the list of names.\n",
    "\n",
    "Your output should look like below:\n",
    "\n",
    "```\n",
    "['trimstray (@trimstray)',\n",
    " 'joewalnes (JoeWalnes)',\n",
    " 'charlax (Charles-AxelDein)',\n",
    " 'ForrestKnight (ForrestKnight)',\n",
    " 'revery-ui (revery-ui)',\n",
    " 'alibaba (Alibaba)',\n",
    " 'Microsoft (Microsoft)',\n",
    " 'github (GitHub)',\n",
    " 'facebook (Facebook)',\n",
    " 'boazsegev (Bo)',\n",
    " 'google (Google)',\n",
    " 'cloudfetch',\n",
    " 'sindresorhus (SindreSorhus)',\n",
    " 'tensorflow',\n",
    " 'apache (TheApacheSoftwareFoundation)',\n",
    " 'DevonCrawford (DevonCrawford)',\n",
    " 'ARMmbed (ArmMbed)',\n",
    " 'vuejs (vuejs)',\n",
    " 'fastai (fast.ai)',\n",
    " 'QiShaoXuan (Qi)',\n",
    " 'joelparkerhenderson (JoelParkerHenderson)',\n",
    " 'torvalds (LinusTorvalds)',\n",
    " 'CyC2018',\n",
    " 'komeiji-satori (神楽坂覚々)',\n",
    " 'script-8']\n",
    " ```"
   ]
  },
  {
   "cell_type": "code",
   "execution_count": 6,
   "metadata": {},
   "outputs": [
    {
     "data": {
      "text/plain": [
       "['Ariel Mashraki',\n",
       " 'Mattias Wadman',\n",
       " 'Henrik Rydgård',\n",
       " 'Mark Tyneway',\n",
       " 'Lincoln Stein']"
      ]
     },
     "execution_count": 6,
     "metadata": {},
     "output_type": "execute_result"
    }
   ],
   "source": [
    "devs = [i.text for i in fs('//div[2]/div[1]/div[1]/h1')]\n",
    "devs[0:5]"
   ]
  },
  {
   "cell_type": "markdown",
   "metadata": {},
   "source": [
    "#### Display the trending Python repositories in GitHub\n",
    "\n",
    "The steps to solve this problem is similar to the previous one except that you need to find out the repository names instead of developer names."
   ]
  },
  {
   "cell_type": "code",
   "execution_count": 7,
   "metadata": {},
   "outputs": [],
   "source": [
    "# This is the url you will scrape in this exercise\n",
    "url = 'https://github.com/trending/python?since=daily'\n",
    "driver.get(url)"
   ]
  },
  {
   "cell_type": "code",
   "execution_count": 8,
   "metadata": {},
   "outputs": [
    {
     "data": {
      "text/plain": [
       "['acheong08 / ChatGPT',\n",
       " 'Zero6992 / chatGPT-discord-bot',\n",
       " 'TheAlgorithms / Python',\n",
       " 'LAION-AI / Open-Assistant',\n",
       " 'ddPn08 / Lsmith']"
      ]
     },
     "execution_count": 8,
     "metadata": {},
     "output_type": "execute_result"
    }
   ],
   "source": [
    "repos = [i.text for i in fs('//h1')][1:]\n",
    "repos[:5]"
   ]
  },
  {
   "cell_type": "markdown",
   "metadata": {},
   "source": [
    "#### Display all the image links from Walt Disney wikipedia page"
   ]
  },
  {
   "cell_type": "code",
   "execution_count": 9,
   "metadata": {},
   "outputs": [],
   "source": [
    "# This is the url you will scrape in this exercise\n",
    "url = 'https://en.wikipedia.org/wiki/Walt_Disney'\n",
    "driver.get(url)"
   ]
  },
  {
   "cell_type": "code",
   "execution_count": 10,
   "metadata": {},
   "outputs": [
    {
     "data": {
      "text/plain": [
       "['https://en.wikipedia.org/static/images/icons/wikipedia.png',\n",
       " 'https://en.wikipedia.org/static/images/mobile/copyright/wikipedia-wordmark-en.svg',\n",
       " 'https://en.wikipedia.org/static/images/mobile/copyright/wikipedia-tagline-en.svg',\n",
       " 'https://upload.wikimedia.org/wikipedia/en/thumb/e/e7/Cscr-featured.svg/20px-Cscr-featured.svg.png',\n",
       " 'https://upload.wikimedia.org/wikipedia/en/thumb/8/8c/Extended-protection-shackle.svg/20px-Extended-protection-shackle.svg.png']"
      ]
     },
     "execution_count": 10,
     "metadata": {},
     "output_type": "execute_result"
    }
   ],
   "source": [
    "#your code\n",
    "links = [i.get_attribute('src') for i in g('img')]\n",
    "links[0:5]"
   ]
  },
  {
   "cell_type": "code",
   "execution_count": 11,
   "metadata": {},
   "outputs": [
    {
     "data": {
      "text/html": [
       "<img src=\"https://upload.wikimedia.org/wikipedia/commons/thumb/d/df/Walt_Disney_1946.JPG/220px-Walt_Disney_1946.JPG\"/>"
      ],
      "text/plain": [
       "<IPython.core.display.Image object>"
      ]
     },
     "execution_count": 11,
     "metadata": {},
     "output_type": "execute_result"
    }
   ],
   "source": [
    "from IPython.display import Image\n",
    "Image(url = links[5])"
   ]
  },
  {
   "cell_type": "markdown",
   "metadata": {},
   "source": [
    "#### Retrieve an arbitary Wikipedia page of \"Python\" and create a list of links on that page"
   ]
  },
  {
   "cell_type": "code",
   "execution_count": 12,
   "metadata": {},
   "outputs": [],
   "source": [
    "# This is the url you will scrape in this exercise\n",
    "url ='https://en.wikipedia.org/wiki/Python' \n",
    "driver.get(url)"
   ]
  },
  {
   "cell_type": "code",
   "execution_count": 13,
   "metadata": {},
   "outputs": [
    {
     "data": {
      "text/plain": [
       "'Create account'"
      ]
     },
     "execution_count": 13,
     "metadata": {},
     "output_type": "execute_result"
    }
   ],
   "source": [
    "fs('//li/a')[0].text"
   ]
  },
  {
   "cell_type": "code",
   "execution_count": 14,
   "metadata": {},
   "outputs": [
    {
     "data": {
      "text/plain": [
       "['https://en.wikipedia.org/wiki/Pythonidae',\n",
       " 'https://en.wikipedia.org/wiki/Python_(genus)',\n",
       " 'https://en.wikipedia.org/wiki/Python_(mythology)',\n",
       " 'https://en.wikipedia.org/wiki/Python_(programming_language)',\n",
       " 'https://en.wikipedia.org/wiki/CMU_Common_Lisp',\n",
       " 'https://en.wikipedia.org/wiki/PERQ#PERQ_3',\n",
       " 'https://en.wikipedia.org/wiki/Python_of_Aenus',\n",
       " 'https://en.wikipedia.org/wiki/Python_(painter)',\n",
       " 'https://en.wikipedia.org/wiki/Python_of_Byzantium',\n",
       " 'https://en.wikipedia.org/wiki/Python_of_Catana']"
      ]
     },
     "execution_count": 14,
     "metadata": {},
     "output_type": "execute_result"
    }
   ],
   "source": [
    "#your code\n",
    "links = [i.get_attribute('href') for i in fs('//*[@id=\"bodyContent\"]//ul/li/a')]\n",
    "links[:10]\n"
   ]
  },
  {
   "cell_type": "markdown",
   "metadata": {},
   "source": [
    "#### Number of Titles that have changed in the United States Code since its last release point "
   ]
  },
  {
   "cell_type": "code",
   "execution_count": 15,
   "metadata": {},
   "outputs": [],
   "source": [
    "# This is the url you will scrape in this exercise\n",
    "url = 'http://uscode.house.gov/download/download.shtml'\n",
    "driver.get(url)"
   ]
  },
  {
   "cell_type": "code",
   "execution_count": 16,
   "metadata": {},
   "outputs": [
    {
     "data": {
      "text/plain": [
       "['Title 2 - The Congress',\n",
       " 'Title 6 - Domestic Security',\n",
       " 'Title 15 - Commerce and Trade',\n",
       " 'Title 16 - Conservation',\n",
       " 'Title 18 - Crimes and Criminal Procedure ٭']"
      ]
     },
     "execution_count": 16,
     "metadata": {},
     "output_type": "execute_result"
    }
   ],
   "source": [
    "titles = [i.text for i in fs(\"//div[@class='usctitlechanged']\")]\n",
    "\n",
    "titles[0:5]"
   ]
  },
  {
   "cell_type": "markdown",
   "metadata": {},
   "source": [
    "#### A Python list with the top ten FBI's Most Wanted names "
   ]
  },
  {
   "cell_type": "code",
   "execution_count": 17,
   "metadata": {},
   "outputs": [],
   "source": [
    "# This is the url you will scrape in this exercise\n",
    "url = 'https://www.fbi.gov/wanted/topten'\n",
    "driver.get(url)"
   ]
  },
  {
   "cell_type": "code",
   "execution_count": 18,
   "metadata": {},
   "outputs": [
    {
     "data": {
      "text/plain": [
       "['RUJA IGNATOVA',\n",
       " 'ARNOLDO JIMENEZ',\n",
       " 'OMAR ALEXANDER CARDENAS',\n",
       " 'ALEXIS FLORES',\n",
       " 'YULAN ADONAY ARCHAGA CARIAS',\n",
       " 'BHADRESHKUMAR CHETANBHAI PATEL',\n",
       " 'ALEJANDRO ROSALES CASTILLO',\n",
       " 'JOSE RODOLFO VILLARREAL-HERNANDEZ',\n",
       " 'MICHAEL JAMES PRATT',\n",
       " 'RAFAEL CARO-QUINTERO']"
      ]
     },
     "execution_count": 18,
     "metadata": {},
     "output_type": "execute_result"
    }
   ],
   "source": [
    "wanted = [i.text for i in fs(\"//h3[@class='title']//a\")]\n",
    "wanted"
   ]
  },
  {
   "cell_type": "markdown",
   "metadata": {},
   "source": [
    "####  20 latest earthquakes info (date, time, latitude, longitude and region name) by the EMSC as a pandas dataframe"
   ]
  },
  {
   "cell_type": "code",
   "execution_count": 19,
   "metadata": {},
   "outputs": [],
   "source": [
    "# This is the url you will scrape in this exercise\n",
    "url = 'https://www.emsc-csem.org/Earthquake/'\n",
    "driver.get(url)"
   ]
  },
  {
   "cell_type": "code",
   "execution_count": 20,
   "metadata": {},
   "outputs": [
    {
     "data": {
      "text/plain": [
       "['Citizen\\nResponse',\n",
       " 'Date & Time\\nUTC',\n",
       " 'Latitude\\ndegrees',\n",
       " 'Longitude\\ndegrees',\n",
       " 'Depth\\nkm',\n",
       " 'Mag\\n[+]',\n",
       " 'Region name\\n[+]',\n",
       " '']"
      ]
     },
     "execution_count": 20,
     "metadata": {},
     "output_type": "execute_result"
    }
   ],
   "source": [
    "headers = [i.text for i in fs('//thead//th')]\n",
    "headers"
   ]
  },
  {
   "cell_type": "code",
   "execution_count": 21,
   "metadata": {},
   "outputs": [],
   "source": [
    "rows = [i for i in fs('//tbody//tr')]\n",
    "data = []\n",
    "for j in rows[10:]:\n",
    "    row = []\n",
    "    for i in j.find_elements(By.XPATH, 'td'):\n",
    "        row.append(i.text)\n",
    "    data.append(row)"
   ]
  },
  {
   "cell_type": "code",
   "execution_count": 22,
   "metadata": {},
   "outputs": [],
   "source": [
    "clean = []\n",
    "for i in data:\n",
    "    p = i[3].split('\\n')[0]\n",
    "    clean.append([p]+i[4:12])"
   ]
  },
  {
   "cell_type": "code",
   "execution_count": 23,
   "metadata": {},
   "outputs": [
    {
     "data": {
      "text/html": [
       "<div>\n",
       "<style scoped>\n",
       "    .dataframe tbody tr th:only-of-type {\n",
       "        vertical-align: middle;\n",
       "    }\n",
       "\n",
       "    .dataframe tbody tr th {\n",
       "        vertical-align: top;\n",
       "    }\n",
       "\n",
       "    .dataframe thead th {\n",
       "        text-align: right;\n",
       "    }\n",
       "</style>\n",
       "<table border=\"1\" class=\"dataframe\">\n",
       "  <thead>\n",
       "    <tr style=\"text-align: right;\">\n",
       "      <th></th>\n",
       "      <th>Date &amp; Time UTC</th>\n",
       "      <th>Lat</th>\n",
       "      <th>LaDir</th>\n",
       "      <th>Long</th>\n",
       "      <th>LoDir</th>\n",
       "      <th>Depth</th>\n",
       "      <th>Magnitude</th>\n",
       "      <th>Region</th>\n",
       "    </tr>\n",
       "  </thead>\n",
       "  <tbody>\n",
       "    <tr>\n",
       "      <th>0</th>\n",
       "      <td>2023-02-08   16:40:33.2</td>\n",
       "      <td>37.84</td>\n",
       "      <td>N</td>\n",
       "      <td>36.60</td>\n",
       "      <td>E</td>\n",
       "      <td>16</td>\n",
       "      <td>3.2</td>\n",
       "      <td>CENTRAL TURKEY</td>\n",
       "    </tr>\n",
       "    <tr>\n",
       "      <th>1</th>\n",
       "      <td>2023-02-08   16:21:19.8</td>\n",
       "      <td>19.15</td>\n",
       "      <td>N</td>\n",
       "      <td>155.48</td>\n",
       "      <td>W</td>\n",
       "      <td>33</td>\n",
       "      <td>2.0</td>\n",
       "      <td>ISLAND OF HAWAII, HAWAII</td>\n",
       "    </tr>\n",
       "    <tr>\n",
       "      <th>2</th>\n",
       "      <td>2023-02-08   16:18:17.6</td>\n",
       "      <td>38.00</td>\n",
       "      <td>N</td>\n",
       "      <td>37.51</td>\n",
       "      <td>E</td>\n",
       "      <td>5</td>\n",
       "      <td>2.8</td>\n",
       "      <td>CENTRAL TURKEY</td>\n",
       "    </tr>\n",
       "    <tr>\n",
       "      <th>3</th>\n",
       "      <td>2023-02-08   16:15:05.3</td>\n",
       "      <td>37.55</td>\n",
       "      <td>N</td>\n",
       "      <td>37.34</td>\n",
       "      <td>E</td>\n",
       "      <td>14</td>\n",
       "      <td>2.9</td>\n",
       "      <td>CENTRAL TURKEY</td>\n",
       "    </tr>\n",
       "    <tr>\n",
       "      <th>4</th>\n",
       "      <td>2023-02-08   16:12:04.2</td>\n",
       "      <td>38.10</td>\n",
       "      <td>N</td>\n",
       "      <td>36.69</td>\n",
       "      <td>E</td>\n",
       "      <td>9</td>\n",
       "      <td>2.6</td>\n",
       "      <td>CENTRAL TURKEY</td>\n",
       "    </tr>\n",
       "  </tbody>\n",
       "</table>\n",
       "</div>"
      ],
      "text/plain": [
       "           Date & Time UTC     Lat LaDir     Long LoDir Depth Magnitude  \\\n",
       "0  2023-02-08   16:40:33.2  37.84    N     36.60    E      16       3.2   \n",
       "1  2023-02-08   16:21:19.8  19.15    N    155.48    W      33       2.0   \n",
       "2  2023-02-08   16:18:17.6  38.00    N     37.51    E       5       2.8   \n",
       "3  2023-02-08   16:15:05.3  37.55    N     37.34    E      14       2.9   \n",
       "4  2023-02-08   16:12:04.2  38.10    N     36.69    E       9       2.6   \n",
       "\n",
       "                      Region  \n",
       "0             CENTRAL TURKEY  \n",
       "1   ISLAND OF HAWAII, HAWAII  \n",
       "2             CENTRAL TURKEY  \n",
       "3             CENTRAL TURKEY  \n",
       "4             CENTRAL TURKEY  "
      ]
     },
     "execution_count": 23,
     "metadata": {},
     "output_type": "execute_result"
    }
   ],
   "source": [
    "headers = ['Date & Time UTC','Lat','LaDir','Long','LoDir','Depth','Magnitude','Region']\n",
    "\n",
    "x = pd.DataFrame(clean)\n",
    "x.drop(x.columns[6],axis=1,inplace=True)\n",
    "x.columns = headers\n",
    "x.head()"
   ]
  },
  {
   "cell_type": "markdown",
   "metadata": {},
   "source": [
    "#### Count number of tweets by a given Twitter account."
   ]
  },
  {
   "cell_type": "markdown",
   "metadata": {},
   "source": [
    "You will need to include a ***try/except block*** for account names not found. \n",
    "<br>***Hint:*** the program should count the number of tweets for any provided account"
   ]
  },
  {
   "cell_type": "code",
   "execution_count": 86,
   "metadata": {},
   "outputs": [],
   "source": [
    "# This is the url you will scrape in this exercise \n",
    "# You will need to add the account credentials to this url\n",
    "url = 'https://twitter.com/Microsoft'\n",
    "driver.get(url)"
   ]
  },
  {
   "cell_type": "code",
   "execution_count": 25,
   "metadata": {},
   "outputs": [],
   "source": []
  },
  {
   "cell_type": "markdown",
   "metadata": {},
   "source": [
    "#### Number of followers of a given twitter account"
   ]
  },
  {
   "cell_type": "markdown",
   "metadata": {},
   "source": [
    "You will need to include a ***try/except block*** in case account/s name not found. \n",
    "<br>***Hint:*** the program should count the followers for any provided account"
   ]
  },
  {
   "cell_type": "code",
   "execution_count": 26,
   "metadata": {},
   "outputs": [],
   "source": [
    "# This is the url you will scrape in this exercise \n",
    "# You will need to add the account credentials to this url\n",
    "url = 'https://twitter.com/'"
   ]
  },
  {
   "cell_type": "code",
   "execution_count": 27,
   "metadata": {},
   "outputs": [],
   "source": [
    "#your code"
   ]
  },
  {
   "cell_type": "markdown",
   "metadata": {},
   "source": [
    "#### List all language names and number of related articles in the order they appear in wikipedia.org"
   ]
  },
  {
   "cell_type": "code",
   "execution_count": 28,
   "metadata": {},
   "outputs": [],
   "source": [
    "# This is the url you will scrape in this exercise\n",
    "url = 'https://www.wikipedia.org/'\n",
    "driver.get(url)"
   ]
  },
  {
   "cell_type": "code",
   "execution_count": 29,
   "metadata": {},
   "outputs": [
    {
     "data": {
      "text/plain": [
       "[('English', '6 606 000+ articles'),\n",
       " ('Русский', '1 887 000+ статей'),\n",
       " ('日本語', '1 359 000+ 記事'),\n",
       " ('Deutsch', '2 764 000+ Artikel'),\n",
       " ('Français', '2 488 000+ articles'),\n",
       " ('Español', '1 833 000+ artículos'),\n",
       " ('Italiano', '1 792 000+ voci'),\n",
       " ('中文', '1 331 000+ 条目 / 條目'),\n",
       " ('فارسی', '947 000+ مقاله'),\n",
       " ('Polski', '1 552 000+ haseł')]"
      ]
     },
     "execution_count": 29,
     "metadata": {},
     "output_type": "execute_result"
    }
   ],
   "source": [
    "langs = [i.text for i in g('strong')][1:-1]\n",
    "arts = [i.text.rstrip('+') for i in g('small')][0:-3]\n",
    "list(zip(langs,arts))"
   ]
  },
  {
   "cell_type": "markdown",
   "metadata": {},
   "source": [
    "#### A list with the different kind of datasets available in data.gov.uk "
   ]
  },
  {
   "cell_type": "code",
   "execution_count": 30,
   "metadata": {},
   "outputs": [],
   "source": [
    "# This is the url you will scrape in this exercise\n",
    "url = 'https://data.gov.uk/'\n",
    "driver.get(url)"
   ]
  },
  {
   "cell_type": "code",
   "execution_count": 31,
   "metadata": {},
   "outputs": [
    {
     "data": {
      "text/plain": [
       "['Business and economy',\n",
       " 'Crime and justice',\n",
       " 'Defence',\n",
       " 'Education',\n",
       " 'Environment',\n",
       " 'Government',\n",
       " 'Government spending',\n",
       " 'Health',\n",
       " 'Mapping',\n",
       " 'Society',\n",
       " 'Towns and cities',\n",
       " 'Transport',\n",
       " 'Digital service performance',\n",
       " 'Government reference data']"
      ]
     },
     "execution_count": 31,
     "metadata": {},
     "output_type": "execute_result"
    }
   ],
   "source": [
    "#your code \n",
    "[i.text for i in fs('//a[@class=\"govuk-link\"]')][4:]"
   ]
  },
  {
   "cell_type": "markdown",
   "metadata": {},
   "source": [
    "#### Top 10 languages by number of native speakers stored in a Pandas Dataframe"
   ]
  },
  {
   "cell_type": "code",
   "execution_count": 39,
   "metadata": {},
   "outputs": [],
   "source": [
    "# This is the url you will scrape in this exercise\n",
    "url = 'https://en.wikipedia.org/wiki/List_of_languages_by_number_of_native_speakers'\n",
    "driver.get(url)"
   ]
  },
  {
   "cell_type": "code",
   "execution_count": 41,
   "metadata": {},
   "outputs": [
    {
     "data": {
      "text/html": [
       "<div>\n",
       "<style scoped>\n",
       "    .dataframe tbody tr th:only-of-type {\n",
       "        vertical-align: middle;\n",
       "    }\n",
       "\n",
       "    .dataframe tbody tr th {\n",
       "        vertical-align: top;\n",
       "    }\n",
       "\n",
       "    .dataframe thead th {\n",
       "        text-align: right;\n",
       "    }\n",
       "</style>\n",
       "<table border=\"1\" class=\"dataframe\">\n",
       "  <thead>\n",
       "    <tr style=\"text-align: right;\">\n",
       "      <th></th>\n",
       "      <th>Language</th>\n",
       "      <th>Native speakers (millions)</th>\n",
       "      <th>Language family</th>\n",
       "      <th>Branch</th>\n",
       "    </tr>\n",
       "  </thead>\n",
       "  <tbody>\n",
       "    <tr>\n",
       "      <th>0</th>\n",
       "      <td>Mandarin Chinese (incl. Standard Chinese, but ...</td>\n",
       "      <td>920</td>\n",
       "      <td>Sino-Tibetan</td>\n",
       "      <td>Sinitic</td>\n",
       "    </tr>\n",
       "    <tr>\n",
       "      <th>1</th>\n",
       "      <td>Spanish</td>\n",
       "      <td>475</td>\n",
       "      <td>Indo-European</td>\n",
       "      <td>Romance</td>\n",
       "    </tr>\n",
       "    <tr>\n",
       "      <th>2</th>\n",
       "      <td>English</td>\n",
       "      <td>373</td>\n",
       "      <td>Indo-European</td>\n",
       "      <td>Germanic</td>\n",
       "    </tr>\n",
       "    <tr>\n",
       "      <th>3</th>\n",
       "      <td>Hindi (excl. Urdu)</td>\n",
       "      <td>344</td>\n",
       "      <td>Indo-European</td>\n",
       "      <td>Indo-Aryan</td>\n",
       "    </tr>\n",
       "    <tr>\n",
       "      <th>4</th>\n",
       "      <td>Bengali</td>\n",
       "      <td>234</td>\n",
       "      <td>Indo-European</td>\n",
       "      <td>Indo-Aryan</td>\n",
       "    </tr>\n",
       "  </tbody>\n",
       "</table>\n",
       "</div>"
      ],
      "text/plain": [
       "                                            Language  \\\n",
       "0  Mandarin Chinese (incl. Standard Chinese, but ...   \n",
       "1                                            Spanish   \n",
       "2                                            English   \n",
       "3                                 Hindi (excl. Urdu)   \n",
       "4                                            Bengali   \n",
       "\n",
       "  Native speakers (millions) Language family      Branch  \n",
       "0                        920    Sino-Tibetan     Sinitic  \n",
       "1                        475   Indo-European     Romance  \n",
       "2                        373   Indo-European    Germanic  \n",
       "3                        344   Indo-European  Indo-Aryan  \n",
       "4                        234   Indo-European  Indo-Aryan  "
      ]
     },
     "execution_count": 41,
     "metadata": {},
     "output_type": "execute_result"
    }
   ],
   "source": [
    "#your code\n",
    "\n",
    "headers = [i.text.replace('\\n', ' ') for i in fs('//table[1]//thead//th')]\n",
    "\n",
    "\n",
    "data = [[j.text.replace('\\n', ' ') for j in i.find_elements(By.XPATH,'td')] for i in fs('//tbody//tr')]\n",
    "data[:27]\n",
    "\n",
    "data = pd.DataFrame(data,columns=headers)\n",
    "data.head()"
   ]
  },
  {
   "cell_type": "markdown",
   "metadata": {},
   "source": [
    "### BONUS QUESTIONS"
   ]
  },
  {
   "cell_type": "markdown",
   "metadata": {},
   "source": [
    "#### Scrape a certain number of tweets of a given Twitter account."
   ]
  },
  {
   "cell_type": "code",
   "execution_count": null,
   "metadata": {},
   "outputs": [],
   "source": [
    "# This is the url you will scrape in this exercise \n",
    "# You will need to add the account credentials to this url\n",
    "url = 'https://twitter.com/'"
   ]
  },
  {
   "cell_type": "code",
   "execution_count": null,
   "metadata": {},
   "outputs": [],
   "source": [
    "# your code"
   ]
  },
  {
   "cell_type": "markdown",
   "metadata": {},
   "source": [
    "#### IMDB's Top 250 data (movie name, Initial release, director name and stars) as a pandas dataframe"
   ]
  },
  {
   "cell_type": "code",
   "execution_count": 7,
   "metadata": {},
   "outputs": [],
   "source": [
    "# This is the url you will scrape in this exercise \n",
    "url = 'https://www.imdb.com/chart/top'\n",
    "driver.get(url)"
   ]
  },
  {
   "cell_type": "code",
   "execution_count": 82,
   "metadata": {},
   "outputs": [],
   "source": [
    "headers = [i.text for i in fs('//div[@class=\"lister\"]//thead//th')][1:-2]\n",
    "\n",
    "x = [[j.text for j in i.find_elements(By.XPATH,'td')] for i in fs('//div[@class=\"lister\"]//tbody//tr')]"
   ]
  },
  {
   "cell_type": "code",
   "execution_count": 83,
   "metadata": {},
   "outputs": [],
   "source": [
    "clean = []\n",
    "for i in x:\n",
    "    clean.append(i[1:3])"
   ]
  },
  {
   "cell_type": "code",
   "execution_count": 84,
   "metadata": {},
   "outputs": [
    {
     "name": "stdout",
     "output_type": "stream",
     "text": [
      "The Shawshank Redemption (1994)\n",
      "The Godfather (1972)\n",
      "The Dark Knight (2008)\n",
      "The Godfather Part II (1974)\n",
      "12 Angry Men (1957)\n",
      "Schindler's List (1993)\n",
      "The Lord of the Rings: The Return of the King (2003)\n",
      "Pulp Fiction (1994)\n",
      "The Lord of the Rings: The Fellowship of the Ring (2001)\n",
      "The Good, the Bad and the Ugly (1966)\n",
      "Forrest Gump (1994)\n",
      "Fight Club (1999)\n",
      "The Lord of the Rings: The Two Towers (2002)\n",
      "Inception (2010)\n",
      "Star Wars: Episode V - The Empire Strikes Back (1980)\n",
      "The Matrix (1999)\n",
      "GoodFellas (1990)\n",
      "One Flew Over the Cuckoo's Nest (1975)\n",
      "Seven (1995)\n",
      "Seven Samurai (1954)\n",
      "It's a Wonderful Life (1946)\n",
      "The Silence of the Lambs (1991)\n",
      "City of God (2002)\n",
      "Saving Private Ryan (1998)\n",
      "Interstellar (2014)\n",
      "Life Is Beautiful (1997)\n",
      "The Green Mile (1999)\n",
      "Star Wars (1977)\n",
      "Terminator 2: Judgment Day (1991)\n",
      "Back to the Future (1985)\n",
      "Spirited Away (2001)\n",
      "The Pianist (2002)\n",
      "Psycho (1960)\n",
      "Parasite (2019)\n",
      "Leon (1994)\n",
      "The Lion King (1994)\n",
      "Gladiator (2000)\n",
      "American History X (1998)\n",
      "The Departed (2006)\n",
      "The Usual Suspects (1995)\n",
      "The Prestige (2006)\n",
      "Whiplash (2014)\n",
      "Casablanca (1942)\n",
      "Grave of the Fireflies (1988)\n",
      "Harakiri (1962)\n",
      "Untouchable (2011)\n",
      "Modern Times (1936)\n",
      "Once Upon a Time in the West (1968)\n",
      "Rear Window (1954)\n",
      "Cinema Paradiso (1988)\n",
      "Alien (1979)\n",
      "City Lights (1931)\n",
      "Apocalypse Now (1979)\n",
      "Memento (2000)\n",
      "Django Unchained (2012)\n",
      "Raiders of the Lost Ark (1981)\n",
      "WALL·E (2008)\n",
      "The Lives of Others (2006)\n",
      "Sunset Blvd. (1950)\n",
      "Paths of Glory (1957)\n",
      "The Shining (1980)\n",
      "The Great Dictator (1940)\n",
      "Avengers: Infinity War (2018)\n",
      "Witness for the Prosecution (1957)\n",
      "Aliens (1986)\n",
      "Spider-Man: Into the Spider-Verse (2018)\n",
      "American Beauty (1999)\n",
      "Dr. Strangelove or: How I Learned to Stop Worrying and Love the Bomb (1964)\n",
      "The Dark Knight Rises (2012)\n",
      "Oldboy (2003)\n",
      "Inglourious Basterds (2009)\n",
      "Amadeus (1984)\n",
      "Coco (2017)\n",
      "Toy Story (1995)\n",
      "Joker (2019)\n",
      "Braveheart (1995)\n",
      "Das Boot (1981)\n",
      "Avengers: Endgame (2019)\n",
      "Princess Mononoke (1997)\n",
      "Once Upon a Time in America (1984)\n",
      "Good Will Hunting (1997)\n",
      "Your Name. (2016)\n",
      "3 Idiots (2009)\n",
      "Singin' in the Rain (1952)\n",
      "Requiem for a Dream (2000)\n",
      "Toy Story 3 (2010)\n",
      "High and Low (1963)\n",
      "Capernaum (2018)\n",
      "Star Wars: Return of the Jedi (1983)\n",
      "Eternal Sunshine of the Spotless Mind (2004)\n",
      "2001: A Space Odyssey (1968)\n",
      "Reservoir Dogs (1992)\n",
      "Come and See (1985)\n",
      "The Hunt (2012)\n",
      "Citizen Kane (1941)\n",
      "M (1931)\n",
      "Lawrence of Arabia (1962)\n",
      "North by Northwest (1959)\n",
      "Vertigo (1958)\n",
      "Amélie (2001)\n",
      "Ikiru (1952)\n",
      "The Apartment (1960)\n",
      "A Clockwork Orange (1971)\n",
      "Top Gun: Maverick (2022)\n",
      "Double Indemnity (1944)\n",
      "Full Metal Jacket (1987)\n",
      "Scarface (1983)\n",
      "Hamilton (2020)\n",
      "Incendies (2010)\n",
      "To Kill a Mockingbird (1962)\n",
      "Heat (1995)\n",
      "The Sting (1973)\n",
      "Up (2009)\n",
      "A Separation (2011)\n",
      "Taxi Driver (1976)\n",
      "Metropolis (1927)\n",
      "L.A. Confidential (1997)\n",
      "Die Hard (1988)\n",
      "Snatch (2000)\n",
      "Indiana Jones and the Last Crusade (1989)\n",
      "Bicycle Thieves (1948)\n",
      "Like Stars on Earth (2007)\n",
      "1917 (2019)\n",
      "Downfall (2004)\n",
      "Dangal (2016)\n",
      "For a Few Dollars More (1965)\n",
      "Batman Begins (2005)\n",
      "The Kid (1921)\n",
      "Some Like It Hot (1959)\n",
      "The Father (2020)\n",
      "All About Eve (1950)\n",
      "Green Book (2018)\n",
      "The Wolf of Wall Street (2013)\n",
      "Judgment at Nuremberg (1961)\n",
      "Casino (1995)\n",
      "Ran (1985)\n",
      "Pan's Labyrinth (2006)\n",
      "The Truman Show (1998)\n",
      "There Will Be Blood (2007)\n",
      "Unforgiven (1992)\n",
      "The Sixth Sense (1999)\n",
      "Shutter Island (2010)\n",
      "A Beautiful Mind (2001)\n",
      "Jurassic Park (1993)\n",
      "Yojimbo (1961)\n",
      "The Treasure of the Sierra Madre (1948)\n",
      "Monty Python and the Holy Grail (1975)\n",
      "The Great Escape (1963)\n",
      "Spider-Man: No Way Home (2021)\n",
      "No Country for Old Men (2007)\n",
      "Kill Bill: Vol. 1 (2003)\n",
      "Rashomon (1950)\n",
      "The Thing (1982)\n",
      "Finding Nemo (2003)\n",
      "The Elephant Man (1980)\n",
      "Chinatown (1974)\n",
      "Raging Bull (1980)\n",
      "V for Vendetta (2005)\n",
      "Gone with the Wind (1939)\n",
      "Lock, Stock and Two Smoking Barrels (1998)\n",
      "Inside Out (2015)\n",
      "Dial M for Murder (1954)\n",
      "The Secret in Their Eyes (2009)\n",
      "Howl's Moving Castle (2004)\n",
      "Three Billboards Outside Ebbing, Missouri (2017)\n",
      "The Bridge on the River Kwai (1957)\n",
      "Trainspotting (1996)\n",
      "Prisoners (2013)\n",
      "Warrior (2011)\n",
      "Fargo (1996)\n",
      "Gran Torino (2008)\n",
      "My Neighbour Totoro (1988)\n",
      "Catch Me If You Can (2002)\n",
      "Million Dollar Baby (2004)\n",
      "Children of Heaven (1997)\n",
      "Blade Runner (1982)\n",
      "The Gold Rush (1925)\n",
      "Before Sunrise (1995)\n",
      "12 Years a Slave (2013)\n",
      "Klaus (2019)\n",
      "Harry Potter and the Deathly Hallows: Part 2 (2011)\n",
      "On the Waterfront (1954)\n",
      "Ben-Hur (1959)\n",
      "Gone Girl (2014)\n",
      "The Grand Budapest Hotel (2014)\n",
      "Wild Strawberries (1957)\n",
      "The General (1926)\n",
      "The Third Man (1949)\n",
      "In the Name of the Father (1993)\n",
      "The Deer Hunter (1978)\n",
      "Barry Lyndon (1975)\n",
      "Hacksaw Ridge (2016)\n",
      "The Wages of Fear (1953)\n",
      "Memories of Murder (2003)\n",
      "Sherlock Jr. (1924)\n",
      "Wild Tales (2014)\n",
      "Mr. Smith Goes to Washington (1939)\n",
      "Mad Max: Fury Road (2015)\n",
      "The Seventh Seal (1957)\n",
      "Mary and Max (2009)\n",
      "How to Train Your Dragon (2010)\n",
      "Room (2015)\n",
      "Monsters, Inc. (2001)\n",
      "Jaws (1975)\n",
      "The Big Lebowski (1998)\n",
      "Dead Poets Society (1989)\n",
      "Tokyo Story (1953)\n",
      "The Passion of Joan of Arc (1928)\n",
      "Hotel Rwanda (2004)\n",
      "Le Mans '66 (2019)\n",
      "Rocky (1976)\n",
      "Platoon (1986)\n",
      "Ratatouille (2007)\n",
      "Spotlight (2015)\n",
      "The Terminator (1984)\n",
      "Logan (2017)\n",
      "Stand by Me (1986)\n",
      "Rush (2013)\n",
      "Network (1976)\n",
      "Into the Wild (2007)\n",
      "Before Sunset (2004)\n",
      "The Wizard of Oz (1939)\n",
      "Pather Panchali (1955)\n",
      "Groundhog Day (1993)\n",
      "The Best Years of Our Lives (1946)\n",
      "The Exorcist (1973)\n",
      "The Incredibles (2004)\n",
      "To Be or Not to Be (1942)\n",
      "La haine (1995)\n",
      "The Battle of Algiers (1966)\n",
      "Pirates of the Caribbean: The Curse of the Black Pearl (2003)\n",
      "Hachi: A Dog's Tale (2009)\n",
      "The Grapes of Wrath (1940)\n",
      "My Father and My Son (2005)\n",
      "Jai Bhim (2021)\n",
      "Amores perros (2000)\n",
      "Rebecca (1940)\n",
      "Cool Hand Luke (1967)\n",
      "The Handmaiden (2016)\n",
      "The 400 Blows (1959)\n",
      "The Sound of Music (1965)\n",
      "It Happened One Night (1934)\n",
      "Persona (1966)\n",
      "Life of Brian (1979)\n",
      "The Iron Giant (1999)\n",
      "The Help (2011)\n",
      "Dersu Uzala (1975)\n",
      "Aladdin (1992)\n",
      "Gandhi (1982)\n",
      "Dances with Wolves (1990)\n"
     ]
    }
   ],
   "source": [
    "import re \n",
    "\n",
    "for i in clean:\n",
    "    i[0] = re.sub(\"^[0-9]+. \", \"\", i[0])\n",
    "    x = i[0].split('(')[-1][:-1]\n",
    "    i.append(x)"
   ]
  },
  {
   "cell_type": "code",
   "execution_count": 85,
   "metadata": {},
   "outputs": [
    {
     "data": {
      "text/html": [
       "<div>\n",
       "<style scoped>\n",
       "    .dataframe tbody tr th:only-of-type {\n",
       "        vertical-align: middle;\n",
       "    }\n",
       "\n",
       "    .dataframe tbody tr th {\n",
       "        vertical-align: top;\n",
       "    }\n",
       "\n",
       "    .dataframe thead th {\n",
       "        text-align: right;\n",
       "    }\n",
       "</style>\n",
       "<table border=\"1\" class=\"dataframe\">\n",
       "  <thead>\n",
       "    <tr style=\"text-align: right;\">\n",
       "      <th></th>\n",
       "      <th>Title</th>\n",
       "      <th>IMDb Rating</th>\n",
       "      <th>Year</th>\n",
       "    </tr>\n",
       "  </thead>\n",
       "  <tbody>\n",
       "    <tr>\n",
       "      <th>0</th>\n",
       "      <td>The Shawshank Redemption (1994)</td>\n",
       "      <td>9.2</td>\n",
       "      <td>1994</td>\n",
       "    </tr>\n",
       "    <tr>\n",
       "      <th>1</th>\n",
       "      <td>The Godfather (1972)</td>\n",
       "      <td>9.2</td>\n",
       "      <td>1972</td>\n",
       "    </tr>\n",
       "    <tr>\n",
       "      <th>2</th>\n",
       "      <td>The Dark Knight (2008)</td>\n",
       "      <td>9.0</td>\n",
       "      <td>2008</td>\n",
       "    </tr>\n",
       "    <tr>\n",
       "      <th>3</th>\n",
       "      <td>The Godfather Part II (1974)</td>\n",
       "      <td>9.0</td>\n",
       "      <td>1974</td>\n",
       "    </tr>\n",
       "    <tr>\n",
       "      <th>4</th>\n",
       "      <td>12 Angry Men (1957)</td>\n",
       "      <td>9.0</td>\n",
       "      <td>1957</td>\n",
       "    </tr>\n",
       "  </tbody>\n",
       "</table>\n",
       "</div>"
      ],
      "text/plain": [
       "                             Title IMDb Rating  Year\n",
       "0  The Shawshank Redemption (1994)         9.2  1994\n",
       "1             The Godfather (1972)         9.2  1972\n",
       "2           The Dark Knight (2008)         9.0  2008\n",
       "3     The Godfather Part II (1974)         9.0  1974\n",
       "4              12 Angry Men (1957)         9.0  1957"
      ]
     },
     "execution_count": 85,
     "metadata": {},
     "output_type": "execute_result"
    }
   ],
   "source": [
    "data = pd.DataFrame(clean,columns=['Title','IMDb Rating','Year'])\n",
    "data.head()"
   ]
  },
  {
   "cell_type": "markdown",
   "metadata": {},
   "source": [
    "#### Movie name, year and a brief summary of the top 10 random movies (IMDB) as a pandas dataframe."
   ]
  },
  {
   "cell_type": "code",
   "execution_count": null,
   "metadata": {},
   "outputs": [],
   "source": [
    "#This is the url you will scrape in this exercise\n",
    "url = 'http://www.imdb.com/chart/top'"
   ]
  },
  {
   "cell_type": "code",
   "execution_count": null,
   "metadata": {},
   "outputs": [],
   "source": [
    "#your code"
   ]
  },
  {
   "cell_type": "markdown",
   "metadata": {},
   "source": [
    "#### Find the live weather report (temperature, wind speed, description and weather) of a given city."
   ]
  },
  {
   "cell_type": "code",
   "execution_count": null,
   "metadata": {},
   "outputs": [],
   "source": [
    "#https://openweathermap.org/current\n",
    "city = city=input('Enter the city:')\n",
    "url = 'http://api.openweathermap.org/data/2.5/weather?'+'q='+city+'&APPID=b35975e18dc93725acb092f7272cc6b8&units=metric'"
   ]
  },
  {
   "cell_type": "code",
   "execution_count": null,
   "metadata": {},
   "outputs": [],
   "source": [
    "# your code"
   ]
  },
  {
   "cell_type": "markdown",
   "metadata": {},
   "source": [
    "#### Book name,price and stock availability as a pandas dataframe."
   ]
  },
  {
   "cell_type": "code",
   "execution_count": null,
   "metadata": {},
   "outputs": [],
   "source": [
    "# This is the url you will scrape in this exercise. \n",
    "# It is a fictional bookstore created to be scraped. \n",
    "url = 'http://books.toscrape.com/'"
   ]
  },
  {
   "cell_type": "code",
   "execution_count": null,
   "metadata": {},
   "outputs": [],
   "source": [
    "#your code"
   ]
  }
 ],
 "metadata": {
  "kernelspec": {
   "display_name": "base",
   "language": "python",
   "name": "python3"
  },
  "language_info": {
   "codemirror_mode": {
    "name": "ipython",
    "version": 3
   },
   "file_extension": ".py",
   "mimetype": "text/x-python",
   "name": "python",
   "nbconvert_exporter": "python",
   "pygments_lexer": "ipython3",
   "version": "3.9.16"
  },
  "vscode": {
   "interpreter": {
    "hash": "9412b45e6a57aa9914730508726d49801d3b2c579f461e1fb13c705887a7b1f6"
   }
  }
 },
 "nbformat": 4,
 "nbformat_minor": 2
}
