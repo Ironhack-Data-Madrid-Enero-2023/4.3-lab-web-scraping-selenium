{
 "cells": [
  {
   "cell_type": "markdown",
   "metadata": {},
   "source": [
    "# Web Scraping Lab\n",
    "\n",
    "You will find in this notebook some scrapy exercises to practise your scraping skills.\n",
    "\n",
    "**Tips:**\n",
    "\n",
    "- Check the response status code for each request to ensure you have obtained the intended contennt.\n",
    "- Print the response text in each request to understand the kind of info you are getting and its format.\n",
    "- Check for patterns in the response text to extract the data/info requested in each question.\n",
    "- Visit each url and take a look at its source through Chrome DevTools. You'll need to identify the html tags, special class names etc. used for the html content you are expected to extract."
   ]
  },
  {
   "cell_type": "markdown",
   "metadata": {},
   "source": [
    "- [Selenium Doc](https://www.selenium.dev/documentation/)\n",
    "- [Requests library](http://docs.python-requests.org/en/master/#the-user-guide) documentation \n",
    "- [Urllib](https://docs.python.org/3/library/urllib.html#module-urllib)\n",
    "- [re lib](https://docs.python.org/3/library/re.html)\n",
    "- [lxml lib](https://lxml.de/)\n",
    "- [Scrapy](https://scrapy.org/)\n",
    "- [List of HTTP status codes](https://en.wikipedia.org/wiki/List_of_HTTP_status_codes)\n",
    "- [HTML basics](http://www.simplehtmlguide.com/cheatsheet.php)\n",
    "- [CSS basics](https://www.cssbasics.com/#page_start)"
   ]
  },
  {
   "cell_type": "markdown",
   "metadata": {},
   "source": [
    "#### Below are the libraries and modules you may need. `Selenium` and `pandas` are imported for you."
   ]
  },
  {
   "cell_type": "code",
   "execution_count": 1,
   "metadata": {},
   "outputs": [
    {
     "name": "stdout",
     "output_type": "stream",
     "text": [
      "Requirement already satisfied: selenium in c:\\users\\manue\\anaconda3\\lib\\site-packages (4.8.0)\n",
      "Requirement already satisfied: trio~=0.17 in c:\\users\\manue\\anaconda3\\lib\\site-packages (from selenium) (0.22.0)\n",
      "Requirement already satisfied: trio-websocket~=0.9 in c:\\users\\manue\\anaconda3\\lib\\site-packages (from selenium) (0.9.2)\n",
      "Requirement already satisfied: certifi>=2021.10.8 in c:\\users\\manue\\anaconda3\\lib\\site-packages (from selenium) (2022.9.14)\n",
      "Requirement already satisfied: urllib3[socks]~=1.26 in c:\\users\\manue\\anaconda3\\lib\\site-packages (from selenium) (1.26.11)\n",
      "Requirement already satisfied: sniffio in c:\\users\\manue\\anaconda3\\lib\\site-packages (from trio~=0.17->selenium) (1.2.0)\n",
      "Requirement already satisfied: sortedcontainers in c:\\users\\manue\\anaconda3\\lib\\site-packages (from trio~=0.17->selenium) (2.4.0)\n",
      "Requirement already satisfied: cffi>=1.14 in c:\\users\\manue\\anaconda3\\lib\\site-packages (from trio~=0.17->selenium) (1.15.1)\n",
      "Requirement already satisfied: exceptiongroup>=1.0.0rc9 in c:\\users\\manue\\anaconda3\\lib\\site-packages (from trio~=0.17->selenium) (1.1.0)\n",
      "Requirement already satisfied: async-generator>=1.9 in c:\\users\\manue\\anaconda3\\lib\\site-packages (from trio~=0.17->selenium) (1.10)\n",
      "Requirement already satisfied: attrs>=19.2.0 in c:\\users\\manue\\anaconda3\\lib\\site-packages (from trio~=0.17->selenium) (21.4.0)\n",
      "Requirement already satisfied: outcome in c:\\users\\manue\\anaconda3\\lib\\site-packages (from trio~=0.17->selenium) (1.2.0)\n",
      "Requirement already satisfied: idna in c:\\users\\manue\\anaconda3\\lib\\site-packages (from trio~=0.17->selenium) (3.3)\n",
      "Requirement already satisfied: wsproto>=0.14 in c:\\users\\manue\\anaconda3\\lib\\site-packages (from trio-websocket~=0.9->selenium) (1.2.0)\n",
      "Requirement already satisfied: PySocks!=1.5.7,<2.0,>=1.5.6 in c:\\users\\manue\\anaconda3\\lib\\site-packages (from urllib3[socks]~=1.26->selenium) (1.7.1)\n",
      "Requirement already satisfied: pycparser in c:\\users\\manue\\anaconda3\\lib\\site-packages (from cffi>=1.14->trio~=0.17->selenium) (2.21)\n",
      "Requirement already satisfied: h11<1,>=0.9.0 in c:\\users\\manue\\anaconda3\\lib\\site-packages (from wsproto>=0.14->trio-websocket~=0.9->selenium) (0.14.0)\n",
      "Note: you may need to restart the kernel to use updated packages.\n"
     ]
    }
   ],
   "source": [
    "pip install selenium"
   ]
  },
  {
   "cell_type": "code",
   "execution_count": 1,
   "metadata": {},
   "outputs": [],
   "source": [
    "import pandas as pd\n",
    "from selenium.webdriver.chrome.options import Options\n",
    "from webdriver_manager.chrome import ChromeDriverManager\n"
   ]
  },
  {
   "cell_type": "code",
   "execution_count": 2,
   "metadata": {},
   "outputs": [],
   "source": [
    "import requests as req\n",
    "from bs4 import BeautifulSoup as bs\n",
    "import pandas as pd\n",
    "from selenium import webdriver"
   ]
  },
  {
   "cell_type": "code",
   "execution_count": 3,
   "metadata": {},
   "outputs": [],
   "source": [
    "from webdriver_manager.chrome import ChromeDriverManager"
   ]
  },
  {
   "cell_type": "code",
   "execution_count": 4,
   "metadata": {
    "scrolled": false
   },
   "outputs": [
    {
     "name": "stdout",
     "output_type": "stream",
     "text": [
      "Requirement already satisfied: webdriver-manager in c:\\users\\manue\\anaconda3\\lib\\site-packages (3.8.5)\n",
      "Requirement already satisfied: python-dotenv in c:\\users\\manue\\anaconda3\\lib\\site-packages (from webdriver-manager) (0.21.1)\n",
      "Requirement already satisfied: packaging in c:\\users\\manue\\anaconda3\\lib\\site-packages (from webdriver-manager) (21.3)\n",
      "Requirement already satisfied: requests in c:\\users\\manue\\anaconda3\\lib\\site-packages (from webdriver-manager) (2.28.1)\n",
      "Requirement already satisfied: tqdm in c:\\users\\manue\\anaconda3\\lib\\site-packages (from webdriver-manager) (4.64.1)\n",
      "Requirement already satisfied: pyparsing!=3.0.5,>=2.0.2 in c:\\users\\manue\\anaconda3\\lib\\site-packages (from packaging->webdriver-manager) (3.0.9)\n",
      "Requirement already satisfied: certifi>=2017.4.17 in c:\\users\\manue\\anaconda3\\lib\\site-packages (from requests->webdriver-manager) (2022.9.14)\n",
      "Requirement already satisfied: charset-normalizer<3,>=2 in c:\\users\\manue\\anaconda3\\lib\\site-packages (from requests->webdriver-manager) (2.0.4)\n",
      "Requirement already satisfied: idna<4,>=2.5 in c:\\users\\manue\\anaconda3\\lib\\site-packages (from requests->webdriver-manager) (3.3)\n",
      "Requirement already satisfied: urllib3<1.27,>=1.21.1 in c:\\users\\manue\\anaconda3\\lib\\site-packages (from requests->webdriver-manager) (1.26.11)\n",
      "Requirement already satisfied: colorama in c:\\users\\manue\\anaconda3\\lib\\site-packages (from tqdm->webdriver-manager) (0.4.5)\n",
      "Note: you may need to restart the kernel to use updated packages.\n"
     ]
    }
   ],
   "source": [
    "%pip install webdriver-manager"
   ]
  },
  {
   "cell_type": "markdown",
   "metadata": {},
   "source": [
    "#### Enable the options you may need. In the next cell you have an example of them but you can choose to use them or not."
   ]
  },
  {
   "cell_type": "code",
   "execution_count": 5,
   "metadata": {},
   "outputs": [],
   "source": [
    "#driver configuration\n",
    "opciones=Options()\n",
    "\n",
    "opciones.add_experimental_option('excludeSwitches', ['enable-automation'])\n",
    "opciones.add_experimental_option('useAutomationExtension', False)\n",
    "opciones.headless=False    # si True, no aperece la ventana (headless=no visible)\n",
    "opciones.add_argument('--start-maximized')         # comienza maximizado\n",
    "#opciones.add_argument('user-data-dir=selenium')    # mantiene las cookies\n",
    "#opciones.add_extension('driver_folder/adblock.crx')       # adblocker\n",
    "opciones.add_argument('--incognito')"
   ]
  },
  {
   "cell_type": "code",
   "execution_count": 6,
   "metadata": {},
   "outputs": [
    {
     "name": "stderr",
     "output_type": "stream",
     "text": [
      "C:\\Users\\manue\\AppData\\Local\\Temp\\ipykernel_808\\3133049561.py:2: DeprecationWarning: executable_path has been deprecated, please pass in a Service object\n",
      "  driver=webdriver.Chrome(PATH)       # abre una venta una de chrome\n"
     ]
    }
   ],
   "source": [
    "PATH = ChromeDriverManager().install()     # instala el driver de chrome\n",
    "driver=webdriver.Chrome(PATH)       # abre una venta una de chrome\n",
    "driver.get('https://www.google.es')\n"
   ]
  },
  {
   "cell_type": "code",
   "execution_count": 11,
   "metadata": {},
   "outputs": [],
   "source": [
    "from selenium.webdriver.common.by import By # By es para buscar por tag, clase, id...\n",
    "import time\n",
    "import warnings\n",
    "warnings.filterwarnings('ignore')"
   ]
  },
  {
   "cell_type": "markdown",
   "metadata": {},
   "source": [
    "#### Download, parse, and print the content from the Trending Developers page from GitHub:"
   ]
  },
  {
   "cell_type": "code",
   "execution_count": 9,
   "metadata": {},
   "outputs": [],
   "source": [
    "# This is the url you will scrape in this exercise\n",
    "url = 'https://github.com/trending/developers'"
   ]
  },
  {
   "cell_type": "code",
   "execution_count": 10,
   "metadata": {},
   "outputs": [],
   "source": [
    "driver=webdriver.Chrome(PATH)\n",
    "driver.get('https://github.com/trending/developers')\n"
   ]
  },
  {
   "cell_type": "markdown",
   "metadata": {},
   "source": [
    "#### Display the names of the trending developers retrieved in the previous step.\n",
    "\n",
    "Your output should be a Python list of developer names. Each name should not contain any html tag.\n",
    "\n",
    "**Instructions:**\n",
    "\n",
    "1. Find out the html tag and class names used for the developer names.\n",
    "\n",
    "1. Use string manipulation techniques to replace whitespaces and linebreaks (i.e. `\\n`) in the *text* of each html element. Use a list to store the clean names.\n",
    "\n",
    "1. Print the list of names.\n",
    "\n",
    "Your output should look like below:\n",
    "\n",
    "```\n",
    "['trimstray (@trimstray)',\n",
    " 'joewalnes (JoeWalnes)',\n",
    " 'charlax (Charles-AxelDein)',\n",
    " 'ForrestKnight (ForrestKnight)',\n",
    " 'revery-ui (revery-ui)',\n",
    " 'alibaba (Alibaba)',\n",
    " 'Microsoft (Microsoft)',\n",
    " 'github (GitHub)',\n",
    " 'facebook (Facebook)',\n",
    " 'boazsegev (Bo)',\n",
    " 'google (Google)',\n",
    " 'cloudfetch',\n",
    " 'sindresorhus (SindreSorhus)',\n",
    " 'tensorflow',\n",
    " 'apache (TheApacheSoftwareFoundation)',\n",
    " 'DevonCrawford (DevonCrawford)',\n",
    " 'ARMmbed (ArmMbed)',\n",
    " 'vuejs (vuejs)',\n",
    " 'fastai (fast.ai)',\n",
    " 'QiShaoXuan (Qi)',\n",
    " 'joelparkerhenderson (JoelParkerHenderson)',\n",
    " 'torvalds (LinusTorvalds)',\n",
    " 'CyC2018',\n",
    " 'komeiji-satori (神楽坂覚々)',\n",
    " 'script-8']\n",
    " ```"
   ]
  },
  {
   "cell_type": "code",
   "execution_count": 11,
   "metadata": {},
   "outputs": [],
   "source": [
    "#find_element un elemento\n",
    "#find_elements todos los elementos\n",
    "git_names = driver.find_elements(By.CLASS_NAME, \"h3.lh-condensed\")\n"
   ]
  },
  {
   "cell_type": "code",
   "execution_count": 12,
   "metadata": {},
   "outputs": [
    {
     "name": "stdout",
     "output_type": "stream",
     "text": [
      "['Ariel Mashraki', 'Henrik Rydgård', 'jxxghp', 'Shrikant Sharat Kandula', 'Azure SDK Bot', 'Casey Rodarmor', 'Florian Roth', 'Brad Fitzpatrick', 'Emil Ernerfeldt', 'atomiks', 'Jeffrey Su', 'Yair Morgenstern', 'Manuel Kaufmann', 'Paul Razvan Berg', 'Matt Karl', 'nodiscc', 'Matthew Leibowitz', 'Maarten Grootendorst', 'Ben McCann', 'Costa Huang', 'François Chollet', 'Ross Wightman', 'Robert Martin', 'Huon Wilson', 'Zhian N. Kamvar']\n"
     ]
    }
   ],
   "source": [
    "names = []\n",
    "for element in git_names:\n",
    "    name = element.text\n",
    "    name = name.strip().replace(\"\\n\", \"\")\n",
    "    names.append(name)\n",
    "\n",
    "print(names)"
   ]
  },
  {
   "cell_type": "markdown",
   "metadata": {},
   "source": [
    "#### Display the trending Python repositories in GitHub\n",
    "\n",
    "The steps to solve this problem is similar to the previous one except that you need to find out the repository names instead of developer names."
   ]
  },
  {
   "cell_type": "code",
   "execution_count": 13,
   "metadata": {},
   "outputs": [],
   "source": [
    "# This is the url you will scrape in this exercise\n",
    "url = 'https://github.com/trending/python?since=daily'"
   ]
  },
  {
   "cell_type": "code",
   "execution_count": 14,
   "metadata": {},
   "outputs": [],
   "source": [
    "driver=webdriver.Chrome(PATH)\n",
    "driver.get('https://github.com/trending/python?since=daily')\n"
   ]
  },
  {
   "cell_type": "code",
   "execution_count": 15,
   "metadata": {},
   "outputs": [],
   "source": [
    "repo_names = driver.find_elements(By.CLASS_NAME, \"h3.lh-condensed\")"
   ]
  },
  {
   "cell_type": "code",
   "execution_count": 16,
   "metadata": {},
   "outputs": [
    {
     "name": "stdout",
     "output_type": "stream",
     "text": [
      "['acikkaynak / deprem-yardim-backend', 'TheAlgorithms / Python', 'Zero6992 / chatGPT-discord-bot', 'zhayujie / chatgpt-on-wechat', 'TEXTurePaper / TEXTurePaper', 'acheong08 / ChatGPT', 'LAION-AI / Open-Assistant', 'AIGCT / EASYChatGPT', 'BlinkDL / ChatRWKV', 'ddPn08 / Lsmith', 'd2l-ai / d2l-zh', 'chidiwilliams / buzz', 'arc53 / DocsGPT', 'prowler-cloud / prowler', 'openai / openai-python', 'hwchase17 / langchain', 'karfly / chatgpt_telegram_bot', 'biancangming / wtv', 'LlmKira / Openaibot', 'BlinkDL / RWKV-LM', 'wagtail / wagtail', 'PaddlePaddle / ERNIE', 'MrMimic / data-scientist-roadmap', 'PaddlePaddle / PaddleSpeech', 'bellingcat / octosuite']\n"
     ]
    }
   ],
   "source": [
    "names2 = []\n",
    "for element in repo_names:\n",
    "    name = element.text\n",
    "    name = name.strip().replace(\"\\n\", \"\")\n",
    "    names2.append(name)\n",
    "\n",
    "print(names2)"
   ]
  },
  {
   "cell_type": "markdown",
   "metadata": {},
   "source": [
    "#### Display all the image links from Walt Disney wikipedia page"
   ]
  },
  {
   "cell_type": "code",
   "execution_count": 17,
   "metadata": {},
   "outputs": [],
   "source": [
    "# This is the url you will scrape in this exercise\n",
    "url = 'https://en.wikipedia.org/wiki/Walt_Disney'"
   ]
  },
  {
   "cell_type": "code",
   "execution_count": 18,
   "metadata": {},
   "outputs": [],
   "source": [
    "driver=webdriver.Chrome(PATH)\n",
    "driver.get('https://en.wikipedia.org/wiki/Walt_Disney')\n"
   ]
  },
  {
   "cell_type": "code",
   "execution_count": 19,
   "metadata": {},
   "outputs": [
    {
     "data": {
      "text/plain": [
       "<selenium.webdriver.remote.webelement.WebElement (session=\"1c1668ec2607d8c757902fa558e9e548\", element=\"30710177-03a2-4ae2-8d41-704a57ea9c77\")>"
      ]
     },
     "execution_count": 19,
     "metadata": {},
     "output_type": "execute_result"
    }
   ],
   "source": [
    "wd = driver.find_elements(By.TAG_NAME, \"img\")\n",
    "wd[0]"
   ]
  },
  {
   "cell_type": "code",
   "execution_count": 20,
   "metadata": {},
   "outputs": [
    {
     "data": {
      "text/plain": [
       "['https://en.wikipedia.org/static/images/icons/wikipedia.png',\n",
       " 'https://en.wikipedia.org/static/images/mobile/copyright/wikipedia-wordmark-en.svg',\n",
       " 'https://en.wikipedia.org/static/images/mobile/copyright/wikipedia-tagline-en.svg',\n",
       " 'https://upload.wikimedia.org/wikipedia/en/thumb/e/e7/Cscr-featured.svg/20px-Cscr-featured.svg.png',\n",
       " 'https://upload.wikimedia.org/wikipedia/en/thumb/8/8c/Extended-protection-shackle.svg/20px-Extended-protection-shackle.svg.png',\n",
       " 'https://upload.wikimedia.org/wikipedia/commons/thumb/d/df/Walt_Disney_1946.JPG/220px-Walt_Disney_1946.JPG',\n",
       " 'https://upload.wikimedia.org/wikipedia/commons/thumb/8/87/Walt_Disney_1942_signature.svg/150px-Walt_Disney_1942_signature.svg.png',\n",
       " 'https://upload.wikimedia.org/wikipedia/commons/thumb/3/3a/Walt_Disney_Birthplace_Exterior_Hermosa_Chicago_Illinois.jpg/220px-Walt_Disney_Birthplace_Exterior_Hermosa_Chicago_Illinois.jpg',\n",
       " 'https://upload.wikimedia.org/wikipedia/commons/thumb/c/c4/Walt_Disney_envelope_ca._1921.jpg/220px-Walt_Disney_envelope_ca._1921.jpg',\n",
       " 'https://upload.wikimedia.org/wikipedia/commons/thumb/0/0d/Trolley_Troubles_poster.jpg/170px-Trolley_Troubles_poster.jpg',\n",
       " 'https://upload.wikimedia.org/wikipedia/en/thumb/4/4e/Steamboat-willie.jpg/170px-Steamboat-willie.jpg',\n",
       " 'https://upload.wikimedia.org/wikipedia/commons/thumb/5/57/Walt_Disney_1935.jpg/170px-Walt_Disney_1935.jpg',\n",
       " 'https://upload.wikimedia.org/wikipedia/commons/thumb/c/cd/Walt_Disney_Snow_white_1937_trailer_screenshot_%2813%29.jpg/220px-Walt_Disney_Snow_white_1937_trailer_screenshot_%2813%29.jpg',\n",
       " 'https://upload.wikimedia.org/wikipedia/commons/thumb/1/15/Disney_drawing_goofy.jpg/170px-Disney_drawing_goofy.jpg',\n",
       " 'https://upload.wikimedia.org/wikipedia/commons/thumb/8/8c/WaltDisneyplansDisneylandDec1954.jpg/220px-WaltDisneyplansDisneylandDec1954.jpg',\n",
       " 'https://upload.wikimedia.org/wikipedia/commons/thumb/f/ff/Walt_disney_portrait_right.jpg/170px-Walt_disney_portrait_right.jpg',\n",
       " 'https://upload.wikimedia.org/wikipedia/commons/thumb/1/1a/Walt_Disney_Grave.JPG/170px-Walt_Disney_Grave.JPG',\n",
       " 'https://upload.wikimedia.org/wikipedia/commons/thumb/2/2d/Roy_O._Disney_with_Company_at_Press_Conference.jpg/170px-Roy_O._Disney_with_Company_at_Press_Conference.jpg',\n",
       " 'https://upload.wikimedia.org/wikipedia/commons/thumb/1/13/DisneySchiphol1951.jpg/220px-DisneySchiphol1951.jpg',\n",
       " 'https://upload.wikimedia.org/wikipedia/commons/thumb/6/6c/Disney1968.jpg/170px-Disney1968.jpg',\n",
       " 'https://upload.wikimedia.org/wikipedia/commons/thumb/b/b0/Disney_Oscar_1953_%28cropped%29.jpg/170px-Disney_Oscar_1953_%28cropped%29.jpg',\n",
       " 'https://upload.wikimedia.org/wikipedia/en/thumb/4/4a/Commons-logo.svg/30px-Commons-logo.svg.png',\n",
       " 'https://upload.wikimedia.org/wikipedia/commons/thumb/4/4c/Wikisource-logo.svg/38px-Wikisource-logo.svg.png',\n",
       " 'https://upload.wikimedia.org/wikipedia/commons/thumb/f/fa/Wikiquote-logo.svg/34px-Wikiquote-logo.svg.png',\n",
       " 'https://upload.wikimedia.org/wikipedia/en/thumb/8/8a/OOjs_UI_icon_edit-ltr-progressive.svg/10px-OOjs_UI_icon_edit-ltr-progressive.svg.png',\n",
       " 'https://upload.wikimedia.org/wikipedia/en/thumb/8/8a/OOjs_UI_icon_edit-ltr-progressive.svg/10px-OOjs_UI_icon_edit-ltr-progressive.svg.png',\n",
       " 'https://upload.wikimedia.org/wikipedia/commons/thumb/e/e3/Disneyland_Resort_logo.svg/135px-Disneyland_Resort_logo.svg.png',\n",
       " 'https://upload.wikimedia.org/wikipedia/commons/thumb/d/da/Animation_disc.svg/20px-Animation_disc.svg.png',\n",
       " 'https://upload.wikimedia.org/wikipedia/en/thumb/6/69/P_vip.svg/19px-P_vip.svg.png',\n",
       " 'https://upload.wikimedia.org/wikipedia/commons/thumb/1/1a/Magic_Kingdom_castle.jpg/15px-Magic_Kingdom_castle.jpg',\n",
       " 'https://upload.wikimedia.org/wikipedia/en/thumb/e/e7/Video-x-generic.svg/19px-Video-x-generic.svg.png',\n",
       " 'https://upload.wikimedia.org/wikipedia/commons/thumb/a/a3/Flag_of_Los_Angeles_County%2C_California.svg/21px-Flag_of_Los_Angeles_County%2C_California.svg.png',\n",
       " 'https://upload.wikimedia.org/wikipedia/commons/thumb/8/8c/Blank_television_set.svg/21px-Blank_television_set.svg.png',\n",
       " 'https://upload.wikimedia.org/wikipedia/en/thumb/a/a4/Flag_of_the_United_States.svg/21px-Flag_of_the_United_States.svg.png',\n",
       " 'https://upload.wikimedia.org/wikipedia/en/thumb/4/4a/Commons-logo.svg/14px-Commons-logo.svg.png',\n",
       " 'https://upload.wikimedia.org/wikipedia/commons/thumb/f/fa/Wikiquote-logo.svg/16px-Wikiquote-logo.svg.png',\n",
       " 'https://upload.wikimedia.org/wikipedia/commons/thumb/4/4c/Wikisource-logo.svg/18px-Wikisource-logo.svg.png',\n",
       " 'https://upload.wikimedia.org/wikipedia/commons/thumb/f/ff/Wikidata-logo.svg/21px-Wikidata-logo.svg.png',\n",
       " 'https://upload.wikimedia.org/wikipedia/en/thumb/8/8a/OOjs_UI_icon_edit-ltr-progressive.svg/10px-OOjs_UI_icon_edit-ltr-progressive.svg.png',\n",
       " 'https://en.wikipedia.org/static/images/footer/wikimedia-button.png',\n",
       " 'https://en.wikipedia.org/static/images/footer/poweredby_mediawiki_88x31.png']"
      ]
     },
     "execution_count": 20,
     "metadata": {},
     "output_type": "execute_result"
    }
   ],
   "source": [
    "wd_images = []\n",
    "for element in wd:\n",
    "    wd_images.append(element.get_attribute('src'))\n",
    "wd_images"
   ]
  },
  {
   "cell_type": "markdown",
   "metadata": {},
   "source": [
    "#### Retrieve an arbitary Wikipedia page of \"Python\" and create a list of links on that page"
   ]
  },
  {
   "cell_type": "code",
   "execution_count": 21,
   "metadata": {},
   "outputs": [],
   "source": [
    "# This is the url you will scrape in this exercise\n",
    "url ='https://en.wikipedia.org/wiki/Python' "
   ]
  },
  {
   "cell_type": "code",
   "execution_count": 22,
   "metadata": {},
   "outputs": [],
   "source": [
    "driver=webdriver.Chrome(PATH)\n",
    "driver.get(url)"
   ]
  },
  {
   "cell_type": "code",
   "execution_count": 23,
   "metadata": {},
   "outputs": [],
   "source": [
    "py = driver.get(url)"
   ]
  },
  {
   "cell_type": "code",
   "execution_count": 24,
   "metadata": {},
   "outputs": [
    {
     "data": {
      "text/plain": [
       "[<selenium.webdriver.remote.webelement.WebElement (session=\"f93f575539ad2db2d95db3bf885b1d2f\", element=\"23020e1d-e71e-47d5-8c4a-a624e57eb3f6\")>,\n",
       " <selenium.webdriver.remote.webelement.WebElement (session=\"f93f575539ad2db2d95db3bf885b1d2f\", element=\"f943453b-43e8-47af-97dd-4afb5e2d81ba\")>,\n",
       " <selenium.webdriver.remote.webelement.WebElement (session=\"f93f575539ad2db2d95db3bf885b1d2f\", element=\"b490a814-10f1-4a70-ac79-93f364b9d3c5\")>,\n",
       " <selenium.webdriver.remote.webelement.WebElement (session=\"f93f575539ad2db2d95db3bf885b1d2f\", element=\"db7c34d3-8088-4a0a-9af5-8736a3491202\")>,\n",
       " <selenium.webdriver.remote.webelement.WebElement (session=\"f93f575539ad2db2d95db3bf885b1d2f\", element=\"142ea9d6-80a9-421a-943f-f23e8ef946a2\")>,\n",
       " <selenium.webdriver.remote.webelement.WebElement (session=\"f93f575539ad2db2d95db3bf885b1d2f\", element=\"8d08ba00-fc46-433f-b1b3-e612a14b7514\")>,\n",
       " <selenium.webdriver.remote.webelement.WebElement (session=\"f93f575539ad2db2d95db3bf885b1d2f\", element=\"d0c9f470-024e-46ac-81d0-7e7917fb601b\")>,\n",
       " <selenium.webdriver.remote.webelement.WebElement (session=\"f93f575539ad2db2d95db3bf885b1d2f\", element=\"c21dcc9d-3912-4bab-b3f6-eeffc874d87e\")>,\n",
       " <selenium.webdriver.remote.webelement.WebElement (session=\"f93f575539ad2db2d95db3bf885b1d2f\", element=\"08e292f4-79c4-4d8e-b8e9-e9453e38e8a5\")>,\n",
       " <selenium.webdriver.remote.webelement.WebElement (session=\"f93f575539ad2db2d95db3bf885b1d2f\", element=\"a454334b-7f8b-4f0f-814c-a6df7d31285b\")>,\n",
       " <selenium.webdriver.remote.webelement.WebElement (session=\"f93f575539ad2db2d95db3bf885b1d2f\", element=\"fc4fca57-f219-4fb2-a697-dee445a9735d\")>,\n",
       " <selenium.webdriver.remote.webelement.WebElement (session=\"f93f575539ad2db2d95db3bf885b1d2f\", element=\"052012d2-001f-424a-a836-9e8fde0e9a19\")>,\n",
       " <selenium.webdriver.remote.webelement.WebElement (session=\"f93f575539ad2db2d95db3bf885b1d2f\", element=\"09e83e0f-159a-4dbf-8a30-015352f3cf66\")>,\n",
       " <selenium.webdriver.remote.webelement.WebElement (session=\"f93f575539ad2db2d95db3bf885b1d2f\", element=\"dc0e0200-beae-4512-8d44-9a0ecae9cfde\")>,\n",
       " <selenium.webdriver.remote.webelement.WebElement (session=\"f93f575539ad2db2d95db3bf885b1d2f\", element=\"6c8458a3-a213-41ec-a2ee-e77493768782\")>,\n",
       " <selenium.webdriver.remote.webelement.WebElement (session=\"f93f575539ad2db2d95db3bf885b1d2f\", element=\"502e4dca-6847-4f23-8d15-d500f52b26d8\")>,\n",
       " <selenium.webdriver.remote.webelement.WebElement (session=\"f93f575539ad2db2d95db3bf885b1d2f\", element=\"9c57bc57-0300-40bc-abef-a7679c6edfd2\")>,\n",
       " <selenium.webdriver.remote.webelement.WebElement (session=\"f93f575539ad2db2d95db3bf885b1d2f\", element=\"9add7428-bfa8-4d76-a2ec-981b9893fd6f\")>,\n",
       " <selenium.webdriver.remote.webelement.WebElement (session=\"f93f575539ad2db2d95db3bf885b1d2f\", element=\"6795525f-1dcf-464e-b728-7b6acdce9518\")>,\n",
       " <selenium.webdriver.remote.webelement.WebElement (session=\"f93f575539ad2db2d95db3bf885b1d2f\", element=\"140e11f6-84cf-4ae6-b9f4-d13b499fd232\")>,\n",
       " <selenium.webdriver.remote.webelement.WebElement (session=\"f93f575539ad2db2d95db3bf885b1d2f\", element=\"65767686-247a-4949-b255-df7780ab2051\")>,\n",
       " <selenium.webdriver.remote.webelement.WebElement (session=\"f93f575539ad2db2d95db3bf885b1d2f\", element=\"770b0146-81db-42a4-9310-a3b9db28dd72\")>,\n",
       " <selenium.webdriver.remote.webelement.WebElement (session=\"f93f575539ad2db2d95db3bf885b1d2f\", element=\"c81b8e7a-5ebf-4e1d-bbd9-3a5bafffed66\")>,\n",
       " <selenium.webdriver.remote.webelement.WebElement (session=\"f93f575539ad2db2d95db3bf885b1d2f\", element=\"2dba8a34-e79e-4ce5-b6dd-39ea1092bc53\")>,\n",
       " <selenium.webdriver.remote.webelement.WebElement (session=\"f93f575539ad2db2d95db3bf885b1d2f\", element=\"4fb969f9-05de-4c3e-9b36-93be75e89fb9\")>,\n",
       " <selenium.webdriver.remote.webelement.WebElement (session=\"f93f575539ad2db2d95db3bf885b1d2f\", element=\"3f776c68-6c2d-4bc6-9086-5a0c7b079c31\")>,\n",
       " <selenium.webdriver.remote.webelement.WebElement (session=\"f93f575539ad2db2d95db3bf885b1d2f\", element=\"d4b15549-a95a-455c-958e-d88445a84cbb\")>,\n",
       " <selenium.webdriver.remote.webelement.WebElement (session=\"f93f575539ad2db2d95db3bf885b1d2f\", element=\"1cb7d297-3d7f-4e92-9585-f96a04d51895\")>,\n",
       " <selenium.webdriver.remote.webelement.WebElement (session=\"f93f575539ad2db2d95db3bf885b1d2f\", element=\"9b5fb25b-dcfd-4ef2-980c-d6e9b3fa1bdf\")>,\n",
       " <selenium.webdriver.remote.webelement.WebElement (session=\"f93f575539ad2db2d95db3bf885b1d2f\", element=\"e72cf4c2-5d0b-46c9-9c5f-b3b8567519db\")>,\n",
       " <selenium.webdriver.remote.webelement.WebElement (session=\"f93f575539ad2db2d95db3bf885b1d2f\", element=\"bd9e4c18-dad4-4d63-8680-f4bde3fcfe41\")>,\n",
       " <selenium.webdriver.remote.webelement.WebElement (session=\"f93f575539ad2db2d95db3bf885b1d2f\", element=\"f3cb36ae-c7b1-44d4-ac17-23ae3fcb0d9b\")>,\n",
       " <selenium.webdriver.remote.webelement.WebElement (session=\"f93f575539ad2db2d95db3bf885b1d2f\", element=\"a4b1aab6-1b04-4173-b658-a1d6c43cdca7\")>,\n",
       " <selenium.webdriver.remote.webelement.WebElement (session=\"f93f575539ad2db2d95db3bf885b1d2f\", element=\"7191e6b7-b52b-47c5-af0b-86e6cb957653\")>,\n",
       " <selenium.webdriver.remote.webelement.WebElement (session=\"f93f575539ad2db2d95db3bf885b1d2f\", element=\"f78518c6-31f4-45ca-a49d-2bf81d7b8b38\")>,\n",
       " <selenium.webdriver.remote.webelement.WebElement (session=\"f93f575539ad2db2d95db3bf885b1d2f\", element=\"74b4489b-faaa-4c24-94aa-c5d34f8bef98\")>,\n",
       " <selenium.webdriver.remote.webelement.WebElement (session=\"f93f575539ad2db2d95db3bf885b1d2f\", element=\"1784ff2a-1c6d-45f7-ab2f-ff527a14f3cc\")>,\n",
       " <selenium.webdriver.remote.webelement.WebElement (session=\"f93f575539ad2db2d95db3bf885b1d2f\", element=\"89323100-0e32-4a8b-ad36-e4c6e0e6c641\")>,\n",
       " <selenium.webdriver.remote.webelement.WebElement (session=\"f93f575539ad2db2d95db3bf885b1d2f\", element=\"1ba4cf78-0d40-4c3e-a547-168908159b94\")>,\n",
       " <selenium.webdriver.remote.webelement.WebElement (session=\"f93f575539ad2db2d95db3bf885b1d2f\", element=\"dd01e9d0-8fd9-48ab-a76d-fe76a8d8370d\")>,\n",
       " <selenium.webdriver.remote.webelement.WebElement (session=\"f93f575539ad2db2d95db3bf885b1d2f\", element=\"4187d2b7-9274-47e2-a471-3c35b2151fee\")>,\n",
       " <selenium.webdriver.remote.webelement.WebElement (session=\"f93f575539ad2db2d95db3bf885b1d2f\", element=\"08287a8f-61c0-4b41-ae86-592424f318fa\")>,\n",
       " <selenium.webdriver.remote.webelement.WebElement (session=\"f93f575539ad2db2d95db3bf885b1d2f\", element=\"62ee3cf7-df15-4e5c-98b6-f12d9145e9b0\")>,\n",
       " <selenium.webdriver.remote.webelement.WebElement (session=\"f93f575539ad2db2d95db3bf885b1d2f\", element=\"3cc9f6ed-f458-4b65-8b90-78aae5f7bec8\")>,\n",
       " <selenium.webdriver.remote.webelement.WebElement (session=\"f93f575539ad2db2d95db3bf885b1d2f\", element=\"040d8d01-3324-43c8-9979-c8100f5298c7\")>,\n",
       " <selenium.webdriver.remote.webelement.WebElement (session=\"f93f575539ad2db2d95db3bf885b1d2f\", element=\"5a257140-30de-43cb-8a8e-5f9e6f53eab5\")>,\n",
       " <selenium.webdriver.remote.webelement.WebElement (session=\"f93f575539ad2db2d95db3bf885b1d2f\", element=\"d72ca458-4e5a-4cca-bb54-ae3d2f069be2\")>,\n",
       " <selenium.webdriver.remote.webelement.WebElement (session=\"f93f575539ad2db2d95db3bf885b1d2f\", element=\"1fbaf82e-bbef-4695-ab93-8ca3b76c464f\")>,\n",
       " <selenium.webdriver.remote.webelement.WebElement (session=\"f93f575539ad2db2d95db3bf885b1d2f\", element=\"b2370bf7-5c20-4725-9dfe-cab4b19b30d2\")>,\n",
       " <selenium.webdriver.remote.webelement.WebElement (session=\"f93f575539ad2db2d95db3bf885b1d2f\", element=\"19eebca9-23a1-4dba-be4c-0745327546cc\")>,\n",
       " <selenium.webdriver.remote.webelement.WebElement (session=\"f93f575539ad2db2d95db3bf885b1d2f\", element=\"2c87b213-9ff7-42c1-acd6-e80236c1cdb4\")>,\n",
       " <selenium.webdriver.remote.webelement.WebElement (session=\"f93f575539ad2db2d95db3bf885b1d2f\", element=\"2782136f-c888-445d-a8bd-29f1e801fe66\")>,\n",
       " <selenium.webdriver.remote.webelement.WebElement (session=\"f93f575539ad2db2d95db3bf885b1d2f\", element=\"b3c4f3fd-7334-4ce9-b898-c1f427dd8ebd\")>,\n",
       " <selenium.webdriver.remote.webelement.WebElement (session=\"f93f575539ad2db2d95db3bf885b1d2f\", element=\"20ddfb73-5d4d-4813-bb15-7c86a9103ce9\")>,\n",
       " <selenium.webdriver.remote.webelement.WebElement (session=\"f93f575539ad2db2d95db3bf885b1d2f\", element=\"5c131a9a-4a8c-47ed-b269-ad2b27d29bcf\")>,\n",
       " <selenium.webdriver.remote.webelement.WebElement (session=\"f93f575539ad2db2d95db3bf885b1d2f\", element=\"4706cbaf-f3cf-4e0b-b0fa-c3ec9e667bd9\")>,\n",
       " <selenium.webdriver.remote.webelement.WebElement (session=\"f93f575539ad2db2d95db3bf885b1d2f\", element=\"01e725d0-5549-4f33-a391-3211c2f88793\")>,\n",
       " <selenium.webdriver.remote.webelement.WebElement (session=\"f93f575539ad2db2d95db3bf885b1d2f\", element=\"10c3aaf3-7308-4b85-b6d2-6e4cfdc9979a\")>,\n",
       " <selenium.webdriver.remote.webelement.WebElement (session=\"f93f575539ad2db2d95db3bf885b1d2f\", element=\"e99b1fe6-11cf-454d-a429-1c0582a23c83\")>,\n",
       " <selenium.webdriver.remote.webelement.WebElement (session=\"f93f575539ad2db2d95db3bf885b1d2f\", element=\"0195ed91-e1dc-4717-8eb6-87c8aad59ff6\")>,\n",
       " <selenium.webdriver.remote.webelement.WebElement (session=\"f93f575539ad2db2d95db3bf885b1d2f\", element=\"660a032e-432c-4c2f-9c34-de8c5c2f1f48\")>,\n",
       " <selenium.webdriver.remote.webelement.WebElement (session=\"f93f575539ad2db2d95db3bf885b1d2f\", element=\"4dff1f7d-a315-448d-8739-507d642bf3ab\")>,\n",
       " <selenium.webdriver.remote.webelement.WebElement (session=\"f93f575539ad2db2d95db3bf885b1d2f\", element=\"251068f9-720a-4493-ace6-8a88a1e4da69\")>,\n",
       " <selenium.webdriver.remote.webelement.WebElement (session=\"f93f575539ad2db2d95db3bf885b1d2f\", element=\"d45021d7-68bb-4156-9c42-420caa1791af\")>,\n",
       " <selenium.webdriver.remote.webelement.WebElement (session=\"f93f575539ad2db2d95db3bf885b1d2f\", element=\"5bd3e22d-c25e-4075-8084-f15c981b5519\")>,\n",
       " <selenium.webdriver.remote.webelement.WebElement (session=\"f93f575539ad2db2d95db3bf885b1d2f\", element=\"98b497d0-b3c8-4bbc-ac6f-bfd52203def6\")>,\n",
       " <selenium.webdriver.remote.webelement.WebElement (session=\"f93f575539ad2db2d95db3bf885b1d2f\", element=\"575af963-d3ce-4c47-a0a5-c20815dd79ac\")>,\n",
       " <selenium.webdriver.remote.webelement.WebElement (session=\"f93f575539ad2db2d95db3bf885b1d2f\", element=\"c39a13dc-17cc-460c-99c4-2068ba21d70b\")>,\n",
       " <selenium.webdriver.remote.webelement.WebElement (session=\"f93f575539ad2db2d95db3bf885b1d2f\", element=\"d6c58ae7-2c77-462f-a088-eb00334f82df\")>,\n",
       " <selenium.webdriver.remote.webelement.WebElement (session=\"f93f575539ad2db2d95db3bf885b1d2f\", element=\"07226a49-90c2-4d32-9bd3-bf20a3c8cce3\")>,\n",
       " <selenium.webdriver.remote.webelement.WebElement (session=\"f93f575539ad2db2d95db3bf885b1d2f\", element=\"03e1d62e-de4a-4a14-9bd2-55b7760d1986\")>,\n",
       " <selenium.webdriver.remote.webelement.WebElement (session=\"f93f575539ad2db2d95db3bf885b1d2f\", element=\"7a5aa336-7af6-4539-8261-870636ba398c\")>,\n",
       " <selenium.webdriver.remote.webelement.WebElement (session=\"f93f575539ad2db2d95db3bf885b1d2f\", element=\"f4cbe990-e778-4fbb-9c99-d0bfc09e40e4\")>,\n",
       " <selenium.webdriver.remote.webelement.WebElement (session=\"f93f575539ad2db2d95db3bf885b1d2f\", element=\"7d3360d8-8cf8-4e38-9264-065608bf3458\")>,\n",
       " <selenium.webdriver.remote.webelement.WebElement (session=\"f93f575539ad2db2d95db3bf885b1d2f\", element=\"dba1235e-edd3-48d9-8c52-fca40b75f1b7\")>,\n",
       " <selenium.webdriver.remote.webelement.WebElement (session=\"f93f575539ad2db2d95db3bf885b1d2f\", element=\"b083878f-9120-4467-aa96-e4d30cc39607\")>,\n",
       " <selenium.webdriver.remote.webelement.WebElement (session=\"f93f575539ad2db2d95db3bf885b1d2f\", element=\"b659b50a-9d38-4516-9000-a37bed6f3396\")>,\n",
       " <selenium.webdriver.remote.webelement.WebElement (session=\"f93f575539ad2db2d95db3bf885b1d2f\", element=\"70f85804-ee10-429c-9796-75ad81dc30ac\")>,\n",
       " <selenium.webdriver.remote.webelement.WebElement (session=\"f93f575539ad2db2d95db3bf885b1d2f\", element=\"5dd0ade2-4bc0-4436-aec4-526febe36737\")>,\n",
       " <selenium.webdriver.remote.webelement.WebElement (session=\"f93f575539ad2db2d95db3bf885b1d2f\", element=\"0ebea991-22cc-4c9b-9a31-2a952acf3389\")>,\n",
       " <selenium.webdriver.remote.webelement.WebElement (session=\"f93f575539ad2db2d95db3bf885b1d2f\", element=\"5b4efffd-73f6-4a35-88d3-f5f300526899\")>,\n",
       " <selenium.webdriver.remote.webelement.WebElement (session=\"f93f575539ad2db2d95db3bf885b1d2f\", element=\"e34d0ad1-a7c7-4819-bd7f-326f364a648f\")>,\n",
       " <selenium.webdriver.remote.webelement.WebElement (session=\"f93f575539ad2db2d95db3bf885b1d2f\", element=\"4153f89a-6812-4e42-92f8-ade2a7cc2f9a\")>,\n",
       " <selenium.webdriver.remote.webelement.WebElement (session=\"f93f575539ad2db2d95db3bf885b1d2f\", element=\"800e5524-18d3-4058-99e3-5d157fcea2c4\")>,\n",
       " <selenium.webdriver.remote.webelement.WebElement (session=\"f93f575539ad2db2d95db3bf885b1d2f\", element=\"d80a1e2b-7fc0-4b8c-bdad-b05c449671ff\")>,\n",
       " <selenium.webdriver.remote.webelement.WebElement (session=\"f93f575539ad2db2d95db3bf885b1d2f\", element=\"b522096a-d596-4600-978e-9bd506150f4b\")>,\n",
       " <selenium.webdriver.remote.webelement.WebElement (session=\"f93f575539ad2db2d95db3bf885b1d2f\", element=\"aef53771-1a6a-41ae-b6cb-05ea5390cc34\")>,\n",
       " <selenium.webdriver.remote.webelement.WebElement (session=\"f93f575539ad2db2d95db3bf885b1d2f\", element=\"3abaf8a8-69ec-4436-9d8b-facee87b1676\")>,\n",
       " <selenium.webdriver.remote.webelement.WebElement (session=\"f93f575539ad2db2d95db3bf885b1d2f\", element=\"3c4b1c8c-b124-4bc9-a6fc-e6c4b7f5bbc7\")>,\n",
       " <selenium.webdriver.remote.webelement.WebElement (session=\"f93f575539ad2db2d95db3bf885b1d2f\", element=\"78876627-bfe0-4642-acee-c5503327a7a8\")>,\n",
       " <selenium.webdriver.remote.webelement.WebElement (session=\"f93f575539ad2db2d95db3bf885b1d2f\", element=\"ad4bfba2-2faf-4c06-a2f0-930e9daae70c\")>,\n",
       " <selenium.webdriver.remote.webelement.WebElement (session=\"f93f575539ad2db2d95db3bf885b1d2f\", element=\"2458f822-11b7-4289-8403-1c7aae09b8ec\")>,\n",
       " <selenium.webdriver.remote.webelement.WebElement (session=\"f93f575539ad2db2d95db3bf885b1d2f\", element=\"2b6a4e65-811f-44ac-a313-c066eab37140\")>,\n",
       " <selenium.webdriver.remote.webelement.WebElement (session=\"f93f575539ad2db2d95db3bf885b1d2f\", element=\"5b0384e0-cef8-45ef-a3b2-4a861b0c4d3e\")>,\n",
       " <selenium.webdriver.remote.webelement.WebElement (session=\"f93f575539ad2db2d95db3bf885b1d2f\", element=\"8b6143cf-2c03-4d88-893f-d421c9b1a217\")>,\n",
       " <selenium.webdriver.remote.webelement.WebElement (session=\"f93f575539ad2db2d95db3bf885b1d2f\", element=\"e0ed5d10-4a55-4c9f-91c5-88a6669f4d3b\")>,\n",
       " <selenium.webdriver.remote.webelement.WebElement (session=\"f93f575539ad2db2d95db3bf885b1d2f\", element=\"698eb0c7-b647-4010-af07-8051c0527a17\")>,\n",
       " <selenium.webdriver.remote.webelement.WebElement (session=\"f93f575539ad2db2d95db3bf885b1d2f\", element=\"af1a0bd6-08ed-4f83-a5c1-fd3a9a43e765\")>,\n",
       " <selenium.webdriver.remote.webelement.WebElement (session=\"f93f575539ad2db2d95db3bf885b1d2f\", element=\"0af8b63d-cc3b-4941-976a-a39325627821\")>,\n",
       " <selenium.webdriver.remote.webelement.WebElement (session=\"f93f575539ad2db2d95db3bf885b1d2f\", element=\"3efaaed5-0397-4e5d-aaa2-94752eb1da78\")>,\n",
       " <selenium.webdriver.remote.webelement.WebElement (session=\"f93f575539ad2db2d95db3bf885b1d2f\", element=\"3dd8d6a4-dc33-4da8-8f9a-512e1842a145\")>,\n",
       " <selenium.webdriver.remote.webelement.WebElement (session=\"f93f575539ad2db2d95db3bf885b1d2f\", element=\"72c5b16b-9601-4e3a-9fe4-501e17147ff8\")>,\n",
       " <selenium.webdriver.remote.webelement.WebElement (session=\"f93f575539ad2db2d95db3bf885b1d2f\", element=\"c87baea9-bdee-4ec3-99da-69709b5f96bc\")>,\n",
       " <selenium.webdriver.remote.webelement.WebElement (session=\"f93f575539ad2db2d95db3bf885b1d2f\", element=\"d37b048d-d81c-4caf-bd20-dbb507674da7\")>,\n",
       " <selenium.webdriver.remote.webelement.WebElement (session=\"f93f575539ad2db2d95db3bf885b1d2f\", element=\"043210f1-4404-4088-a7cb-2c4e60132815\")>,\n",
       " <selenium.webdriver.remote.webelement.WebElement (session=\"f93f575539ad2db2d95db3bf885b1d2f\", element=\"d2ef9b67-0ee8-4f70-84e6-e11025622d04\")>,\n",
       " <selenium.webdriver.remote.webelement.WebElement (session=\"f93f575539ad2db2d95db3bf885b1d2f\", element=\"7abc767c-9b70-4b5a-8184-dd2aadc6d588\")>,\n",
       " <selenium.webdriver.remote.webelement.WebElement (session=\"f93f575539ad2db2d95db3bf885b1d2f\", element=\"644c3afe-573a-4198-abe0-3cd04b1b7e30\")>,\n",
       " <selenium.webdriver.remote.webelement.WebElement (session=\"f93f575539ad2db2d95db3bf885b1d2f\", element=\"02b06633-f343-461c-acf2-1b805f5300f1\")>,\n",
       " <selenium.webdriver.remote.webelement.WebElement (session=\"f93f575539ad2db2d95db3bf885b1d2f\", element=\"2cdb11e9-a3a8-40dc-882e-8e9d29905eed\")>,\n",
       " <selenium.webdriver.remote.webelement.WebElement (session=\"f93f575539ad2db2d95db3bf885b1d2f\", element=\"66f27517-ced0-443a-9c75-f9eba7a630e0\")>,\n",
       " <selenium.webdriver.remote.webelement.WebElement (session=\"f93f575539ad2db2d95db3bf885b1d2f\", element=\"70026570-dddd-405b-93ae-6970c40ffe78\")>,\n",
       " <selenium.webdriver.remote.webelement.WebElement (session=\"f93f575539ad2db2d95db3bf885b1d2f\", element=\"d62fb43f-4ced-4934-a398-4c5a8ccc604a\")>,\n",
       " <selenium.webdriver.remote.webelement.WebElement (session=\"f93f575539ad2db2d95db3bf885b1d2f\", element=\"d1ff9f39-4931-418f-8df9-22b51355bb50\")>,\n",
       " <selenium.webdriver.remote.webelement.WebElement (session=\"f93f575539ad2db2d95db3bf885b1d2f\", element=\"b6b9f477-9009-4f0d-a63b-6bb8dd140a88\")>,\n",
       " <selenium.webdriver.remote.webelement.WebElement (session=\"f93f575539ad2db2d95db3bf885b1d2f\", element=\"2b74d057-dd73-4eb7-acce-3e2f7f20de6f\")>,\n",
       " <selenium.webdriver.remote.webelement.WebElement (session=\"f93f575539ad2db2d95db3bf885b1d2f\", element=\"de399b93-2798-41e3-a4f9-d63f9e2004ba\")>,\n",
       " <selenium.webdriver.remote.webelement.WebElement (session=\"f93f575539ad2db2d95db3bf885b1d2f\", element=\"5507da27-1ccc-4fe0-8f7c-8647b3559624\")>,\n",
       " <selenium.webdriver.remote.webelement.WebElement (session=\"f93f575539ad2db2d95db3bf885b1d2f\", element=\"d0dd4939-7310-48d0-8b07-6faa1793dcba\")>,\n",
       " <selenium.webdriver.remote.webelement.WebElement (session=\"f93f575539ad2db2d95db3bf885b1d2f\", element=\"184c1242-a4e6-48ca-9b6b-63cf57a87af0\")>,\n",
       " <selenium.webdriver.remote.webelement.WebElement (session=\"f93f575539ad2db2d95db3bf885b1d2f\", element=\"7f42c26f-9a22-4d9b-b048-b742cded4fc2\")>,\n",
       " <selenium.webdriver.remote.webelement.WebElement (session=\"f93f575539ad2db2d95db3bf885b1d2f\", element=\"b6d53605-0200-44cf-ace3-8ea060ce684d\")>,\n",
       " <selenium.webdriver.remote.webelement.WebElement (session=\"f93f575539ad2db2d95db3bf885b1d2f\", element=\"dc1697e7-e625-43e1-b60a-8e61d8c02972\")>,\n",
       " <selenium.webdriver.remote.webelement.WebElement (session=\"f93f575539ad2db2d95db3bf885b1d2f\", element=\"b0f42bf3-1550-4ff2-9f41-8ed390e30c14\")>,\n",
       " <selenium.webdriver.remote.webelement.WebElement (session=\"f93f575539ad2db2d95db3bf885b1d2f\", element=\"e16d81d5-f980-4aad-bb1f-754c2e499ec0\")>,\n",
       " <selenium.webdriver.remote.webelement.WebElement (session=\"f93f575539ad2db2d95db3bf885b1d2f\", element=\"22bc7afc-2ba3-4de5-bb0c-b49be41b2892\")>,\n",
       " <selenium.webdriver.remote.webelement.WebElement (session=\"f93f575539ad2db2d95db3bf885b1d2f\", element=\"ad71de5b-7b2d-43cf-a764-bfb06c99b861\")>,\n",
       " <selenium.webdriver.remote.webelement.WebElement (session=\"f93f575539ad2db2d95db3bf885b1d2f\", element=\"a95018c3-be4c-4c33-962b-3f56ff55aaf9\")>,\n",
       " <selenium.webdriver.remote.webelement.WebElement (session=\"f93f575539ad2db2d95db3bf885b1d2f\", element=\"38471004-0313-4e01-b7e6-9ec8ecbb880e\")>,\n",
       " <selenium.webdriver.remote.webelement.WebElement (session=\"f93f575539ad2db2d95db3bf885b1d2f\", element=\"5ee4843f-cbbe-4313-aa57-4698a41e0ca5\")>,\n",
       " <selenium.webdriver.remote.webelement.WebElement (session=\"f93f575539ad2db2d95db3bf885b1d2f\", element=\"35b38a50-103c-44a7-8fdc-94e63aa7822a\")>,\n",
       " <selenium.webdriver.remote.webelement.WebElement (session=\"f93f575539ad2db2d95db3bf885b1d2f\", element=\"ed124663-80b1-4acc-b816-94f9308578b7\")>,\n",
       " <selenium.webdriver.remote.webelement.WebElement (session=\"f93f575539ad2db2d95db3bf885b1d2f\", element=\"ef8e1f42-dd74-41c6-85a7-f66279a167d3\")>,\n",
       " <selenium.webdriver.remote.webelement.WebElement (session=\"f93f575539ad2db2d95db3bf885b1d2f\", element=\"35855f9c-6d78-4bfc-89b3-57ba5a942272\")>,\n",
       " <selenium.webdriver.remote.webelement.WebElement (session=\"f93f575539ad2db2d95db3bf885b1d2f\", element=\"09288131-410a-4440-bf5d-b136f30b60b3\")>,\n",
       " <selenium.webdriver.remote.webelement.WebElement (session=\"f93f575539ad2db2d95db3bf885b1d2f\", element=\"a819d97f-0fc6-4230-81e6-3cf6ed6022e3\")>,\n",
       " <selenium.webdriver.remote.webelement.WebElement (session=\"f93f575539ad2db2d95db3bf885b1d2f\", element=\"691998a6-5a83-4346-9a75-63c706623d0f\")>,\n",
       " <selenium.webdriver.remote.webelement.WebElement (session=\"f93f575539ad2db2d95db3bf885b1d2f\", element=\"2848fe11-81e0-4a4b-8bf1-816f1b5ccd0c\")>,\n",
       " <selenium.webdriver.remote.webelement.WebElement (session=\"f93f575539ad2db2d95db3bf885b1d2f\", element=\"017fb3bb-dda6-4b5d-8279-8669824fc714\")>,\n",
       " <selenium.webdriver.remote.webelement.WebElement (session=\"f93f575539ad2db2d95db3bf885b1d2f\", element=\"78fcb250-7214-4228-a1cb-8ab36019c5cb\")>,\n",
       " <selenium.webdriver.remote.webelement.WebElement (session=\"f93f575539ad2db2d95db3bf885b1d2f\", element=\"39bd9307-adda-4ba3-a7fc-312d83118789\")>,\n",
       " <selenium.webdriver.remote.webelement.WebElement (session=\"f93f575539ad2db2d95db3bf885b1d2f\", element=\"a7ca8e88-3df1-4d69-bbfa-d1e9c9754369\")>,\n",
       " <selenium.webdriver.remote.webelement.WebElement (session=\"f93f575539ad2db2d95db3bf885b1d2f\", element=\"b53f50e2-f558-41be-945d-743fbe482ca4\")>,\n",
       " <selenium.webdriver.remote.webelement.WebElement (session=\"f93f575539ad2db2d95db3bf885b1d2f\", element=\"9f691cd4-9500-4e28-a2a3-88f17a0b85e7\")>,\n",
       " <selenium.webdriver.remote.webelement.WebElement (session=\"f93f575539ad2db2d95db3bf885b1d2f\", element=\"70b70bc2-8c59-4f1d-bb19-fd9860bb5f16\")>,\n",
       " <selenium.webdriver.remote.webelement.WebElement (session=\"f93f575539ad2db2d95db3bf885b1d2f\", element=\"9288993f-e8e0-4cec-8e48-03119991d70d\")>,\n",
       " <selenium.webdriver.remote.webelement.WebElement (session=\"f93f575539ad2db2d95db3bf885b1d2f\", element=\"c51f295b-a62a-4d86-a997-66d03eb0c794\")>,\n",
       " <selenium.webdriver.remote.webelement.WebElement (session=\"f93f575539ad2db2d95db3bf885b1d2f\", element=\"87bb0296-7bcc-4d3a-b3e9-073f06cfd3d1\")>,\n",
       " <selenium.webdriver.remote.webelement.WebElement (session=\"f93f575539ad2db2d95db3bf885b1d2f\", element=\"6073fa3c-c6cb-42b3-9cc7-63c54923de95\")>,\n",
       " <selenium.webdriver.remote.webelement.WebElement (session=\"f93f575539ad2db2d95db3bf885b1d2f\", element=\"2c28611b-f8c0-4dd7-96c6-e04550601bba\")>,\n",
       " <selenium.webdriver.remote.webelement.WebElement (session=\"f93f575539ad2db2d95db3bf885b1d2f\", element=\"516cf2d2-6712-4f2a-af8a-e3d32a1fe150\")>,\n",
       " <selenium.webdriver.remote.webelement.WebElement (session=\"f93f575539ad2db2d95db3bf885b1d2f\", element=\"ba38bf23-15a6-49bb-890f-b01bbd226a14\")>,\n",
       " <selenium.webdriver.remote.webelement.WebElement (session=\"f93f575539ad2db2d95db3bf885b1d2f\", element=\"2935c089-f78d-4631-880d-104228755c9c\")>,\n",
       " <selenium.webdriver.remote.webelement.WebElement (session=\"f93f575539ad2db2d95db3bf885b1d2f\", element=\"398d525c-187f-46a2-aed0-37e46140a3f9\")>,\n",
       " <selenium.webdriver.remote.webelement.WebElement (session=\"f93f575539ad2db2d95db3bf885b1d2f\", element=\"37836cb2-8f5c-49e7-b1ac-bf25ebef8402\")>,\n",
       " <selenium.webdriver.remote.webelement.WebElement (session=\"f93f575539ad2db2d95db3bf885b1d2f\", element=\"bac49c5a-4c8d-4388-a905-b4a1bb39f60b\")>,\n",
       " <selenium.webdriver.remote.webelement.WebElement (session=\"f93f575539ad2db2d95db3bf885b1d2f\", element=\"eca332ac-e0a5-4e4d-ac57-473bcd716e3d\")>,\n",
       " <selenium.webdriver.remote.webelement.WebElement (session=\"f93f575539ad2db2d95db3bf885b1d2f\", element=\"be5102f7-98d5-41db-b604-327484a7727c\")>,\n",
       " <selenium.webdriver.remote.webelement.WebElement (session=\"f93f575539ad2db2d95db3bf885b1d2f\", element=\"cf140a26-6840-43b1-813d-4cf2ef40990f\")>,\n",
       " <selenium.webdriver.remote.webelement.WebElement (session=\"f93f575539ad2db2d95db3bf885b1d2f\", element=\"bd6b4b93-04ba-4009-9abe-a599e61c457f\")>,\n",
       " <selenium.webdriver.remote.webelement.WebElement (session=\"f93f575539ad2db2d95db3bf885b1d2f\", element=\"67a0efe6-1668-4e6f-8864-bdfdefe0b22a\")>,\n",
       " <selenium.webdriver.remote.webelement.WebElement (session=\"f93f575539ad2db2d95db3bf885b1d2f\", element=\"87933552-8587-4392-9fbe-24383d7bfa99\")>]"
      ]
     },
     "execution_count": 24,
     "metadata": {},
     "output_type": "execute_result"
    }
   ],
   "source": [
    "py = driver.find_elements(By.TAG_NAME, \"a\")\n",
    "py"
   ]
  },
  {
   "cell_type": "code",
   "execution_count": 25,
   "metadata": {},
   "outputs": [
    {
     "data": {
      "text/plain": [
       "['https://en.wikipedia.org/wiki/Python#bodyContent',\n",
       " 'https://en.wikipedia.org/wiki/Main_Page',\n",
       " 'https://en.wikipedia.org/wiki/Special:Search',\n",
       " 'https://en.wikipedia.org/w/index.php?title=Special:CreateAccount&returnto=Python',\n",
       " 'https://en.wikipedia.org/w/index.php?title=Special:CreateAccount&returnto=Python',\n",
       " 'https://en.wikipedia.org/w/index.php?title=Special:UserLogin&returnto=Python',\n",
       " 'https://en.wikipedia.org/wiki/Help:Introduction',\n",
       " 'https://en.wikipedia.org/wiki/Special:MyTalk',\n",
       " 'https://en.wikipedia.org/wiki/Special:MyContributions',\n",
       " 'https://en.wikipedia.org/wiki/Main_Page',\n",
       " 'https://en.wikipedia.org/wiki/Wikipedia:Contents',\n",
       " 'https://en.wikipedia.org/wiki/Portal:Current_events',\n",
       " 'https://en.wikipedia.org/wiki/Special:Random',\n",
       " 'https://en.wikipedia.org/wiki/Wikipedia:About',\n",
       " 'https://en.wikipedia.org/wiki/Wikipedia:Contact_us',\n",
       " 'https://donate.wikimedia.org/wiki/Special:FundraiserRedirector?utm_source=donate&utm_medium=sidebar&utm_campaign=C13_en.wikipedia.org&uselang=en',\n",
       " 'https://en.wikipedia.org/wiki/Help:Contents',\n",
       " 'https://en.wikipedia.org/wiki/Help:Introduction',\n",
       " 'https://en.wikipedia.org/wiki/Wikipedia:Community_portal',\n",
       " 'https://en.wikipedia.org/wiki/Special:RecentChanges',\n",
       " 'https://en.wikipedia.org/wiki/Wikipedia:File_upload_wizard',\n",
       " 'https://en.wikipedia.org/wiki/Special:WhatLinksHere/Python',\n",
       " 'https://en.wikipedia.org/wiki/Special:RecentChangesLinked/Python',\n",
       " 'https://en.wikipedia.org/wiki/Wikipedia:File_Upload_Wizard',\n",
       " 'https://en.wikipedia.org/wiki/Special:SpecialPages',\n",
       " 'https://en.wikipedia.org/w/index.php?title=Python&oldid=1134693155',\n",
       " 'https://en.wikipedia.org/w/index.php?title=Python&action=info',\n",
       " 'https://en.wikipedia.org/w/index.php?title=Special:CiteThisPage&page=Python&id=1134693155&wpFormIdentifier=titleform',\n",
       " 'https://www.wikidata.org/wiki/Special:EntityPage/Q747452',\n",
       " 'https://www.wikidata.org/wiki/Special:EntityPage/Q747452#sitelinks-wikipedia',\n",
       " 'https://en.wikipedia.org/w/index.php?title=Special:DownloadAsPdf&page=Python&action=show-download-screen',\n",
       " 'https://en.wikipedia.org/w/index.php?title=Python&printable=yes',\n",
       " 'https://commons.wikimedia.org/wiki/Category:Python',\n",
       " 'https://en.wikipedia.org/wiki/Python#p-lang-btn',\n",
       " 'https://en.wikipedia.org/wiki/Python#',\n",
       " 'https://en.wikipedia.org/wiki/Python#Snakes',\n",
       " 'https://en.wikipedia.org/wiki/Python#Computing',\n",
       " 'https://en.wikipedia.org/wiki/Python#People',\n",
       " 'https://en.wikipedia.org/wiki/Python#Roller_coasters',\n",
       " 'https://en.wikipedia.org/wiki/Python#Vehicles',\n",
       " 'https://en.wikipedia.org/wiki/Python#Weaponry',\n",
       " 'https://en.wikipedia.org/wiki/Python#Other_uses',\n",
       " 'https://en.wikipedia.org/wiki/Python#See_also',\n",
       " 'https://af.wikipedia.org/wiki/Python',\n",
       " 'https://als.wikipedia.org/wiki/Python',\n",
       " 'https://ar.wikipedia.org/wiki/%D8%A8%D8%A7%D9%8A%D8%AB%D9%88%D9%86_(%D8%AA%D9%88%D8%B6%D9%8A%D8%AD)',\n",
       " 'https://az.wikipedia.org/wiki/Python_(d%C9%99qiql%C9%99%C5%9Fdirm%C9%99)',\n",
       " 'https://bn.wikipedia.org/wiki/%E0%A6%AA%E0%A6%BE%E0%A6%87%E0%A6%A5%E0%A6%A8_(%E0%A6%A6%E0%A7%8D%E0%A6%AC%E0%A7%8D%E0%A6%AF%E0%A6%B0%E0%A7%8D%E0%A6%A5%E0%A6%A4%E0%A6%BE_%E0%A6%A8%E0%A6%BF%E0%A6%B0%E0%A6%B8%E0%A6%A8)',\n",
       " 'https://be.wikipedia.org/wiki/Python',\n",
       " 'https://bg.wikipedia.org/wiki/%D0%9F%D0%B8%D1%82%D0%BE%D0%BD_(%D0%BF%D0%BE%D1%8F%D1%81%D0%BD%D0%B5%D0%BD%D0%B8%D0%B5)',\n",
       " 'https://cs.wikipedia.org/wiki/Python_(rozcestn%C3%ADk)',\n",
       " 'https://da.wikipedia.org/wiki/Python',\n",
       " 'https://de.wikipedia.org/wiki/Python',\n",
       " 'https://eo.wikipedia.org/wiki/Pitono_(apartigilo)',\n",
       " 'https://eu.wikipedia.org/wiki/Python_(argipena)',\n",
       " 'https://fa.wikipedia.org/wiki/%D9%BE%D8%A7%DB%8C%D8%AA%D9%88%D9%86',\n",
       " 'https://fr.wikipedia.org/wiki/Python',\n",
       " 'https://ko.wikipedia.org/wiki/%ED%8C%8C%EC%9D%B4%EC%84%A0',\n",
       " 'https://hr.wikipedia.org/wiki/Python_(razdvojba)',\n",
       " 'https://io.wikipedia.org/wiki/Pitono',\n",
       " 'https://id.wikipedia.org/wiki/Python',\n",
       " 'https://ia.wikipedia.org/wiki/Python_(disambiguation)',\n",
       " 'https://is.wikipedia.org/wiki/Python_(a%C3%B0greining)',\n",
       " 'https://it.wikipedia.org/wiki/Python_(disambigua)',\n",
       " 'https://he.wikipedia.org/wiki/%D7%A4%D7%99%D7%AA%D7%95%D7%9F',\n",
       " 'https://ka.wikipedia.org/wiki/%E1%83%9E%E1%83%98%E1%83%97%E1%83%9D%E1%83%9C%E1%83%98_(%E1%83%9B%E1%83%A0%E1%83%90%E1%83%95%E1%83%90%E1%83%9A%E1%83%9B%E1%83%9C%E1%83%98%E1%83%A8%E1%83%95%E1%83%9C%E1%83%94%E1%83%9A%E1%83%9D%E1%83%95%E1%83%90%E1%83%9C%E1%83%98)',\n",
       " 'https://kg.wikipedia.org/wiki/Mboma_(nyoka)',\n",
       " 'https://la.wikipedia.org/wiki/Python_(discretiva)',\n",
       " 'https://lb.wikipedia.org/wiki/Python',\n",
       " 'https://hu.wikipedia.org/wiki/Python_(egy%C3%A9rtelm%C5%B1s%C3%ADt%C5%91_lap)',\n",
       " 'https://mr.wikipedia.org/wiki/%E0%A4%AA%E0%A4%BE%E0%A4%AF%E0%A4%A5%E0%A5%89%E0%A4%A8_(%E0%A4%86%E0%A4%9C%E0%A5%8D%E0%A4%9E%E0%A4%BE%E0%A4%B5%E0%A4%B2%E0%A5%80_%E0%A4%AD%E0%A4%BE%E0%A4%B7%E0%A4%BE)',\n",
       " 'https://nl.wikipedia.org/wiki/Python',\n",
       " 'https://ja.wikipedia.org/wiki/%E3%83%91%E3%82%A4%E3%82%BD%E3%83%B3',\n",
       " 'https://no.wikipedia.org/wiki/Pyton',\n",
       " 'https://pl.wikipedia.org/wiki/Pyton',\n",
       " 'https://pt.wikipedia.org/wiki/Python_(desambigua%C3%A7%C3%A3o)',\n",
       " 'https://ru.wikipedia.org/wiki/Python_(%D0%B7%D0%BD%D0%B0%D1%87%D0%B5%D0%BD%D0%B8%D1%8F)',\n",
       " 'https://sk.wikipedia.org/wiki/Python',\n",
       " 'https://sr.wikipedia.org/wiki/%D0%9F%D0%B8%D1%82%D0%BE%D0%BD_(%D0%B2%D0%B8%D1%88%D0%B5%D0%B7%D0%BD%D0%B0%D1%87%D0%BD%D0%B0_%D0%BE%D0%B4%D1%80%D0%B5%D0%B4%D0%BD%D0%B8%D1%86%D0%B0)',\n",
       " 'https://sh.wikipedia.org/wiki/Python',\n",
       " 'https://fi.wikipedia.org/wiki/Python',\n",
       " 'https://sv.wikipedia.org/wiki/Pyton',\n",
       " 'https://th.wikipedia.org/wiki/%E0%B9%84%E0%B8%9E%E0%B8%97%E0%B8%AD%E0%B8%99',\n",
       " 'https://tr.wikipedia.org/wiki/Python_(anlam_ayr%C4%B1m%C4%B1)',\n",
       " 'https://uk.wikipedia.org/wiki/%D0%9F%D1%96%D1%84%D0%BE%D0%BD',\n",
       " 'https://ur.wikipedia.org/wiki/%D9%BE%D8%A7%D8%A6%DB%8C%D8%AA%DA%BE%D9%88%D9%86',\n",
       " 'https://vi.wikipedia.org/wiki/Python',\n",
       " 'https://zh.wikipedia.org/wiki/Python_(%E6%B6%88%E6%AD%A7%E4%B9%89)',\n",
       " 'https://en.wikipedia.org/wiki/Python',\n",
       " 'https://en.wikipedia.org/wiki/Talk:Python',\n",
       " 'https://en.wikipedia.org/wiki/Python',\n",
       " 'https://en.wikipedia.org/w/index.php?title=Python&action=edit&editintro=Template:Disambig_editintro',\n",
       " 'https://en.wikipedia.org/w/index.php?title=Python&action=history',\n",
       " 'https://en.wikipedia.org/wiki/Python',\n",
       " 'https://en.wikipedia.org/w/index.php?title=Python&action=edit',\n",
       " 'https://en.wikipedia.org/w/index.php?title=Python&action=history',\n",
       " 'https://en.wiktionary.org/wiki/Python',\n",
       " 'https://en.wiktionary.org/wiki/python',\n",
       " 'https://en.wikipedia.org/w/index.php?title=Python&action=edit&section=1&editintro=Template:Disambig_editintro',\n",
       " 'https://en.wikipedia.org/wiki/Pythonidae',\n",
       " 'https://en.wikipedia.org/wiki/Python_(genus)',\n",
       " 'https://en.wikipedia.org/wiki/Python_(mythology)',\n",
       " 'https://en.wikipedia.org/w/index.php?title=Python&action=edit&section=2&editintro=Template:Disambig_editintro',\n",
       " 'https://en.wikipedia.org/wiki/Python_(programming_language)',\n",
       " 'https://en.wikipedia.org/wiki/CMU_Common_Lisp',\n",
       " 'https://en.wikipedia.org/wiki/PERQ#PERQ_3',\n",
       " 'https://en.wikipedia.org/w/index.php?title=Python&action=edit&section=3&editintro=Template:Disambig_editintro',\n",
       " 'https://en.wikipedia.org/wiki/Python_of_Aenus',\n",
       " 'https://en.wikipedia.org/wiki/Python_(painter)',\n",
       " 'https://en.wikipedia.org/wiki/Python_of_Byzantium',\n",
       " 'https://en.wikipedia.org/wiki/Python_of_Catana',\n",
       " 'https://en.wikipedia.org/wiki/Python_Anghelo',\n",
       " 'https://en.wikipedia.org/w/index.php?title=Python&action=edit&section=4&editintro=Template:Disambig_editintro',\n",
       " 'https://en.wikipedia.org/wiki/Python_(Efteling)',\n",
       " 'https://en.wikipedia.org/wiki/Python_(Busch_Gardens_Tampa_Bay)',\n",
       " 'https://en.wikipedia.org/wiki/Python_(Coney_Island,_Cincinnati,_Ohio)',\n",
       " 'https://en.wikipedia.org/w/index.php?title=Python&action=edit&section=5&editintro=Template:Disambig_editintro',\n",
       " 'https://en.wikipedia.org/wiki/Python_(automobile_maker)',\n",
       " 'https://en.wikipedia.org/wiki/Python_(Ford_prototype)',\n",
       " 'https://en.wikipedia.org/w/index.php?title=Python&action=edit&section=6&editintro=Template:Disambig_editintro',\n",
       " 'https://en.wikipedia.org/wiki/Python_(missile)',\n",
       " 'https://en.wikipedia.org/wiki/Python_(nuclear_primary)',\n",
       " 'https://en.wikipedia.org/wiki/Colt_Python',\n",
       " 'https://en.wikipedia.org/w/index.php?title=Python&action=edit&section=7&editintro=Template:Disambig_editintro',\n",
       " 'https://en.wikipedia.org/wiki/Python_(codename)',\n",
       " 'https://en.wikipedia.org/wiki/Python_(film)',\n",
       " 'https://en.wikipedia.org/wiki/Monty_Python',\n",
       " 'https://en.wikipedia.org/wiki/Python_(Monty)_Pictures',\n",
       " 'https://en.wikipedia.org/wiki/Timon_of_Phlius',\n",
       " 'https://en.wikipedia.org/w/index.php?title=Python&action=edit&section=8&editintro=Template:Disambig_editintro',\n",
       " 'https://en.wikipedia.org/wiki/Cython',\n",
       " 'https://en.wikipedia.org/wiki/Pyton',\n",
       " 'https://en.wikipedia.org/wiki/Pithon',\n",
       " 'https://en.wikipedia.org/wiki/File:Disambig_gray.svg',\n",
       " 'https://en.wikipedia.org/wiki/Help:Disambiguation',\n",
       " 'https://en.wikipedia.org/w/index.php?title=Special:WhatLinksHere/Python&namespace=0',\n",
       " 'https://en.wikipedia.org/w/index.php?title=Python&oldid=1134693155',\n",
       " 'https://en.wikipedia.org/wiki/Help:Category',\n",
       " 'https://en.wikipedia.org/wiki/Category:Disambiguation_pages',\n",
       " 'https://en.wikipedia.org/wiki/Category:Human_name_disambiguation_pages',\n",
       " 'https://en.wikipedia.org/wiki/Category:Disambiguation_pages_with_given-name-holder_lists',\n",
       " 'https://en.wikipedia.org/wiki/Category:Short_description_is_different_from_Wikidata',\n",
       " 'https://en.wikipedia.org/wiki/Category:All_article_disambiguation_pages',\n",
       " 'https://en.wikipedia.org/wiki/Category:All_disambiguation_pages',\n",
       " 'https://en.wikipedia.org/wiki/Category:Animal_common_name_disambiguation_pages',\n",
       " 'https://en.wikipedia.org/wiki/Wikipedia:Text_of_the_Creative_Commons_Attribution-ShareAlike_3.0_Unported_License',\n",
       " 'https://creativecommons.org/licenses/by-sa/3.0/',\n",
       " 'https://foundation.wikimedia.org/wiki/Terms_of_Use',\n",
       " 'https://foundation.wikimedia.org/wiki/Privacy_policy',\n",
       " 'https://www.wikimediafoundation.org/',\n",
       " 'https://foundation.wikimedia.org/wiki/Privacy_policy',\n",
       " 'https://en.wikipedia.org/wiki/Wikipedia:About',\n",
       " 'https://en.wikipedia.org/wiki/Wikipedia:General_disclaimer',\n",
       " 'https://en.wikipedia.org/wiki/Wikipedia:Contact_us',\n",
       " 'https://en.m.wikipedia.org/w/index.php?title=Python&mobileaction=toggle_view_mobile',\n",
       " 'https://developer.wikimedia.org/',\n",
       " 'https://stats.wikimedia.org/#/en.wikipedia.org',\n",
       " 'https://foundation.wikimedia.org/wiki/Cookie_statement',\n",
       " 'https://en.wikipedia.org/wiki/Python#',\n",
       " 'https://wikimediafoundation.org/',\n",
       " 'https://www.mediawiki.org/',\n",
       " 'https://en.wikipedia.org/wiki/Python?action=edit']"
      ]
     },
     "execution_count": 25,
     "metadata": {},
     "output_type": "execute_result"
    }
   ],
   "source": [
    "py_lnk = []\n",
    "for element in py:\n",
    "    py_lnk.append(element.get_attribute('href'))\n",
    "py_lnk"
   ]
  },
  {
   "cell_type": "markdown",
   "metadata": {},
   "source": [
    "#### Number of Titles that have changed in the United States Code since its last release point "
   ]
  },
  {
   "cell_type": "code",
   "execution_count": 26,
   "metadata": {},
   "outputs": [],
   "source": [
    "# This is the url you will scrape in this exercise\n",
    "url = 'http://uscode.house.gov/download/download.shtml'\n"
   ]
  },
  {
   "cell_type": "code",
   "execution_count": 27,
   "metadata": {},
   "outputs": [],
   "source": [
    "driver=webdriver.Chrome(PATH)\n",
    "driver.get(url)"
   ]
  },
  {
   "cell_type": "code",
   "execution_count": 28,
   "metadata": {},
   "outputs": [
    {
     "data": {
      "text/plain": [
       "14"
      ]
     },
     "execution_count": 28,
     "metadata": {},
     "output_type": "execute_result"
    }
   ],
   "source": [
    "usctitle= driver.find_elements(By.CLASS_NAME, \"usctitlechanged\")\n",
    "len(usctitle)"
   ]
  },
  {
   "cell_type": "markdown",
   "metadata": {},
   "source": [
    "#### A Python list with the top ten FBI's Most Wanted names "
   ]
  },
  {
   "cell_type": "code",
   "execution_count": 29,
   "metadata": {},
   "outputs": [],
   "source": [
    "# This is the url you will scrape in this exercise\n",
    "url = 'https://www.fbi.gov/wanted/topten'"
   ]
  },
  {
   "cell_type": "code",
   "execution_count": 30,
   "metadata": {},
   "outputs": [],
   "source": [
    "driver=webdriver.Chrome(PATH)\n",
    "driver.get(url)"
   ]
  },
  {
   "cell_type": "code",
   "execution_count": 31,
   "metadata": {},
   "outputs": [],
   "source": [
    "fbi = driver.find_elements(By.CLASS_NAME, \"title\")"
   ]
  },
  {
   "cell_type": "code",
   "execution_count": 32,
   "metadata": {},
   "outputs": [
    {
     "data": {
      "text/plain": [
       "'MOST WANTED'"
      ]
     },
     "execution_count": 32,
     "metadata": {},
     "output_type": "execute_result"
    }
   ],
   "source": [
    "fbi[0].text"
   ]
  },
  {
   "cell_type": "code",
   "execution_count": 33,
   "metadata": {},
   "outputs": [
    {
     "data": {
      "text/plain": [
       "['YULAN ADONAY ARCHAGA CARIAS',\n",
       " 'RUJA IGNATOVA',\n",
       " 'ARNOLDO JIMENEZ',\n",
       " 'OMAR ALEXANDER CARDENAS',\n",
       " 'ALEXIS FLORES',\n",
       " 'BHADRESHKUMAR CHETANBHAI PATEL',\n",
       " 'ALEJANDRO ROSALES CASTILLO',\n",
       " 'JOSE RODOLFO VILLARREAL-HERNANDEZ',\n",
       " 'MICHAEL JAMES PRATT',\n",
       " 'RAFAEL CARO-QUINTERO']"
      ]
     },
     "execution_count": 33,
     "metadata": {},
     "output_type": "execute_result"
    }
   ],
   "source": [
    "fbi_most = []\n",
    "for element in fbi[1:]:\n",
    "    name = element.text\n",
    "    name = name.strip().replace(\"\\n\", \"\")\n",
    "    fbi_most.append(name)\n",
    "fbi_most"
   ]
  },
  {
   "cell_type": "markdown",
   "metadata": {},
   "source": [
    "####  20 latest earthquakes info (date, time, latitude, longitude and region name) by the EMSC as a pandas dataframe"
   ]
  },
  {
   "cell_type": "code",
   "execution_count": 34,
   "metadata": {},
   "outputs": [],
   "source": [
    "# This is the url you will scrape in this exercise\n",
    "url = 'https://www.emsc-csem.org/Earthquake/'"
   ]
  },
  {
   "cell_type": "code",
   "execution_count": 35,
   "metadata": {},
   "outputs": [],
   "source": [
    "driver=webdriver.Chrome(PATH)\n",
    "driver.get(url)"
   ]
  },
  {
   "cell_type": "code",
   "execution_count": 36,
   "metadata": {},
   "outputs": [],
   "source": [
    "col = driver.find_elements(By.CLASS_NAME, \"th2\")"
   ]
  },
  {
   "cell_type": "code",
   "execution_count": 37,
   "metadata": {
    "scrolled": true
   },
   "outputs": [],
   "source": [
    "col_names = []\n",
    "for element in col:\n",
    "    name = element.text\n",
    "    name = name.strip().replace(\"\\n\", \"\")\n",
    "    col_names.append(name)\n",
    "col_names = col_names[1:-1]"
   ]
  },
  {
   "cell_type": "code",
   "execution_count": 38,
   "metadata": {},
   "outputs": [
    {
     "data": {
      "text/plain": [
       "['Date & TimeUTC',\n",
       " 'Latitudedegrees',\n",
       " 'Longitudedegrees',\n",
       " 'Depthkm',\n",
       " 'Mag[+]',\n",
       " 'Region name[+]']"
      ]
     },
     "execution_count": 38,
     "metadata": {},
     "output_type": "execute_result"
    }
   ],
   "source": [
    "col_names"
   ]
  },
  {
   "cell_type": "code",
   "execution_count": 39,
   "metadata": {},
   "outputs": [],
   "source": [
    "#driver.find_elements(By.XPATH, '//td[@class=\"tabev1\"]')[0].text"
   ]
  },
  {
   "cell_type": "code",
   "execution_count": 40,
   "metadata": {},
   "outputs": [],
   "source": [
    "date = driver.find_elements(By.CLASS_NAME, 'tabev6')"
   ]
  },
  {
   "cell_type": "code",
   "execution_count": 41,
   "metadata": {},
   "outputs": [
    {
     "data": {
      "text/plain": [
       "'2023-02-08   21:17:28.0\\n14min ago'"
      ]
     },
     "execution_count": 41,
     "metadata": {},
     "output_type": "execute_result"
    }
   ],
   "source": [
    "date[0].text"
   ]
  },
  {
   "cell_type": "code",
   "execution_count": 42,
   "metadata": {},
   "outputs": [],
   "source": [
    "#date_data =[e.text for e in date]\n",
    "#date_data"
   ]
  },
  {
   "cell_type": "code",
   "execution_count": 43,
   "metadata": {},
   "outputs": [],
   "source": [
    "date_data = []\n",
    "for e in date:\n",
    "    date_data.append(e.text.replace('\\n', ' '))"
   ]
  },
  {
   "cell_type": "code",
   "execution_count": 44,
   "metadata": {},
   "outputs": [
    {
     "data": {
      "text/plain": [
       "['2023-02-08   21:17:28.0 14min ago',\n",
       " '2023-02-08   21:15:07.5 16min ago',\n",
       " '2023-02-08   21:10:39.3 21min ago',\n",
       " '2023-02-08   21:10:11.2 21min ago',\n",
       " '2023-02-08   21:10:07.3 21min ago',\n",
       " '2023-02-08   21:08:31.2 23min ago',\n",
       " '2023-02-08   21:02:18.3 29min ago',\n",
       " '2023-02-08   21:02:04.4 29min ago',\n",
       " '2023-02-08   21:00:25.9 31min ago',\n",
       " '2023-02-08   20:58:14.6 33min ago',\n",
       " '2023-02-08   20:57:58.4 34min ago',\n",
       " '2023-02-08   20:55:35.3 36min ago',\n",
       " '2023-02-08   20:53:55.2 38min ago',\n",
       " '2023-02-08   20:51:39.3 40min ago',\n",
       " '2023-02-08   20:51:05.8 40min ago',\n",
       " '2023-02-08   20:43:35.0 48min ago',\n",
       " '2023-02-08   20:40:58.8 51min ago',\n",
       " '2023-02-08   20:39:51.7 52min ago',\n",
       " '2023-02-08   20:34:46.0 57min ago',\n",
       " '2023-02-08   20:25:04.0 1hr 06min ago',\n",
       " '2023-02-08   20:24:13.0 1hr 07min ago',\n",
       " '2023-02-08   20:20:50.9 1hr 11min ago',\n",
       " '2023-02-08   20:20:38.0 1hr 11min ago',\n",
       " '2023-02-08   20:12:05.8 1hr 19min ago',\n",
       " '2023-02-08   20:09:11.5 1hr 22min ago',\n",
       " '2023-02-08   20:07:02.7 1hr 24min ago',\n",
       " '2023-02-08   20:05:58.5 1hr 26min ago',\n",
       " '2023-02-08   20:03:16.3 1hr 28min ago',\n",
       " '2023-02-08   19:55:17.7 1hr 36min ago',\n",
       " '2023-02-08   19:48:11.9 1hr 43min ago',\n",
       " '2023-02-08   19:46:54.7 1hr 45min ago',\n",
       " '2023-02-08   19:42:09.2 1hr 49min ago',\n",
       " '2023-02-08   19:40:16.2 1hr 51min ago',\n",
       " '2023-02-08   19:32:16.0 1hr 59min ago',\n",
       " '2023-02-08   19:23:19.9 2hr 08min ago',\n",
       " '2023-02-08   19:20:27.7 2hr 11min ago',\n",
       " '2023-02-08   19:18:33.5 2hr 13min ago',\n",
       " '2023-02-08   19:15:57.2 2hr 16min ago',\n",
       " '2023-02-08   19:13:23.7 2hr 18min ago',\n",
       " '2023-02-08   19:10:06.1 2hr 21min ago',\n",
       " '2023-02-08   19:05:18.4 2hr 26min ago',\n",
       " '2023-02-08   19:03:17.2 2hr 28min ago',\n",
       " '2023-02-08   18:58:58.4 2hr 33min ago',\n",
       " '2023-02-08   18:58:08.3 2hr 33min ago',\n",
       " '2023-02-08   18:56:51.0 2hr 35min ago',\n",
       " '2023-02-08   18:53:22.0 2hr 38min ago',\n",
       " '2023-02-08   18:45:14.3 2hr 46min ago',\n",
       " '2023-02-08   18:40:24.9 2hr 51min ago',\n",
       " '2023-02-08   18:37:18.0 2hr 54min ago',\n",
       " '2023-02-08   18:36:45.0 2hr 55min ago']"
      ]
     },
     "execution_count": 44,
     "metadata": {},
     "output_type": "execute_result"
    }
   ],
   "source": [
    "date_data"
   ]
  },
  {
   "cell_type": "code",
   "execution_count": 45,
   "metadata": {},
   "outputs": [],
   "source": [
    "latitude = driver.find_elements(By.CLASS_NAME, 'tabev1')"
   ]
  },
  {
   "cell_type": "code",
   "execution_count": 46,
   "metadata": {},
   "outputs": [
    {
     "data": {
      "text/plain": [
       "'37.98 '"
      ]
     },
     "execution_count": 46,
     "metadata": {},
     "output_type": "execute_result"
    }
   ],
   "source": [
    "latitude[0].text"
   ]
  },
  {
   "cell_type": "code",
   "execution_count": 47,
   "metadata": {},
   "outputs": [
    {
     "data": {
      "text/plain": [
       "100"
      ]
     },
     "execution_count": 47,
     "metadata": {},
     "output_type": "execute_result"
    }
   ],
   "source": [
    "len(latitude)"
   ]
  },
  {
   "cell_type": "code",
   "execution_count": 48,
   "metadata": {},
   "outputs": [],
   "source": [
    "latitude_data =[e.text for e in latitude]\n"
   ]
  },
  {
   "cell_type": "code",
   "execution_count": 49,
   "metadata": {},
   "outputs": [
    {
     "data": {
      "text/plain": [
       "100"
      ]
     },
     "execution_count": 49,
     "metadata": {},
     "output_type": "execute_result"
    }
   ],
   "source": [
    "len(latitude_data)"
   ]
  },
  {
   "cell_type": "code",
   "execution_count": 50,
   "metadata": {},
   "outputs": [
    {
     "data": {
      "text/plain": [
       "50"
      ]
     },
     "execution_count": 50,
     "metadata": {},
     "output_type": "execute_result"
    }
   ],
   "source": [
    "latitude_data2 = latitude_data[0: :2]\n",
    "len(latitude_data2)\n"
   ]
  },
  {
   "cell_type": "code",
   "execution_count": 51,
   "metadata": {},
   "outputs": [],
   "source": [
    "longitude_data = latitude_data[1: :2]"
   ]
  },
  {
   "cell_type": "code",
   "execution_count": 52,
   "metadata": {},
   "outputs": [
    {
     "data": {
      "text/plain": [
       "50"
      ]
     },
     "execution_count": 52,
     "metadata": {},
     "output_type": "execute_result"
    }
   ],
   "source": [
    "len(longitude_data)"
   ]
  },
  {
   "cell_type": "code",
   "execution_count": 53,
   "metadata": {},
   "outputs": [
    {
     "data": {
      "text/plain": [
       "50"
      ]
     },
     "execution_count": 53,
     "metadata": {},
     "output_type": "execute_result"
    }
   ],
   "source": [
    "len(longitude_data)"
   ]
  },
  {
   "cell_type": "code",
   "execution_count": 54,
   "metadata": {},
   "outputs": [],
   "source": [
    "mag = driver.find_elements(By.CLASS_NAME, 'tabev2')"
   ]
  },
  {
   "cell_type": "code",
   "execution_count": 55,
   "metadata": {},
   "outputs": [
    {
     "data": {
      "text/plain": [
       "'N  '"
      ]
     },
     "execution_count": 55,
     "metadata": {},
     "output_type": "execute_result"
    }
   ],
   "source": [
    "mag[0].text"
   ]
  },
  {
   "cell_type": "code",
   "execution_count": 56,
   "metadata": {},
   "outputs": [],
   "source": [
    "mag_data =[]\n",
    "for e in mag:\n",
    "    mag_data.append(e.text)"
   ]
  },
  {
   "cell_type": "code",
   "execution_count": 57,
   "metadata": {
    "scrolled": true
   },
   "outputs": [],
   "source": [
    "mag_data = mag_data[2::3]"
   ]
  },
  {
   "cell_type": "code",
   "execution_count": 58,
   "metadata": {},
   "outputs": [
    {
     "data": {
      "text/plain": [
       "['2.8',\n",
       " '3.2',\n",
       " '3.1',\n",
       " '2.0',\n",
       " '2.9',\n",
       " '2.7',\n",
       " '2.6',\n",
       " '2.1',\n",
       " '3.0',\n",
       " '2.4',\n",
       " '3.5',\n",
       " '3.3',\n",
       " '2.4',\n",
       " '4.0',\n",
       " '2.5',\n",
       " '3.4',\n",
       " '2.8',\n",
       " '2.8',\n",
       " '2.7',\n",
       " '2.7',\n",
       " '2.7',\n",
       " '3.4',\n",
       " '2.9',\n",
       " '4.5',\n",
       " '3.3',\n",
       " '3.5',\n",
       " '5.4',\n",
       " '2.9',\n",
       " '2.6',\n",
       " '4.4',\n",
       " '2.8',\n",
       " '3.9',\n",
       " '2.9',\n",
       " '2.7',\n",
       " '3.2',\n",
       " '3.4',\n",
       " '2.8',\n",
       " '2.8',\n",
       " '3.1',\n",
       " '2.8',\n",
       " '4.0',\n",
       " '2.6',\n",
       " '4.3',\n",
       " '2.0',\n",
       " '2.6',\n",
       " '3.3',\n",
       " '2.8',\n",
       " '3.6',\n",
       " '4.0',\n",
       " '2.7']"
      ]
     },
     "execution_count": 58,
     "metadata": {},
     "output_type": "execute_result"
    }
   ],
   "source": [
    "mag_data"
   ]
  },
  {
   "cell_type": "code",
   "execution_count": 59,
   "metadata": {},
   "outputs": [],
   "source": [
    "region = driver.find_elements(By.CLASS_NAME, 'tb_region')"
   ]
  },
  {
   "cell_type": "code",
   "execution_count": 60,
   "metadata": {},
   "outputs": [
    {
     "data": {
      "text/plain": [
       "' CENTRAL TURKEY'"
      ]
     },
     "execution_count": 60,
     "metadata": {},
     "output_type": "execute_result"
    }
   ],
   "source": [
    "region[0].text"
   ]
  },
  {
   "cell_type": "code",
   "execution_count": 61,
   "metadata": {},
   "outputs": [],
   "source": [
    "region_data =[]\n",
    "for e in region:\n",
    "    region_data.append(e.text)"
   ]
  },
  {
   "cell_type": "code",
   "execution_count": 62,
   "metadata": {
    "scrolled": false
   },
   "outputs": [
    {
     "data": {
      "text/plain": [
       "[' CENTRAL TURKEY',\n",
       " ' CENTRAL TURKEY',\n",
       " ' CENTRAL TURKEY',\n",
       " ' CENTRAL ITALY',\n",
       " ' WESTERN AUSTRALIA',\n",
       " ' CENTRAL ITALY',\n",
       " ' CENTRAL TURKEY',\n",
       " ' CENTRAL ITALY',\n",
       " ' CENTRAL TURKEY',\n",
       " ' CENTRAL ITALY',\n",
       " ' CENTRAL TURKEY',\n",
       " ' CENTRAL TURKEY',\n",
       " ' CENTRAL ITALY',\n",
       " ' CENTRAL ITALY',\n",
       " ' CENTRAL TURKEY',\n",
       " ' FLORES REGION, INDONESIA',\n",
       " ' CENTRAL TURKEY',\n",
       " ' CENTRAL TURKEY',\n",
       " ' ISLA CHILOE, LOS LAGOS, CHILE',\n",
       " ' CENTRAL ALASKA',\n",
       " ' EASTERN TURKEY',\n",
       " ' CENTRAL TURKEY',\n",
       " ' NEAR COAST OF NICARAGUA',\n",
       " ' EASTERN TURKEY',\n",
       " ' CENTRAL TURKEY',\n",
       " ' CENTRAL TURKEY',\n",
       " ' EASTERN TURKEY',\n",
       " ' CENTRAL TURKEY',\n",
       " ' EASTERN TURKEY',\n",
       " ' TURKEY-SYRIA BORDER REGION',\n",
       " ' CENTRAL TURKEY',\n",
       " ' NORTHERN ALGERIA',\n",
       " ' CENTRAL TURKEY',\n",
       " ' SICILY, ITALY',\n",
       " ' EASTERN TURKEY',\n",
       " ' CENTRAL TURKEY',\n",
       " ' CENTRAL TURKEY',\n",
       " ' CENTRAL TURKEY',\n",
       " ' CENTRAL TURKEY',\n",
       " ' CENTRAL TURKEY',\n",
       " ' CENTRAL TURKEY',\n",
       " ' CENTRAL TURKEY',\n",
       " ' LEBANON - SYRIA REGION',\n",
       " ' CENTRAL CALIFORNIA',\n",
       " ' NEAR N COAST OF PAPUA, INDONESIA',\n",
       " ' EASTERN TURKEY',\n",
       " ' SOUTHERN IDAHO',\n",
       " ' CENTRAL TURKEY',\n",
       " ' CHIAPAS, MEXICO',\n",
       " ' ANTOFAGASTA, CHILE']"
      ]
     },
     "execution_count": 62,
     "metadata": {},
     "output_type": "execute_result"
    }
   ],
   "source": [
    "region_data"
   ]
  },
  {
   "cell_type": "code",
   "execution_count": 63,
   "metadata": {},
   "outputs": [],
   "source": [
    "depth = driver.find_elements(By.CLASS_NAME, 'tabev3')"
   ]
  },
  {
   "cell_type": "code",
   "execution_count": 64,
   "metadata": {},
   "outputs": [
    {
     "data": {
      "text/plain": [
       "'6'"
      ]
     },
     "execution_count": 64,
     "metadata": {},
     "output_type": "execute_result"
    }
   ],
   "source": [
    "depth[0].text"
   ]
  },
  {
   "cell_type": "code",
   "execution_count": 65,
   "metadata": {},
   "outputs": [],
   "source": [
    "depth_data =[]\n",
    "for e in depth:\n",
    "    depth_data.append(e.text)"
   ]
  },
  {
   "cell_type": "code",
   "execution_count": 66,
   "metadata": {
    "scrolled": true
   },
   "outputs": [
    {
     "data": {
      "text/plain": [
       "['6',\n",
       " '4',\n",
       " '5',\n",
       " '10',\n",
       " '10',\n",
       " '8',\n",
       " '13',\n",
       " '5',\n",
       " '5',\n",
       " '7',\n",
       " '8',\n",
       " '2',\n",
       " '9',\n",
       " '10',\n",
       " '8',\n",
       " '164',\n",
       " '11',\n",
       " '28',\n",
       " '43',\n",
       " '99',\n",
       " '5',\n",
       " '2',\n",
       " '40',\n",
       " '2',\n",
       " '7',\n",
       " '5',\n",
       " '60',\n",
       " '24',\n",
       " '5',\n",
       " '8',\n",
       " '5',\n",
       " '2',\n",
       " '8',\n",
       " '10',\n",
       " '2',\n",
       " '19',\n",
       " '24',\n",
       " '14',\n",
       " '6',\n",
       " '10',\n",
       " '2',\n",
       " '10',\n",
       " '30',\n",
       " '16',\n",
       " '15',\n",
       " '5',\n",
       " '10',\n",
       " '5',\n",
       " '99',\n",
       " '101']"
      ]
     },
     "execution_count": 66,
     "metadata": {},
     "output_type": "execute_result"
    }
   ],
   "source": [
    "depth_data"
   ]
  },
  {
   "cell_type": "code",
   "execution_count": 67,
   "metadata": {
    "scrolled": true
   },
   "outputs": [
    {
     "data": {
      "text/plain": [
       "100"
      ]
     },
     "execution_count": 67,
     "metadata": {},
     "output_type": "execute_result"
    }
   ],
   "source": [
    "len(latitude_data)"
   ]
  },
  {
   "cell_type": "code",
   "execution_count": 68,
   "metadata": {},
   "outputs": [],
   "source": [
    "df = pd.DataFrame(columns=col_names)"
   ]
  },
  {
   "cell_type": "code",
   "execution_count": null,
   "metadata": {},
   "outputs": [],
   "source": []
  },
  {
   "cell_type": "code",
   "execution_count": 69,
   "metadata": {},
   "outputs": [],
   "source": [
    "df['Date & TimeUTC'] = date_data\n",
    "df['Latitudedegrees'] = latitude_data2\n",
    "df['Longitudedegrees'] = longitude_data\n",
    "df['Depthkm'] = depth_data\n",
    "df['Mag[+]']= mag_data\n",
    "df['Region name[+]'] = region_data"
   ]
  },
  {
   "cell_type": "code",
   "execution_count": 70,
   "metadata": {},
   "outputs": [
    {
     "data": {
      "text/html": [
       "<div>\n",
       "<style scoped>\n",
       "    .dataframe tbody tr th:only-of-type {\n",
       "        vertical-align: middle;\n",
       "    }\n",
       "\n",
       "    .dataframe tbody tr th {\n",
       "        vertical-align: top;\n",
       "    }\n",
       "\n",
       "    .dataframe thead th {\n",
       "        text-align: right;\n",
       "    }\n",
       "</style>\n",
       "<table border=\"1\" class=\"dataframe\">\n",
       "  <thead>\n",
       "    <tr style=\"text-align: right;\">\n",
       "      <th></th>\n",
       "      <th>Date &amp; TimeUTC</th>\n",
       "      <th>Latitudedegrees</th>\n",
       "      <th>Longitudedegrees</th>\n",
       "      <th>Depthkm</th>\n",
       "      <th>Mag[+]</th>\n",
       "      <th>Region name[+]</th>\n",
       "    </tr>\n",
       "  </thead>\n",
       "  <tbody>\n",
       "    <tr>\n",
       "      <th>0</th>\n",
       "      <td>2023-02-08   21:17:28.0 14min ago</td>\n",
       "      <td>37.98</td>\n",
       "      <td>36.71</td>\n",
       "      <td>6</td>\n",
       "      <td>2.8</td>\n",
       "      <td>CENTRAL TURKEY</td>\n",
       "    </tr>\n",
       "    <tr>\n",
       "      <th>1</th>\n",
       "      <td>2023-02-08   21:15:07.5 16min ago</td>\n",
       "      <td>38.16</td>\n",
       "      <td>37.90</td>\n",
       "      <td>4</td>\n",
       "      <td>3.2</td>\n",
       "      <td>CENTRAL TURKEY</td>\n",
       "    </tr>\n",
       "    <tr>\n",
       "      <th>2</th>\n",
       "      <td>2023-02-08   21:10:39.3 21min ago</td>\n",
       "      <td>38.18</td>\n",
       "      <td>37.94</td>\n",
       "      <td>5</td>\n",
       "      <td>3.1</td>\n",
       "      <td>CENTRAL TURKEY</td>\n",
       "    </tr>\n",
       "    <tr>\n",
       "      <th>3</th>\n",
       "      <td>2023-02-08   21:10:11.2 21min ago</td>\n",
       "      <td>43.32</td>\n",
       "      <td>11.33</td>\n",
       "      <td>10</td>\n",
       "      <td>2.0</td>\n",
       "      <td>CENTRAL ITALY</td>\n",
       "    </tr>\n",
       "    <tr>\n",
       "      <th>4</th>\n",
       "      <td>2023-02-08   21:10:07.3 21min ago</td>\n",
       "      <td>18.39</td>\n",
       "      <td>120.19</td>\n",
       "      <td>10</td>\n",
       "      <td>2.9</td>\n",
       "      <td>WESTERN AUSTRALIA</td>\n",
       "    </tr>\n",
       "  </tbody>\n",
       "</table>\n",
       "</div>"
      ],
      "text/plain": [
       "                      Date & TimeUTC Latitudedegrees Longitudedegrees Depthkm  \\\n",
       "0  2023-02-08   21:17:28.0 14min ago          37.98            36.71        6   \n",
       "1  2023-02-08   21:15:07.5 16min ago          38.16            37.90        4   \n",
       "2  2023-02-08   21:10:39.3 21min ago          38.18            37.94        5   \n",
       "3  2023-02-08   21:10:11.2 21min ago          43.32            11.33       10   \n",
       "4  2023-02-08   21:10:07.3 21min ago          18.39           120.19       10   \n",
       "\n",
       "  Mag[+]      Region name[+]  \n",
       "0    2.8      CENTRAL TURKEY  \n",
       "1    3.2      CENTRAL TURKEY  \n",
       "2    3.1      CENTRAL TURKEY  \n",
       "3    2.0       CENTRAL ITALY  \n",
       "4    2.9   WESTERN AUSTRALIA  "
      ]
     },
     "execution_count": 70,
     "metadata": {},
     "output_type": "execute_result"
    }
   ],
   "source": [
    "df.head(5)"
   ]
  },
  {
   "cell_type": "markdown",
   "metadata": {},
   "source": [
    "#### Count number of tweets by a given Twitter account."
   ]
  },
  {
   "cell_type": "markdown",
   "metadata": {},
   "source": [
    "You will need to include a ***try/except block*** for account names not found. \n",
    "<br>***Hint:*** the program should count the number of tweets for any provided account"
   ]
  },
  {
   "cell_type": "code",
   "execution_count": 7,
   "metadata": {},
   "outputs": [],
   "source": [
    "# This is the url you will scrape in this exercise \n",
    "# You will need to add the account credentials to this url\n",
    "url = 'https://twitter.com/'\n",
    "driver.get(url)"
   ]
  },
  {
   "cell_type": "code",
   "execution_count": 8,
   "metadata": {},
   "outputs": [
    {
     "name": "stdout",
     "output_type": "stream",
     "text": [
      "@manuelzerpadl\n"
     ]
    }
   ],
   "source": [
    "account = input()\n"
   ]
  },
  {
   "cell_type": "code",
   "execution_count": 9,
   "metadata": {},
   "outputs": [
    {
     "name": "stdout",
     "output_type": "stream",
     "text": [
      "que estas buscando?\n"
     ]
    }
   ],
   "source": [
    "try:\n",
    "    driver.get(url+account)\n",
    "    time.sleep(1.5)\n",
    "except:\n",
    "    print('que estas buscando?')"
   ]
  },
  {
   "cell_type": "code",
   "execution_count": 10,
   "metadata": {},
   "outputs": [
    {
     "ename": "NameError",
     "evalue": "name 'By' is not defined",
     "output_type": "error",
     "traceback": [
      "\u001b[1;31m---------------------------------------------------------------------------\u001b[0m",
      "\u001b[1;31mNameError\u001b[0m                                 Traceback (most recent call last)",
      "\u001b[1;32m~\\AppData\\Local\\Temp\\ipykernel_808\\2353928835.py\u001b[0m in \u001b[0;36m<module>\u001b[1;34m\u001b[0m\n\u001b[1;32m----> 1\u001b[1;33m \u001b[0mtwitter\u001b[0m \u001b[1;33m=\u001b[0m \u001b[0mdriver\u001b[0m\u001b[1;33m.\u001b[0m\u001b[0mfind_element\u001b[0m\u001b[1;33m(\u001b[0m\u001b[0mBy\u001b[0m\u001b[1;33m.\u001b[0m\u001b[0mXPATH\u001b[0m\u001b[1;33m,\u001b[0m \u001b[1;34m'//*[@id=\"layers\"]/div[2]/div/div/div/div/div/div[2]/div[2]/div/div[2]/div/div[2]/div[2]/div[2]'\u001b[0m\u001b[1;33m)\u001b[0m\u001b[1;33m\u001b[0m\u001b[1;33m\u001b[0m\u001b[0m\n\u001b[0m",
      "\u001b[1;31mNameError\u001b[0m: name 'By' is not defined"
     ]
    }
   ],
   "source": [
    "twitter = driver.find_element(By.XPATH, '//*[@id=\"layers\"]/div[2]/div/div/div/div/div/div[2]/div[2]/div/div[2]/div/div[2]/div[2]/div[2]')"
   ]
  },
  {
   "cell_type": "code",
   "execution_count": 20,
   "metadata": {},
   "outputs": [
    {
     "data": {
      "text/plain": [
       "'Ahora no'"
      ]
     },
     "execution_count": 20,
     "metadata": {},
     "output_type": "execute_result"
    }
   ],
   "source": []
  },
  {
   "cell_type": "code",
   "execution_count": 12,
   "metadata": {},
   "outputs": [],
   "source": [
    "twitterr = driver.find_element(By.XPATH, '//*[@id=\"layers\"]/div/div[2]/div/div/div/div[2]/div[1]/div')"
   ]
  },
  {
   "cell_type": "code",
   "execution_count": 13,
   "metadata": {},
   "outputs": [
    {
     "ename": "ElementClickInterceptedException",
     "evalue": "Message: element click intercepted: Element <div dir=\"ltr\" class=\"css-901oao r-1awozwy r-18jsvk2 r-6koalj r-18u37iz r-16y2uox r-37j5jr r-a023e6 r-b88u0q r-1777fci r-rjixqe r-bcqeeo r-q4m81j r-qvutc0\">...</div> is not clickable at point (810, 416). Other element would receive the click: <div class=\"css-1dbjc4n r-1awozwy r-16y2uox r-1777fci r-13qz1uu\">...</div>\n  (Session info: chrome=109.0.5414.120)\nStacktrace:\nBacktrace:\n\t(No symbol) [0x00596643]\n\t(No symbol) [0x0052BE21]\n\t(No symbol) [0x0042DA9D]\n\t(No symbol) [0x004692B2]\n\t(No symbol) [0x00466970]\n\t(No symbol) [0x00463E0B]\n\t(No symbol) [0x00462548]\n\t(No symbol) [0x00456B13]\n\t(No symbol) [0x0047FD7C]\n\t(No symbol) [0x0045641F]\n\t(No symbol) [0x004800D4]\n\t(No symbol) [0x00496B09]\n\t(No symbol) [0x0047FB76]\n\t(No symbol) [0x004549C1]\n\t(No symbol) [0x00455E5D]\n\tGetHandleVerifier [0x0080A142+2497106]\n\tGetHandleVerifier [0x008385D3+2686691]\n\tGetHandleVerifier [0x0083BB9C+2700460]\n\tGetHandleVerifier [0x00643B10+635936]\n\t(No symbol) [0x00534A1F]\n\t(No symbol) [0x0053A418]\n\t(No symbol) [0x0053A505]\n\t(No symbol) [0x0054508B]\n\tBaseThreadInitThunk [0x76017D69+25]\n\tRtlInitializeExceptionChain [0x77C9BB9B+107]\n\tRtlClearBits [0x77C9BB1F+191]\n",
     "output_type": "error",
     "traceback": [
      "\u001b[1;31m---------------------------------------------------------------------------\u001b[0m",
      "\u001b[1;31mElementClickInterceptedException\u001b[0m          Traceback (most recent call last)",
      "\u001b[1;32m~\\AppData\\Local\\Temp\\ipykernel_808\\1291547478.py\u001b[0m in \u001b[0;36m<module>\u001b[1;34m\u001b[0m\n\u001b[1;32m----> 1\u001b[1;33m \u001b[0mtwitterr\u001b[0m\u001b[1;33m.\u001b[0m\u001b[0mclick\u001b[0m\u001b[1;33m(\u001b[0m\u001b[1;33m)\u001b[0m\u001b[1;33m\u001b[0m\u001b[1;33m\u001b[0m\u001b[0m\n\u001b[0m",
      "\u001b[1;32m~\\anaconda3\\lib\\site-packages\\selenium\\webdriver\\remote\\webelement.py\u001b[0m in \u001b[0;36mclick\u001b[1;34m(self)\u001b[0m\n\u001b[0;32m     91\u001b[0m     \u001b[1;32mdef\u001b[0m \u001b[0mclick\u001b[0m\u001b[1;33m(\u001b[0m\u001b[0mself\u001b[0m\u001b[1;33m)\u001b[0m \u001b[1;33m->\u001b[0m \u001b[1;32mNone\u001b[0m\u001b[1;33m:\u001b[0m\u001b[1;33m\u001b[0m\u001b[1;33m\u001b[0m\u001b[0m\n\u001b[0;32m     92\u001b[0m         \u001b[1;34m\"\"\"Clicks the element.\"\"\"\u001b[0m\u001b[1;33m\u001b[0m\u001b[1;33m\u001b[0m\u001b[0m\n\u001b[1;32m---> 93\u001b[1;33m         \u001b[0mself\u001b[0m\u001b[1;33m.\u001b[0m\u001b[0m_execute\u001b[0m\u001b[1;33m(\u001b[0m\u001b[0mCommand\u001b[0m\u001b[1;33m.\u001b[0m\u001b[0mCLICK_ELEMENT\u001b[0m\u001b[1;33m)\u001b[0m\u001b[1;33m\u001b[0m\u001b[1;33m\u001b[0m\u001b[0m\n\u001b[0m\u001b[0;32m     94\u001b[0m \u001b[1;33m\u001b[0m\u001b[0m\n\u001b[0;32m     95\u001b[0m     \u001b[1;32mdef\u001b[0m \u001b[0msubmit\u001b[0m\u001b[1;33m(\u001b[0m\u001b[0mself\u001b[0m\u001b[1;33m)\u001b[0m\u001b[1;33m:\u001b[0m\u001b[1;33m\u001b[0m\u001b[1;33m\u001b[0m\u001b[0m\n",
      "\u001b[1;32m~\\anaconda3\\lib\\site-packages\\selenium\\webdriver\\remote\\webelement.py\u001b[0m in \u001b[0;36m_execute\u001b[1;34m(self, command, params)\u001b[0m\n\u001b[0;32m    399\u001b[0m             \u001b[0mparams\u001b[0m \u001b[1;33m=\u001b[0m \u001b[1;33m{\u001b[0m\u001b[1;33m}\u001b[0m\u001b[1;33m\u001b[0m\u001b[1;33m\u001b[0m\u001b[0m\n\u001b[0;32m    400\u001b[0m         \u001b[0mparams\u001b[0m\u001b[1;33m[\u001b[0m\u001b[1;34m\"id\"\u001b[0m\u001b[1;33m]\u001b[0m \u001b[1;33m=\u001b[0m \u001b[0mself\u001b[0m\u001b[1;33m.\u001b[0m\u001b[0m_id\u001b[0m\u001b[1;33m\u001b[0m\u001b[1;33m\u001b[0m\u001b[0m\n\u001b[1;32m--> 401\u001b[1;33m         \u001b[1;32mreturn\u001b[0m \u001b[0mself\u001b[0m\u001b[1;33m.\u001b[0m\u001b[0m_parent\u001b[0m\u001b[1;33m.\u001b[0m\u001b[0mexecute\u001b[0m\u001b[1;33m(\u001b[0m\u001b[0mcommand\u001b[0m\u001b[1;33m,\u001b[0m \u001b[0mparams\u001b[0m\u001b[1;33m)\u001b[0m\u001b[1;33m\u001b[0m\u001b[1;33m\u001b[0m\u001b[0m\n\u001b[0m\u001b[0;32m    402\u001b[0m \u001b[1;33m\u001b[0m\u001b[0m\n\u001b[0;32m    403\u001b[0m     \u001b[1;32mdef\u001b[0m \u001b[0mfind_element\u001b[0m\u001b[1;33m(\u001b[0m\u001b[0mself\u001b[0m\u001b[1;33m,\u001b[0m \u001b[0mby\u001b[0m\u001b[1;33m=\u001b[0m\u001b[0mBy\u001b[0m\u001b[1;33m.\u001b[0m\u001b[0mID\u001b[0m\u001b[1;33m,\u001b[0m \u001b[0mvalue\u001b[0m\u001b[1;33m=\u001b[0m\u001b[1;32mNone\u001b[0m\u001b[1;33m)\u001b[0m \u001b[1;33m->\u001b[0m \u001b[0mWebElement\u001b[0m\u001b[1;33m:\u001b[0m\u001b[1;33m\u001b[0m\u001b[1;33m\u001b[0m\u001b[0m\n",
      "\u001b[1;32m~\\anaconda3\\lib\\site-packages\\selenium\\webdriver\\remote\\webdriver.py\u001b[0m in \u001b[0;36mexecute\u001b[1;34m(self, driver_command, params)\u001b[0m\n\u001b[0;32m    438\u001b[0m         \u001b[0mresponse\u001b[0m \u001b[1;33m=\u001b[0m \u001b[0mself\u001b[0m\u001b[1;33m.\u001b[0m\u001b[0mcommand_executor\u001b[0m\u001b[1;33m.\u001b[0m\u001b[0mexecute\u001b[0m\u001b[1;33m(\u001b[0m\u001b[0mdriver_command\u001b[0m\u001b[1;33m,\u001b[0m \u001b[0mparams\u001b[0m\u001b[1;33m)\u001b[0m\u001b[1;33m\u001b[0m\u001b[1;33m\u001b[0m\u001b[0m\n\u001b[0;32m    439\u001b[0m         \u001b[1;32mif\u001b[0m \u001b[0mresponse\u001b[0m\u001b[1;33m:\u001b[0m\u001b[1;33m\u001b[0m\u001b[1;33m\u001b[0m\u001b[0m\n\u001b[1;32m--> 440\u001b[1;33m             \u001b[0mself\u001b[0m\u001b[1;33m.\u001b[0m\u001b[0merror_handler\u001b[0m\u001b[1;33m.\u001b[0m\u001b[0mcheck_response\u001b[0m\u001b[1;33m(\u001b[0m\u001b[0mresponse\u001b[0m\u001b[1;33m)\u001b[0m\u001b[1;33m\u001b[0m\u001b[1;33m\u001b[0m\u001b[0m\n\u001b[0m\u001b[0;32m    441\u001b[0m             \u001b[0mresponse\u001b[0m\u001b[1;33m[\u001b[0m\u001b[1;34m\"value\"\u001b[0m\u001b[1;33m]\u001b[0m \u001b[1;33m=\u001b[0m \u001b[0mself\u001b[0m\u001b[1;33m.\u001b[0m\u001b[0m_unwrap_value\u001b[0m\u001b[1;33m(\u001b[0m\u001b[0mresponse\u001b[0m\u001b[1;33m.\u001b[0m\u001b[0mget\u001b[0m\u001b[1;33m(\u001b[0m\u001b[1;34m\"value\"\u001b[0m\u001b[1;33m,\u001b[0m \u001b[1;32mNone\u001b[0m\u001b[1;33m)\u001b[0m\u001b[1;33m)\u001b[0m\u001b[1;33m\u001b[0m\u001b[1;33m\u001b[0m\u001b[0m\n\u001b[0;32m    442\u001b[0m             \u001b[1;32mreturn\u001b[0m \u001b[0mresponse\u001b[0m\u001b[1;33m\u001b[0m\u001b[1;33m\u001b[0m\u001b[0m\n",
      "\u001b[1;32m~\\anaconda3\\lib\\site-packages\\selenium\\webdriver\\remote\\errorhandler.py\u001b[0m in \u001b[0;36mcheck_response\u001b[1;34m(self, response)\u001b[0m\n\u001b[0;32m    243\u001b[0m                 \u001b[0malert_text\u001b[0m \u001b[1;33m=\u001b[0m \u001b[0mvalue\u001b[0m\u001b[1;33m[\u001b[0m\u001b[1;34m\"alert\"\u001b[0m\u001b[1;33m]\u001b[0m\u001b[1;33m.\u001b[0m\u001b[0mget\u001b[0m\u001b[1;33m(\u001b[0m\u001b[1;34m\"text\"\u001b[0m\u001b[1;33m)\u001b[0m\u001b[1;33m\u001b[0m\u001b[1;33m\u001b[0m\u001b[0m\n\u001b[0;32m    244\u001b[0m             \u001b[1;32mraise\u001b[0m \u001b[0mexception_class\u001b[0m\u001b[1;33m(\u001b[0m\u001b[0mmessage\u001b[0m\u001b[1;33m,\u001b[0m \u001b[0mscreen\u001b[0m\u001b[1;33m,\u001b[0m \u001b[0mstacktrace\u001b[0m\u001b[1;33m,\u001b[0m \u001b[0malert_text\u001b[0m\u001b[1;33m)\u001b[0m  \u001b[1;31m# type: ignore[call-arg]  # mypy is not smart enough here\u001b[0m\u001b[1;33m\u001b[0m\u001b[1;33m\u001b[0m\u001b[0m\n\u001b[1;32m--> 245\u001b[1;33m         \u001b[1;32mraise\u001b[0m \u001b[0mexception_class\u001b[0m\u001b[1;33m(\u001b[0m\u001b[0mmessage\u001b[0m\u001b[1;33m,\u001b[0m \u001b[0mscreen\u001b[0m\u001b[1;33m,\u001b[0m \u001b[0mstacktrace\u001b[0m\u001b[1;33m)\u001b[0m\u001b[1;33m\u001b[0m\u001b[1;33m\u001b[0m\u001b[0m\n\u001b[0m",
      "\u001b[1;31mElementClickInterceptedException\u001b[0m: Message: element click intercepted: Element <div dir=\"ltr\" class=\"css-901oao r-1awozwy r-18jsvk2 r-6koalj r-18u37iz r-16y2uox r-37j5jr r-a023e6 r-b88u0q r-1777fci r-rjixqe r-bcqeeo r-q4m81j r-qvutc0\">...</div> is not clickable at point (810, 416). Other element would receive the click: <div class=\"css-1dbjc4n r-1awozwy r-16y2uox r-1777fci r-13qz1uu\">...</div>\n  (Session info: chrome=109.0.5414.120)\nStacktrace:\nBacktrace:\n\t(No symbol) [0x00596643]\n\t(No symbol) [0x0052BE21]\n\t(No symbol) [0x0042DA9D]\n\t(No symbol) [0x004692B2]\n\t(No symbol) [0x00466970]\n\t(No symbol) [0x00463E0B]\n\t(No symbol) [0x00462548]\n\t(No symbol) [0x00456B13]\n\t(No symbol) [0x0047FD7C]\n\t(No symbol) [0x0045641F]\n\t(No symbol) [0x004800D4]\n\t(No symbol) [0x00496B09]\n\t(No symbol) [0x0047FB76]\n\t(No symbol) [0x004549C1]\n\t(No symbol) [0x00455E5D]\n\tGetHandleVerifier [0x0080A142+2497106]\n\tGetHandleVerifier [0x008385D3+2686691]\n\tGetHandleVerifier [0x0083BB9C+2700460]\n\tGetHandleVerifier [0x00643B10+635936]\n\t(No symbol) [0x00534A1F]\n\t(No symbol) [0x0053A418]\n\t(No symbol) [0x0053A505]\n\t(No symbol) [0x0054508B]\n\tBaseThreadInitThunk [0x76017D69+25]\n\tRtlInitializeExceptionChain [0x77C9BB9B+107]\n\tRtlClearBits [0x77C9BB1F+191]\n"
     ]
    }
   ],
   "source": [
    "twitterr.click()"
   ]
  },
  {
   "cell_type": "code",
   "execution_count": null,
   "metadata": {},
   "outputs": [],
   "source": [
    "twitter2 = driver.find_elements(By.CLASS_NAME, 'css-901oao.css-1hf3ou5.r-14j79pv.r-37j5jr.r-n6v787.r-16dba41.r-1cwl3u0.r-bcqeeo.r-qvutc2')"
   ]
  },
  {
   "cell_type": "code",
   "execution_count": null,
   "metadata": {},
   "outputs": [],
   "source": [
    "twitter2"
   ]
  },
  {
   "cell_type": "markdown",
   "metadata": {},
   "source": [
    "#### Number of followers of a given twitter account"
   ]
  },
  {
   "cell_type": "markdown",
   "metadata": {},
   "source": [
    "You will need to include a ***try/except block*** in case account/s name not found. \n",
    "<br>***Hint:*** the program should count the followers for any provided account"
   ]
  },
  {
   "cell_type": "code",
   "execution_count": null,
   "metadata": {},
   "outputs": [],
   "source": [
    "# This is the url you will scrape in this exercise \n",
    "# You will need to add the account credentials to this url\n",
    "url = 'https://twitter.com/'"
   ]
  },
  {
   "cell_type": "code",
   "execution_count": null,
   "metadata": {},
   "outputs": [],
   "source": [
    "#your code"
   ]
  },
  {
   "cell_type": "markdown",
   "metadata": {},
   "source": [
    "#### List all language names and number of related articles in the order they appear in wikipedia.org"
   ]
  },
  {
   "cell_type": "code",
   "execution_count": null,
   "metadata": {},
   "outputs": [],
   "source": [
    "# This is the url you will scrape in this exercise\n",
    "url = 'https://www.wikipedia.org/'"
   ]
  },
  {
   "cell_type": "code",
   "execution_count": null,
   "metadata": {},
   "outputs": [],
   "source": [
    "driver=webdriver.Chrome(PATH)\n",
    "driver.get(url)"
   ]
  },
  {
   "cell_type": "code",
   "execution_count": null,
   "metadata": {},
   "outputs": [],
   "source": [
    "list_l = driver.find_elements(By.CLASS_NAME, 'link-box')"
   ]
  },
  {
   "cell_type": "code",
   "execution_count": null,
   "metadata": {},
   "outputs": [],
   "source": [
    "list_l[0].text"
   ]
  },
  {
   "cell_type": "code",
   "execution_count": null,
   "metadata": {},
   "outputs": [],
   "source": [
    "list_l[0].text.strip().replace('\\n', ' ').replace('\\xa0', ' ').replace('+', '')"
   ]
  },
  {
   "cell_type": "code",
   "execution_count": null,
   "metadata": {},
   "outputs": [],
   "source": [
    "lan2 = []\n",
    "\n",
    "for i in range(len(list_l)):\n",
    "    lan2.append(list_l[i].text.strip().replace('\\n', ' ').replace('\\xa0', ' ').replace('+', ''))\n",
    "lan2"
   ]
  },
  {
   "cell_type": "markdown",
   "metadata": {},
   "source": [
    "#### A list with the different kind of datasets available in data.gov.uk "
   ]
  },
  {
   "cell_type": "code",
   "execution_count": null,
   "metadata": {},
   "outputs": [],
   "source": [
    "# This is the url you will scrape in this exercise\n",
    "url = 'https://data.gov.uk/'"
   ]
  },
  {
   "cell_type": "code",
   "execution_count": null,
   "metadata": {},
   "outputs": [],
   "source": [
    "driver=webdriver.Chrome(PATH)\n",
    "driver.get(url)"
   ]
  },
  {
   "cell_type": "code",
   "execution_count": null,
   "metadata": {},
   "outputs": [],
   "source": [
    "dataset = driver.find_elements(By.CLASS_NAME, 'govuk-link')"
   ]
  },
  {
   "cell_type": "code",
   "execution_count": null,
   "metadata": {},
   "outputs": [],
   "source": [
    "dataset[4].text"
   ]
  },
  {
   "cell_type": "code",
   "execution_count": null,
   "metadata": {
    "scrolled": true
   },
   "outputs": [],
   "source": [
    "dataset_2 = []\n",
    "for e in range(4, len(dataset)):\n",
    "    dataset_2.append(dataset[e].text)\n",
    "dataset_2\n",
    "    \n",
    "    \n",
    "    \n"
   ]
  },
  {
   "cell_type": "markdown",
   "metadata": {},
   "source": [
    "#### Top 10 languages by number of native speakers stored in a Pandas Dataframe"
   ]
  },
  {
   "cell_type": "code",
   "execution_count": null,
   "metadata": {},
   "outputs": [],
   "source": [
    "# This is the url you will scrape in this exercise\n",
    "url = 'https://en.wikipedia.org/wiki/List_of_languages_by_number_of_native_speakers'"
   ]
  },
  {
   "cell_type": "code",
   "execution_count": null,
   "metadata": {},
   "outputs": [],
   "source": [
    "driver.get(url)"
   ]
  },
  {
   "cell_type": "code",
   "execution_count": null,
   "metadata": {},
   "outputs": [],
   "source": [
    "top10 = driver.find_elements(By.CLASS_NAME, 'headerSort')"
   ]
  },
  {
   "cell_type": "code",
   "execution_count": null,
   "metadata": {},
   "outputs": [],
   "source": [
    "top10[0].text"
   ]
  },
  {
   "cell_type": "code",
   "execution_count": null,
   "metadata": {},
   "outputs": [],
   "source": [
    "col_names2 = []\n",
    "for e in top10[0:2]:\n",
    "    name = e.text\n",
    "    col_names2.append(name)\n",
    "#col_names2 = top10[0:2]"
   ]
  },
  {
   "cell_type": "code",
   "execution_count": null,
   "metadata": {},
   "outputs": [],
   "source": [
    "col_names2"
   ]
  },
  {
   "cell_type": "code",
   "execution_count": null,
   "metadata": {},
   "outputs": [],
   "source": [
    "languages = driver.find_elements(By.CLASS_NAME, 'mw-redirect')"
   ]
  },
  {
   "cell_type": "code",
   "execution_count": null,
   "metadata": {},
   "outputs": [],
   "source": [
    "languages[7].text"
   ]
  },
  {
   "cell_type": "code",
   "execution_count": null,
   "metadata": {},
   "outputs": [],
   "source": [
    "languages_2 = []\n",
    "for e in range(7,17):\n",
    "    languages_2.append(languages[e].text)"
   ]
  },
  {
   "cell_type": "code",
   "execution_count": null,
   "metadata": {},
   "outputs": [],
   "source": [
    "languages_2"
   ]
  },
  {
   "cell_type": "code",
   "execution_count": null,
   "metadata": {},
   "outputs": [],
   "source": [
    "millions = driver.find_elements(By.TAG_NAME, 'td')"
   ]
  },
  {
   "cell_type": "code",
   "execution_count": null,
   "metadata": {},
   "outputs": [],
   "source": [
    "millions[1].text"
   ]
  },
  {
   "cell_type": "code",
   "execution_count": null,
   "metadata": {},
   "outputs": [],
   "source": [
    "millions_2 = []\n",
    "for x in range(len(millions)):\n",
    "    millions_2.append(millions[x].text)\n",
    "    \n"
   ]
  },
  {
   "cell_type": "code",
   "execution_count": null,
   "metadata": {},
   "outputs": [],
   "source": [
    "millions_2 = millions_2[1:41:4]"
   ]
  },
  {
   "cell_type": "code",
   "execution_count": null,
   "metadata": {},
   "outputs": [],
   "source": [
    "millions_2"
   ]
  },
  {
   "cell_type": "code",
   "execution_count": null,
   "metadata": {},
   "outputs": [],
   "source": [
    "df_lan = pd.DataFrame(columns=col_names2)"
   ]
  },
  {
   "cell_type": "code",
   "execution_count": null,
   "metadata": {},
   "outputs": [],
   "source": [
    "df_lan"
   ]
  },
  {
   "cell_type": "code",
   "execution_count": null,
   "metadata": {},
   "outputs": [],
   "source": [
    "df_lan['Language'] = languages_2\n",
    "df_lan['Native speakers\\n(millions)'] = millions_2"
   ]
  },
  {
   "cell_type": "code",
   "execution_count": null,
   "metadata": {
    "scrolled": true
   },
   "outputs": [],
   "source": [
    "df_lan = df_lan.drop('Native speakers\\n(millions' , axis = 1)"
   ]
  },
  {
   "cell_type": "code",
   "execution_count": null,
   "metadata": {
    "scrolled": true
   },
   "outputs": [],
   "source": [
    "df_lan"
   ]
  },
  {
   "cell_type": "markdown",
   "metadata": {},
   "source": [
    "### BONUS QUESTIONS"
   ]
  },
  {
   "cell_type": "markdown",
   "metadata": {},
   "source": [
    "#### Scrape a certain number of tweets of a given Twitter account."
   ]
  },
  {
   "cell_type": "code",
   "execution_count": null,
   "metadata": {},
   "outputs": [],
   "source": [
    "# This is the url you will scrape in this exercise \n",
    "# You will need to add the account credentials to this url\n",
    "url = 'https://twitter.com/'"
   ]
  },
  {
   "cell_type": "code",
   "execution_count": null,
   "metadata": {},
   "outputs": [],
   "source": [
    "# your code"
   ]
  },
  {
   "cell_type": "markdown",
   "metadata": {},
   "source": [
    "#### IMDB's Top 250 data (movie name, Initial release, director name and stars) as a pandas dataframe"
   ]
  },
  {
   "cell_type": "code",
   "execution_count": null,
   "metadata": {},
   "outputs": [],
   "source": [
    "# This is the url you will scrape in this exercise \n",
    "url = 'https://www.imdb.com/chart/top'"
   ]
  },
  {
   "cell_type": "code",
   "execution_count": null,
   "metadata": {},
   "outputs": [],
   "source": [
    "# your code"
   ]
  },
  {
   "cell_type": "markdown",
   "metadata": {},
   "source": [
    "#### Movie name, year and a brief summary of the top 10 random movies (IMDB) as a pandas dataframe."
   ]
  },
  {
   "cell_type": "code",
   "execution_count": null,
   "metadata": {},
   "outputs": [],
   "source": [
    "#This is the url you will scrape in this exercise\n",
    "url = 'http://www.imdb.com/chart/top'"
   ]
  },
  {
   "cell_type": "code",
   "execution_count": null,
   "metadata": {},
   "outputs": [],
   "source": [
    "#your code"
   ]
  },
  {
   "cell_type": "markdown",
   "metadata": {},
   "source": [
    "#### Find the live weather report (temperature, wind speed, description and weather) of a given city."
   ]
  },
  {
   "cell_type": "code",
   "execution_count": null,
   "metadata": {},
   "outputs": [],
   "source": [
    "#https://openweathermap.org/current\n",
    "city = city=input('Enter the city:')\n",
    "url = 'http://api.openweathermap.org/data/2.5/weather?'+'q='+city+'&APPID=b35975e18dc93725acb092f7272cc6b8&units=metric'"
   ]
  },
  {
   "cell_type": "code",
   "execution_count": null,
   "metadata": {},
   "outputs": [],
   "source": [
    "# your code"
   ]
  },
  {
   "cell_type": "markdown",
   "metadata": {},
   "source": [
    "#### Book name,price and stock availability as a pandas dataframe."
   ]
  },
  {
   "cell_type": "code",
   "execution_count": null,
   "metadata": {},
   "outputs": [],
   "source": [
    "# This is the url you will scrape in this exercise. \n",
    "# It is a fictional bookstore created to be scraped. \n",
    "url = 'http://books.toscrape.com/'"
   ]
  },
  {
   "cell_type": "code",
   "execution_count": null,
   "metadata": {},
   "outputs": [],
   "source": [
    "#your code"
   ]
  }
 ],
 "metadata": {
  "kernelspec": {
   "display_name": "Python 3 (ipykernel)",
   "language": "python",
   "name": "python3"
  },
  "language_info": {
   "codemirror_mode": {
    "name": "ipython",
    "version": 3
   },
   "file_extension": ".py",
   "mimetype": "text/x-python",
   "name": "python",
   "nbconvert_exporter": "python",
   "pygments_lexer": "ipython3",
   "version": "3.9.13"
  }
 },
 "nbformat": 4,
 "nbformat_minor": 2
}
