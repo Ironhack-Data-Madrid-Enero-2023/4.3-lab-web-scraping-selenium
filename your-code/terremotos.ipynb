{
 "cells": [
  {
   "cell_type": "markdown",
   "metadata": {},
   "source": [
    "# Web Scraping Lab\n",
    "\n",
    "You will find in this notebook some scrapy exercises to practise your scraping skills.\n",
    "\n",
    "**Tips:**\n",
    "\n",
    "- Check the response status code for each request to ensure you have obtained the intended contennt.\n",
    "- Print the response text in each request to understand the kind of info you are getting and its format.\n",
    "- Check for patterns in the response text to extract the data/info requested in each question.\n",
    "- Visit each url and take a look at its source through Chrome DevTools. You'll need to identify the html tags, special class names etc. used for the html content you are expected to extract."
   ]
  },
  {
   "cell_type": "markdown",
   "metadata": {},
   "source": [
    "- [Requests library](http://docs.python-requests.org/en/master/#the-user-guide) documentation \n",
    "- [Beautiful Soup Doc](https://www.crummy.com/software/BeautifulSoup/bs4/doc/)\n",
    "- [Urllib](https://docs.python.org/3/library/urllib.html#module-urllib)\n",
    "- [re lib](https://docs.python.org/3/library/re.html)\n",
    "- [lxml lib](https://lxml.de/)\n",
    "- [Scrapy](https://scrapy.org/)\n",
    "- [List of HTTP status codes](https://en.wikipedia.org/wiki/List_of_HTTP_status_codes)\n",
    "- [HTML basics](http://www.simplehtmlguide.com/cheatsheet.php)\n",
    "- [CSS basics](https://www.cssbasics.com/#page_start)"
   ]
  },
  {
   "cell_type": "markdown",
   "metadata": {},
   "source": [
    "#### Below are the libraries and modules you may need. `requests`,  `BeautifulSoup` and `pandas` are imported for you. If you prefer to use additional libraries feel free to uncomment them."
   ]
  },
  {
   "cell_type": "code",
   "execution_count": 1,
   "metadata": {},
   "outputs": [],
   "source": [
    "import requests as req\n",
    "from bs4 import BeautifulSoup as bs\n",
    "import pandas as pd"
   ]
  },
  {
   "cell_type": "markdown",
   "metadata": {},
   "source": [
    "#### Download, parse (using BeautifulSoup), and print the content from the Trending Developers page from GitHub:"
   ]
  },
  {
   "cell_type": "code",
   "execution_count": null,
   "metadata": {},
   "outputs": [],
   "source": [
    "# This is the url you will scrape in this exercise\n",
    "url = 'https://github.com/trending/developers'"
   ]
  },
  {
   "cell_type": "code",
   "execution_count": null,
   "metadata": {},
   "outputs": [],
   "source": [
    "#your code"
   ]
  },
  {
   "cell_type": "markdown",
   "metadata": {},
   "source": [
    "#### Display the names of the trending developers retrieved in the previous step.\n",
    "\n",
    "Your output should be a Python list of developer names. Each name should not contain any html tag.\n",
    "\n",
    "**Instructions:**\n",
    "\n",
    "1. Find out the html tag and class names used for the developer names. You can achieve this using Chrome DevTools.\n",
    "\n",
    "1. Use BeautifulSoup to extract all the html elements that contain the developer names.\n",
    "\n",
    "1. Use string manipulation techniques to replace whitespaces and linebreaks (i.e. `\\n`) in the *text* of each html element. Use a list to store the clean names.\n",
    "\n",
    "1. Print the list of names.\n",
    "\n",
    "Your output should look like below:\n",
    "\n",
    "```\n",
    "['trimstray (@trimstray)',\n",
    " 'joewalnes (JoeWalnes)',\n",
    " 'charlax (Charles-AxelDein)',\n",
    " 'ForrestKnight (ForrestKnight)',\n",
    " 'revery-ui (revery-ui)',\n",
    " 'alibaba (Alibaba)',\n",
    " 'Microsoft (Microsoft)',\n",
    " 'github (GitHub)',\n",
    " 'facebook (Facebook)',\n",
    " 'boazsegev (Bo)',\n",
    " 'google (Google)',\n",
    " 'cloudfetch',\n",
    " 'sindresorhus (SindreSorhus)',\n",
    " 'tensorflow',\n",
    " 'apache (TheApacheSoftwareFoundation)',\n",
    " 'DevonCrawford (DevonCrawford)',\n",
    " 'ARMmbed (ArmMbed)',\n",
    " 'vuejs (vuejs)',\n",
    " 'fastai (fast.ai)',\n",
    " 'QiShaoXuan (Qi)',\n",
    " 'joelparkerhenderson (JoelParkerHenderson)',\n",
    " 'torvalds (LinusTorvalds)',\n",
    " 'CyC2018',\n",
    " 'komeiji-satori (神楽坂覚々)',\n",
    " 'script-8']\n",
    " ```"
   ]
  },
  {
   "cell_type": "code",
   "execution_count": null,
   "metadata": {},
   "outputs": [],
   "source": [
    "#your code"
   ]
  },
  {
   "cell_type": "markdown",
   "metadata": {},
   "source": [
    "#### Display the trending Python repositories in GitHub\n",
    "\n",
    "The steps to solve this problem is similar to the previous one except that you need to find out the repository names instead of developer names."
   ]
  },
  {
   "cell_type": "code",
   "execution_count": null,
   "metadata": {},
   "outputs": [],
   "source": [
    "# This is the url you will scrape in this exercise\n",
    "url = 'https://github.com/trending/python?since=daily'"
   ]
  },
  {
   "cell_type": "code",
   "execution_count": null,
   "metadata": {},
   "outputs": [],
   "source": [
    "#your code"
   ]
  },
  {
   "cell_type": "markdown",
   "metadata": {},
   "source": [
    "#### Display all the image links from Walt Disney wikipedia page"
   ]
  },
  {
   "cell_type": "code",
   "execution_count": null,
   "metadata": {},
   "outputs": [],
   "source": [
    "# This is the url you will scrape in this exercise\n",
    "url = 'https://en.wikipedia.org/wiki/Walt_Disney'"
   ]
  },
  {
   "cell_type": "code",
   "execution_count": null,
   "metadata": {},
   "outputs": [],
   "source": [
    "#your code"
   ]
  },
  {
   "cell_type": "markdown",
   "metadata": {},
   "source": [
    "#### Retrieve an arbitary Wikipedia page of \"Python\" and create a list of links on that page"
   ]
  },
  {
   "cell_type": "code",
   "execution_count": null,
   "metadata": {},
   "outputs": [],
   "source": [
    "# This is the url you will scrape in this exercise\n",
    "url ='https://en.wikipedia.org/wiki/Python' "
   ]
  },
  {
   "cell_type": "code",
   "execution_count": null,
   "metadata": {},
   "outputs": [],
   "source": [
    "#your code"
   ]
  },
  {
   "cell_type": "markdown",
   "metadata": {},
   "source": [
    "#### Number of Titles that have changed in the United States Code since its last release point "
   ]
  },
  {
   "cell_type": "code",
   "execution_count": null,
   "metadata": {},
   "outputs": [],
   "source": [
    "# This is the url you will scrape in this exercise\n",
    "url = 'http://uscode.house.gov/download/download.shtml'"
   ]
  },
  {
   "cell_type": "code",
   "execution_count": null,
   "metadata": {},
   "outputs": [],
   "source": [
    "#your code"
   ]
  },
  {
   "cell_type": "markdown",
   "metadata": {},
   "source": [
    "#### A Python list with the top ten FBI's Most Wanted names "
   ]
  },
  {
   "cell_type": "code",
   "execution_count": null,
   "metadata": {},
   "outputs": [],
   "source": [
    "# This is the url you will scrape in this exercise\n",
    "url = 'https://www.fbi.gov/wanted/topten'"
   ]
  },
  {
   "cell_type": "code",
   "execution_count": null,
   "metadata": {},
   "outputs": [],
   "source": [
    "#your code "
   ]
  },
  {
   "cell_type": "markdown",
   "metadata": {},
   "source": [
    "####  20 latest earthquakes info (date, time, latitude, longitude and region name) by the EMSC as a pandas dataframe"
   ]
  },
  {
   "cell_type": "code",
   "execution_count": 2,
   "metadata": {},
   "outputs": [],
   "source": [
    "# This is the url you will scrape in this exercise\n",
    "url = 'https://www.emsc-csem.org/Earthquake/'"
   ]
  },
  {
   "cell_type": "code",
   "execution_count": 3,
   "metadata": {},
   "outputs": [],
   "source": [
    "#your code\n",
    "\n",
    "\n",
    "html = req.get(url).content\n",
    "\n",
    "sopa = bs(html, 'html.parser')"
   ]
  },
  {
   "cell_type": "code",
   "execution_count": 6,
   "metadata": {},
   "outputs": [],
   "source": [
    "tabla = sopa.find_all('table')[3]"
   ]
  },
  {
   "cell_type": "code",
   "execution_count": 10,
   "metadata": {},
   "outputs": [],
   "source": [
    "cabecera = tabla.find('thead')"
   ]
  },
  {
   "cell_type": "code",
   "execution_count": 12,
   "metadata": {},
   "outputs": [
    {
     "data": {
      "text/plain": [
       "['CitizenResponse', 'Date & Time UTC']"
      ]
     },
     "execution_count": 12,
     "metadata": {},
     "output_type": "execute_result"
    }
   ],
   "source": [
    "res=[]\n",
    "\n",
    "for e in cabecera.find_all('th'):\n",
    "    res.append(e.text)\n",
    "    \n",
    "res[:2]"
   ]
  },
  {
   "cell_type": "code",
   "execution_count": 71,
   "metadata": {},
   "outputs": [
    {
     "data": {
      "text/plain": [
       "['Date & Time UTC',\n",
       " 'Latitude degrees',\n",
       " 'Longitude degrees',\n",
       " 'Depth km',\n",
       " 'Mag  [+]',\n",
       " 'Region name  [+]']"
      ]
     },
     "execution_count": 71,
     "metadata": {},
     "output_type": "execute_result"
    }
   ],
   "source": [
    "col_names = [e.text for e in cabecera.find_all('th')][1:7]\n",
    "\n",
    "col_names"
   ]
  },
  {
   "cell_type": "code",
   "execution_count": 15,
   "metadata": {},
   "outputs": [],
   "source": [
    "cuerpo = tabla.find('tbody')"
   ]
  },
  {
   "cell_type": "code",
   "execution_count": 20,
   "metadata": {},
   "outputs": [],
   "source": [
    "filas = cuerpo.find_all('tr')"
   ]
  },
  {
   "cell_type": "code",
   "execution_count": 42,
   "metadata": {},
   "outputs": [
    {
     "data": {
      "text/plain": [
       "'2023-02-08 07:50:14.9'"
      ]
     },
     "execution_count": 42,
     "metadata": {},
     "output_type": "execute_result"
    }
   ],
   "source": [
    "filas[0].find('td', class_='tabev6').text.replace('\\xa0\\xa0\\xa0', ' ')[10:31]"
   ]
  },
  {
   "cell_type": "code",
   "execution_count": 38,
   "metadata": {},
   "outputs": [],
   "source": [
    "date = [f.find('td', class_='tabev6').text.replace('\\xa0\\xa0\\xa0', ' ')[10:31] for f in filas]"
   ]
  },
  {
   "cell_type": "code",
   "execution_count": 48,
   "metadata": {},
   "outputs": [
    {
     "data": {
      "text/plain": [
       "'19.14'"
      ]
     },
     "execution_count": 48,
     "metadata": {},
     "output_type": "execute_result"
    }
   ],
   "source": [
    "filas[0].find_all('td', class_='tabev1')[0].text.strip()"
   ]
  },
  {
   "cell_type": "code",
   "execution_count": 50,
   "metadata": {},
   "outputs": [],
   "source": [
    "latitud = [f.find_all('td', class_='tabev1')[0].text.strip() for f in filas]"
   ]
  },
  {
   "cell_type": "code",
   "execution_count": 51,
   "metadata": {},
   "outputs": [],
   "source": [
    "longitud = [f.find_all('td', class_='tabev1')[1].text.strip() for f in filas]"
   ]
  },
  {
   "cell_type": "code",
   "execution_count": 54,
   "metadata": {},
   "outputs": [
    {
     "data": {
      "text/plain": [
       "'N'"
      ]
     },
     "execution_count": 54,
     "metadata": {},
     "output_type": "execute_result"
    }
   ],
   "source": [
    "filas[0].find_all('td', class_='tabev2')[0].text.strip()"
   ]
  },
  {
   "cell_type": "code",
   "execution_count": 60,
   "metadata": {},
   "outputs": [],
   "source": [
    "lat_coord = [f.find_all('td', class_='tabev2')[0].text.strip() for f in filas]"
   ]
  },
  {
   "cell_type": "code",
   "execution_count": 59,
   "metadata": {},
   "outputs": [],
   "source": [
    "lng_coord = [f.find_all('td', class_='tabev2')[1].text.strip() for f in filas]"
   ]
  },
  {
   "cell_type": "code",
   "execution_count": 61,
   "metadata": {},
   "outputs": [],
   "source": [
    "magnitud = [f.find_all('td', class_='tabev2')[2].text.strip() for f in filas]"
   ]
  },
  {
   "cell_type": "code",
   "execution_count": 66,
   "metadata": {},
   "outputs": [],
   "source": [
    "prof = [f.find('td', class_='tabev3').text for f in filas]"
   ]
  },
  {
   "cell_type": "code",
   "execution_count": 70,
   "metadata": {},
   "outputs": [],
   "source": [
    "region = [f.find('td', class_='tb_region').text.strip() for f in filas]"
   ]
  },
  {
   "cell_type": "code",
   "execution_count": 72,
   "metadata": {},
   "outputs": [
    {
     "data": {
      "text/html": [
       "<div>\n",
       "<style scoped>\n",
       "    .dataframe tbody tr th:only-of-type {\n",
       "        vertical-align: middle;\n",
       "    }\n",
       "\n",
       "    .dataframe tbody tr th {\n",
       "        vertical-align: top;\n",
       "    }\n",
       "\n",
       "    .dataframe thead th {\n",
       "        text-align: right;\n",
       "    }\n",
       "</style>\n",
       "<table border=\"1\" class=\"dataframe\">\n",
       "  <thead>\n",
       "    <tr style=\"text-align: right;\">\n",
       "      <th></th>\n",
       "      <th>Date &amp; Time UTC</th>\n",
       "      <th>Latitude degrees</th>\n",
       "      <th>Longitude degrees</th>\n",
       "      <th>Depth km</th>\n",
       "      <th>Mag  [+]</th>\n",
       "      <th>Region name  [+]</th>\n",
       "    </tr>\n",
       "  </thead>\n",
       "  <tbody>\n",
       "  </tbody>\n",
       "</table>\n",
       "</div>"
      ],
      "text/plain": [
       "Empty DataFrame\n",
       "Columns: [Date & Time UTC, Latitude degrees, Longitude degrees, Depth km, Mag  [+], Region name  [+]]\n",
       "Index: []"
      ]
     },
     "execution_count": 72,
     "metadata": {},
     "output_type": "execute_result"
    }
   ],
   "source": [
    "df = pd.DataFrame(columns=col_names)\n",
    "\n",
    "df"
   ]
  },
  {
   "cell_type": "code",
   "execution_count": 75,
   "metadata": {},
   "outputs": [
    {
     "data": {
      "text/html": [
       "<div>\n",
       "<style scoped>\n",
       "    .dataframe tbody tr th:only-of-type {\n",
       "        vertical-align: middle;\n",
       "    }\n",
       "\n",
       "    .dataframe tbody tr th {\n",
       "        vertical-align: top;\n",
       "    }\n",
       "\n",
       "    .dataframe thead th {\n",
       "        text-align: right;\n",
       "    }\n",
       "</style>\n",
       "<table border=\"1\" class=\"dataframe\">\n",
       "  <thead>\n",
       "    <tr style=\"text-align: right;\">\n",
       "      <th></th>\n",
       "      <th>Date &amp; Time UTC</th>\n",
       "      <th>Latitude degrees</th>\n",
       "      <th>Longitude degrees</th>\n",
       "      <th>Depth km</th>\n",
       "      <th>Mag  [+]</th>\n",
       "      <th>Region name  [+]</th>\n",
       "    </tr>\n",
       "  </thead>\n",
       "  <tbody>\n",
       "    <tr>\n",
       "      <th>0</th>\n",
       "      <td>2023-02-08 07:50:14.9</td>\n",
       "      <td>19.14</td>\n",
       "      <td>155.37</td>\n",
       "      <td>30</td>\n",
       "      <td>2.1</td>\n",
       "      <td>ISLAND OF HAWAII, HAWAII</td>\n",
       "    </tr>\n",
       "    <tr>\n",
       "      <th>1</th>\n",
       "      <td>2023-02-08 07:48:31.1</td>\n",
       "      <td>38.06</td>\n",
       "      <td>36.46</td>\n",
       "      <td>10</td>\n",
       "      <td>4.9</td>\n",
       "      <td>CENTRAL TURKEY</td>\n",
       "    </tr>\n",
       "    <tr>\n",
       "      <th>2</th>\n",
       "      <td>2023-02-08 07:46:44.0</td>\n",
       "      <td>15.00</td>\n",
       "      <td>94.30</td>\n",
       "      <td>23</td>\n",
       "      <td>4.0</td>\n",
       "      <td>OFF COAST OF CHIAPAS, MEXICO</td>\n",
       "    </tr>\n",
       "    <tr>\n",
       "      <th>3</th>\n",
       "      <td>2023-02-08 07:42:02.0</td>\n",
       "      <td>8.14</td>\n",
       "      <td>114.79</td>\n",
       "      <td>10</td>\n",
       "      <td>3.7</td>\n",
       "      <td>BALI REGION, INDONESIA</td>\n",
       "    </tr>\n",
       "    <tr>\n",
       "      <th>4</th>\n",
       "      <td>2023-02-08 07:36:09.0</td>\n",
       "      <td>11.29</td>\n",
       "      <td>124.61</td>\n",
       "      <td>6</td>\n",
       "      <td>3.4</td>\n",
       "      <td>LEYTE, PHILIPPINES</td>\n",
       "    </tr>\n",
       "    <tr>\n",
       "      <th>5</th>\n",
       "      <td>2023-02-08 07:35:30.0</td>\n",
       "      <td>31.41</td>\n",
       "      <td>68.50</td>\n",
       "      <td>105</td>\n",
       "      <td>3.3</td>\n",
       "      <td>SAN JUAN, ARGENTINA</td>\n",
       "    </tr>\n",
       "    <tr>\n",
       "      <th>6</th>\n",
       "      <td>2023-02-08 07:33:43.0</td>\n",
       "      <td>38.12</td>\n",
       "      <td>37.01</td>\n",
       "      <td>5</td>\n",
       "      <td>3.4</td>\n",
       "      <td>CENTRAL TURKEY</td>\n",
       "    </tr>\n",
       "    <tr>\n",
       "      <th>7</th>\n",
       "      <td>2023-02-08 07:33:23.1</td>\n",
       "      <td>38.79</td>\n",
       "      <td>122.73</td>\n",
       "      <td>1</td>\n",
       "      <td>2.2</td>\n",
       "      <td>NORTHERN CALIFORNIA</td>\n",
       "    </tr>\n",
       "    <tr>\n",
       "      <th>8</th>\n",
       "      <td>2023-02-08 07:28:25.8</td>\n",
       "      <td>37.97</td>\n",
       "      <td>37.76</td>\n",
       "      <td>5</td>\n",
       "      <td>3.8</td>\n",
       "      <td>CENTRAL TURKEY</td>\n",
       "    </tr>\n",
       "    <tr>\n",
       "      <th>9</th>\n",
       "      <td>2023-02-08 07:27:46.0</td>\n",
       "      <td>12.47</td>\n",
       "      <td>87.75</td>\n",
       "      <td>35</td>\n",
       "      <td>2.8</td>\n",
       "      <td>NEAR COAST OF NICARAGUA</td>\n",
       "    </tr>\n",
       "    <tr>\n",
       "      <th>10</th>\n",
       "      <td>2023-02-08 07:23:45.9</td>\n",
       "      <td>36.38</td>\n",
       "      <td>36.07</td>\n",
       "      <td>9</td>\n",
       "      <td>3.9</td>\n",
       "      <td>TURKEY-SYRIA BORDER REGION</td>\n",
       "    </tr>\n",
       "    <tr>\n",
       "      <th>11</th>\n",
       "      <td>2023-02-08 07:20:44.1</td>\n",
       "      <td>36.84</td>\n",
       "      <td>36.42</td>\n",
       "      <td>8</td>\n",
       "      <td>3.7</td>\n",
       "      <td>TURKEY-SYRIA BORDER REGION</td>\n",
       "    </tr>\n",
       "    <tr>\n",
       "      <th>12</th>\n",
       "      <td>2023-02-08 07:15:07.7</td>\n",
       "      <td>38.00</td>\n",
       "      <td>37.52</td>\n",
       "      <td>5</td>\n",
       "      <td>3.5</td>\n",
       "      <td>CENTRAL TURKEY</td>\n",
       "    </tr>\n",
       "    <tr>\n",
       "      <th>13</th>\n",
       "      <td>2023-02-08 07:12:25.6</td>\n",
       "      <td>37.93</td>\n",
       "      <td>37.65</td>\n",
       "      <td>5</td>\n",
       "      <td>2.9</td>\n",
       "      <td>CENTRAL TURKEY</td>\n",
       "    </tr>\n",
       "    <tr>\n",
       "      <th>14</th>\n",
       "      <td>2023-02-08 07:11:15.8</td>\n",
       "      <td>18.16</td>\n",
       "      <td>67.99</td>\n",
       "      <td>94</td>\n",
       "      <td>3.4</td>\n",
       "      <td>MONA PASSAGE, PUERTO RICO</td>\n",
       "    </tr>\n",
       "    <tr>\n",
       "      <th>15</th>\n",
       "      <td>2023-02-08 07:09:34.5</td>\n",
       "      <td>38.23</td>\n",
       "      <td>37.26</td>\n",
       "      <td>5</td>\n",
       "      <td>3.9</td>\n",
       "      <td>CENTRAL TURKEY</td>\n",
       "    </tr>\n",
       "    <tr>\n",
       "      <th>16</th>\n",
       "      <td>2023-02-08 07:01:31.0</td>\n",
       "      <td>38.31</td>\n",
       "      <td>38.27</td>\n",
       "      <td>2</td>\n",
       "      <td>2.6</td>\n",
       "      <td>EASTERN TURKEY</td>\n",
       "    </tr>\n",
       "    <tr>\n",
       "      <th>17</th>\n",
       "      <td>2023-02-08 06:53:50.0</td>\n",
       "      <td>19.26</td>\n",
       "      <td>155.41</td>\n",
       "      <td>32</td>\n",
       "      <td>2.8</td>\n",
       "      <td>ISLAND OF HAWAII, HAWAII</td>\n",
       "    </tr>\n",
       "    <tr>\n",
       "      <th>18</th>\n",
       "      <td>2023-02-08 06:50:29.9</td>\n",
       "      <td>38.18</td>\n",
       "      <td>38.74</td>\n",
       "      <td>9</td>\n",
       "      <td>2.7</td>\n",
       "      <td>EASTERN TURKEY</td>\n",
       "    </tr>\n",
       "    <tr>\n",
       "      <th>19</th>\n",
       "      <td>2023-02-08 06:48:41.8</td>\n",
       "      <td>38.65</td>\n",
       "      <td>39.99</td>\n",
       "      <td>9</td>\n",
       "      <td>2.6</td>\n",
       "      <td>EASTERN TURKEY</td>\n",
       "    </tr>\n",
       "    <tr>\n",
       "      <th>20</th>\n",
       "      <td>2023-02-08 06:40:26.4</td>\n",
       "      <td>38.14</td>\n",
       "      <td>38.44</td>\n",
       "      <td>5</td>\n",
       "      <td>2.9</td>\n",
       "      <td>EASTERN TURKEY</td>\n",
       "    </tr>\n",
       "    <tr>\n",
       "      <th>21</th>\n",
       "      <td>2023-02-08 06:39:01.6</td>\n",
       "      <td>43.01</td>\n",
       "      <td>145.44</td>\n",
       "      <td>50</td>\n",
       "      <td>4.6</td>\n",
       "      <td>HOKKAIDO, JAPAN REGION</td>\n",
       "    </tr>\n",
       "    <tr>\n",
       "      <th>22</th>\n",
       "      <td>2023-02-08 06:35:17.6</td>\n",
       "      <td>35.59</td>\n",
       "      <td>36.82</td>\n",
       "      <td>24</td>\n",
       "      <td>3.4</td>\n",
       "      <td>SYRIA</td>\n",
       "    </tr>\n",
       "    <tr>\n",
       "      <th>23</th>\n",
       "      <td>2023-02-08 06:33:27.3</td>\n",
       "      <td>38.20</td>\n",
       "      <td>36.72</td>\n",
       "      <td>9</td>\n",
       "      <td>2.7</td>\n",
       "      <td>CENTRAL TURKEY</td>\n",
       "    </tr>\n",
       "    <tr>\n",
       "      <th>24</th>\n",
       "      <td>2023-02-08 06:33:17.4</td>\n",
       "      <td>37.12</td>\n",
       "      <td>28.24</td>\n",
       "      <td>6</td>\n",
       "      <td>2.5</td>\n",
       "      <td>WESTERN TURKEY</td>\n",
       "    </tr>\n",
       "    <tr>\n",
       "      <th>25</th>\n",
       "      <td>2023-02-08 06:31:25.6</td>\n",
       "      <td>44.56</td>\n",
       "      <td>10.44</td>\n",
       "      <td>23</td>\n",
       "      <td>2.0</td>\n",
       "      <td>NORTHERN ITALY</td>\n",
       "    </tr>\n",
       "    <tr>\n",
       "      <th>26</th>\n",
       "      <td>2023-02-08 06:28:26.0</td>\n",
       "      <td>3.68</td>\n",
       "      <td>119.12</td>\n",
       "      <td>17</td>\n",
       "      <td>2.5</td>\n",
       "      <td>SULAWESI, INDONESIA</td>\n",
       "    </tr>\n",
       "    <tr>\n",
       "      <th>27</th>\n",
       "      <td>2023-02-08 06:27:19.0</td>\n",
       "      <td>0.33</td>\n",
       "      <td>122.96</td>\n",
       "      <td>41</td>\n",
       "      <td>3.0</td>\n",
       "      <td>SULAWESI, INDONESIA</td>\n",
       "    </tr>\n",
       "    <tr>\n",
       "      <th>28</th>\n",
       "      <td>2023-02-08 06:26:36.2</td>\n",
       "      <td>5.56</td>\n",
       "      <td>82.61</td>\n",
       "      <td>10</td>\n",
       "      <td>4.6</td>\n",
       "      <td>SOUTH OF PANAMA</td>\n",
       "    </tr>\n",
       "    <tr>\n",
       "      <th>29</th>\n",
       "      <td>2023-02-08 06:23:57.8</td>\n",
       "      <td>37.90</td>\n",
       "      <td>36.55</td>\n",
       "      <td>5</td>\n",
       "      <td>3.1</td>\n",
       "      <td>CENTRAL TURKEY</td>\n",
       "    </tr>\n",
       "    <tr>\n",
       "      <th>30</th>\n",
       "      <td>2023-02-08 06:22:40.9</td>\n",
       "      <td>38.06</td>\n",
       "      <td>36.89</td>\n",
       "      <td>5</td>\n",
       "      <td>2.6</td>\n",
       "      <td>CENTRAL TURKEY</td>\n",
       "    </tr>\n",
       "    <tr>\n",
       "      <th>31</th>\n",
       "      <td>2023-02-08 06:21:36.7</td>\n",
       "      <td>35.89</td>\n",
       "      <td>27.45</td>\n",
       "      <td>10</td>\n",
       "      <td>3.1</td>\n",
       "      <td>DODECANESE ISLANDS, GREECE</td>\n",
       "    </tr>\n",
       "    <tr>\n",
       "      <th>32</th>\n",
       "      <td>2023-02-08 06:09:45.0</td>\n",
       "      <td>8.49</td>\n",
       "      <td>109.71</td>\n",
       "      <td>42</td>\n",
       "      <td>3.2</td>\n",
       "      <td>JAVA, INDONESIA</td>\n",
       "    </tr>\n",
       "    <tr>\n",
       "      <th>33</th>\n",
       "      <td>2023-02-08 06:08:34.9</td>\n",
       "      <td>38.20</td>\n",
       "      <td>38.45</td>\n",
       "      <td>1</td>\n",
       "      <td>4.4</td>\n",
       "      <td>EASTERN TURKEY</td>\n",
       "    </tr>\n",
       "    <tr>\n",
       "      <th>34</th>\n",
       "      <td>2023-02-08 05:53:38.0</td>\n",
       "      <td>8.03</td>\n",
       "      <td>83.03</td>\n",
       "      <td>13</td>\n",
       "      <td>3.8</td>\n",
       "      <td>COSTA RICA</td>\n",
       "    </tr>\n",
       "    <tr>\n",
       "      <th>35</th>\n",
       "      <td>2023-02-08 05:52:36.3</td>\n",
       "      <td>38.06</td>\n",
       "      <td>36.74</td>\n",
       "      <td>4</td>\n",
       "      <td>4.6</td>\n",
       "      <td>CENTRAL TURKEY</td>\n",
       "    </tr>\n",
       "    <tr>\n",
       "      <th>36</th>\n",
       "      <td>2023-02-08 05:49:36.3</td>\n",
       "      <td>38.79</td>\n",
       "      <td>122.73</td>\n",
       "      <td>2</td>\n",
       "      <td>2.5</td>\n",
       "      <td>NORTHERN CALIFORNIA</td>\n",
       "    </tr>\n",
       "    <tr>\n",
       "      <th>37</th>\n",
       "      <td>2023-02-08 05:47:33.4</td>\n",
       "      <td>38.19</td>\n",
       "      <td>37.67</td>\n",
       "      <td>4</td>\n",
       "      <td>2.7</td>\n",
       "      <td>CENTRAL TURKEY</td>\n",
       "    </tr>\n",
       "    <tr>\n",
       "      <th>38</th>\n",
       "      <td>2023-02-08 05:43:16.0</td>\n",
       "      <td>19.24</td>\n",
       "      <td>155.40</td>\n",
       "      <td>33</td>\n",
       "      <td>2.0</td>\n",
       "      <td>ISLAND OF HAWAII, HAWAII</td>\n",
       "    </tr>\n",
       "    <tr>\n",
       "      <th>39</th>\n",
       "      <td>2023-02-08 05:36:55.3</td>\n",
       "      <td>38.32</td>\n",
       "      <td>37.47</td>\n",
       "      <td>5</td>\n",
       "      <td>2.8</td>\n",
       "      <td>CENTRAL TURKEY</td>\n",
       "    </tr>\n",
       "    <tr>\n",
       "      <th>40</th>\n",
       "      <td>2023-02-08 05:34:07.7</td>\n",
       "      <td>37.17</td>\n",
       "      <td>36.94</td>\n",
       "      <td>6</td>\n",
       "      <td>3.0</td>\n",
       "      <td>CENTRAL TURKEY</td>\n",
       "    </tr>\n",
       "    <tr>\n",
       "      <th>41</th>\n",
       "      <td>2023-02-08 05:30:06.9</td>\n",
       "      <td>37.97</td>\n",
       "      <td>37.44</td>\n",
       "      <td>5</td>\n",
       "      <td>2.8</td>\n",
       "      <td>CENTRAL TURKEY</td>\n",
       "    </tr>\n",
       "    <tr>\n",
       "      <th>42</th>\n",
       "      <td>2023-02-08 05:26:13.7</td>\n",
       "      <td>37.34</td>\n",
       "      <td>36.82</td>\n",
       "      <td>4</td>\n",
       "      <td>3.2</td>\n",
       "      <td>CENTRAL TURKEY</td>\n",
       "    </tr>\n",
       "    <tr>\n",
       "      <th>43</th>\n",
       "      <td>2023-02-08 05:24:12.7</td>\n",
       "      <td>38.26</td>\n",
       "      <td>37.27</td>\n",
       "      <td>5</td>\n",
       "      <td>2.7</td>\n",
       "      <td>CENTRAL TURKEY</td>\n",
       "    </tr>\n",
       "    <tr>\n",
       "      <th>44</th>\n",
       "      <td>2023-02-08 05:22:45.5</td>\n",
       "      <td>37.50</td>\n",
       "      <td>37.10</td>\n",
       "      <td>9</td>\n",
       "      <td>2.5</td>\n",
       "      <td>CENTRAL TURKEY</td>\n",
       "    </tr>\n",
       "    <tr>\n",
       "      <th>45</th>\n",
       "      <td>2023-02-08 05:19:45.0</td>\n",
       "      <td>14.96</td>\n",
       "      <td>92.43</td>\n",
       "      <td>103</td>\n",
       "      <td>4.1</td>\n",
       "      <td>CHIAPAS, MEXICO</td>\n",
       "    </tr>\n",
       "    <tr>\n",
       "      <th>46</th>\n",
       "      <td>2023-02-08 05:13:20.5</td>\n",
       "      <td>38.09</td>\n",
       "      <td>36.97</td>\n",
       "      <td>19</td>\n",
       "      <td>2.9</td>\n",
       "      <td>CENTRAL TURKEY</td>\n",
       "    </tr>\n",
       "    <tr>\n",
       "      <th>47</th>\n",
       "      <td>2023-02-08 05:12:02.5</td>\n",
       "      <td>38.05</td>\n",
       "      <td>36.62</td>\n",
       "      <td>5</td>\n",
       "      <td>2.9</td>\n",
       "      <td>CENTRAL TURKEY</td>\n",
       "    </tr>\n",
       "    <tr>\n",
       "      <th>48</th>\n",
       "      <td>2023-02-08 04:58:08.9</td>\n",
       "      <td>38.02</td>\n",
       "      <td>37.52</td>\n",
       "      <td>5</td>\n",
       "      <td>3.8</td>\n",
       "      <td>CENTRAL TURKEY</td>\n",
       "    </tr>\n",
       "    <tr>\n",
       "      <th>49</th>\n",
       "      <td>2023-02-08 04:52:03.1</td>\n",
       "      <td>46.48</td>\n",
       "      <td>152.98</td>\n",
       "      <td>40</td>\n",
       "      <td>4.6</td>\n",
       "      <td>KURIL ISLANDS</td>\n",
       "    </tr>\n",
       "  </tbody>\n",
       "</table>\n",
       "</div>"
      ],
      "text/plain": [
       "          Date & Time UTC Latitude degrees Longitude degrees Depth km  \\\n",
       "0   2023-02-08 07:50:14.9            19.14            155.37       30   \n",
       "1   2023-02-08 07:48:31.1            38.06             36.46       10   \n",
       "2   2023-02-08 07:46:44.0            15.00             94.30       23   \n",
       "3   2023-02-08 07:42:02.0             8.14            114.79       10   \n",
       "4   2023-02-08 07:36:09.0            11.29            124.61        6   \n",
       "5   2023-02-08 07:35:30.0            31.41             68.50      105   \n",
       "6   2023-02-08 07:33:43.0            38.12             37.01        5   \n",
       "7   2023-02-08 07:33:23.1            38.79            122.73        1   \n",
       "8   2023-02-08 07:28:25.8            37.97             37.76        5   \n",
       "9   2023-02-08 07:27:46.0            12.47             87.75       35   \n",
       "10  2023-02-08 07:23:45.9            36.38             36.07        9   \n",
       "11  2023-02-08 07:20:44.1            36.84             36.42        8   \n",
       "12  2023-02-08 07:15:07.7            38.00             37.52        5   \n",
       "13  2023-02-08 07:12:25.6            37.93             37.65        5   \n",
       "14  2023-02-08 07:11:15.8            18.16             67.99       94   \n",
       "15  2023-02-08 07:09:34.5            38.23             37.26        5   \n",
       "16  2023-02-08 07:01:31.0            38.31             38.27        2   \n",
       "17  2023-02-08 06:53:50.0            19.26            155.41       32   \n",
       "18  2023-02-08 06:50:29.9            38.18             38.74        9   \n",
       "19  2023-02-08 06:48:41.8            38.65             39.99        9   \n",
       "20  2023-02-08 06:40:26.4            38.14             38.44        5   \n",
       "21  2023-02-08 06:39:01.6            43.01            145.44       50   \n",
       "22  2023-02-08 06:35:17.6            35.59             36.82       24   \n",
       "23  2023-02-08 06:33:27.3            38.20             36.72        9   \n",
       "24  2023-02-08 06:33:17.4            37.12             28.24        6   \n",
       "25  2023-02-08 06:31:25.6            44.56             10.44       23   \n",
       "26  2023-02-08 06:28:26.0             3.68            119.12       17   \n",
       "27  2023-02-08 06:27:19.0             0.33            122.96       41   \n",
       "28  2023-02-08 06:26:36.2             5.56             82.61       10   \n",
       "29  2023-02-08 06:23:57.8            37.90             36.55        5   \n",
       "30  2023-02-08 06:22:40.9            38.06             36.89        5   \n",
       "31  2023-02-08 06:21:36.7            35.89             27.45       10   \n",
       "32  2023-02-08 06:09:45.0             8.49            109.71       42   \n",
       "33  2023-02-08 06:08:34.9            38.20             38.45        1   \n",
       "34  2023-02-08 05:53:38.0             8.03             83.03       13   \n",
       "35  2023-02-08 05:52:36.3            38.06             36.74        4   \n",
       "36  2023-02-08 05:49:36.3            38.79            122.73        2   \n",
       "37  2023-02-08 05:47:33.4            38.19             37.67        4   \n",
       "38  2023-02-08 05:43:16.0            19.24            155.40       33   \n",
       "39  2023-02-08 05:36:55.3            38.32             37.47        5   \n",
       "40  2023-02-08 05:34:07.7            37.17             36.94        6   \n",
       "41  2023-02-08 05:30:06.9            37.97             37.44        5   \n",
       "42  2023-02-08 05:26:13.7            37.34             36.82        4   \n",
       "43  2023-02-08 05:24:12.7            38.26             37.27        5   \n",
       "44  2023-02-08 05:22:45.5            37.50             37.10        9   \n",
       "45  2023-02-08 05:19:45.0            14.96             92.43      103   \n",
       "46  2023-02-08 05:13:20.5            38.09             36.97       19   \n",
       "47  2023-02-08 05:12:02.5            38.05             36.62        5   \n",
       "48  2023-02-08 04:58:08.9            38.02             37.52        5   \n",
       "49  2023-02-08 04:52:03.1            46.48            152.98       40   \n",
       "\n",
       "   Mag  [+]              Region name  [+]  \n",
       "0       2.1      ISLAND OF HAWAII, HAWAII  \n",
       "1       4.9                CENTRAL TURKEY  \n",
       "2       4.0  OFF COAST OF CHIAPAS, MEXICO  \n",
       "3       3.7        BALI REGION, INDONESIA  \n",
       "4       3.4            LEYTE, PHILIPPINES  \n",
       "5       3.3           SAN JUAN, ARGENTINA  \n",
       "6       3.4                CENTRAL TURKEY  \n",
       "7       2.2           NORTHERN CALIFORNIA  \n",
       "8       3.8                CENTRAL TURKEY  \n",
       "9       2.8       NEAR COAST OF NICARAGUA  \n",
       "10      3.9    TURKEY-SYRIA BORDER REGION  \n",
       "11      3.7    TURKEY-SYRIA BORDER REGION  \n",
       "12      3.5                CENTRAL TURKEY  \n",
       "13      2.9                CENTRAL TURKEY  \n",
       "14      3.4     MONA PASSAGE, PUERTO RICO  \n",
       "15      3.9                CENTRAL TURKEY  \n",
       "16      2.6                EASTERN TURKEY  \n",
       "17      2.8      ISLAND OF HAWAII, HAWAII  \n",
       "18      2.7                EASTERN TURKEY  \n",
       "19      2.6                EASTERN TURKEY  \n",
       "20      2.9                EASTERN TURKEY  \n",
       "21      4.6        HOKKAIDO, JAPAN REGION  \n",
       "22      3.4                         SYRIA  \n",
       "23      2.7                CENTRAL TURKEY  \n",
       "24      2.5                WESTERN TURKEY  \n",
       "25      2.0                NORTHERN ITALY  \n",
       "26      2.5           SULAWESI, INDONESIA  \n",
       "27      3.0           SULAWESI, INDONESIA  \n",
       "28      4.6               SOUTH OF PANAMA  \n",
       "29      3.1                CENTRAL TURKEY  \n",
       "30      2.6                CENTRAL TURKEY  \n",
       "31      3.1    DODECANESE ISLANDS, GREECE  \n",
       "32      3.2               JAVA, INDONESIA  \n",
       "33      4.4                EASTERN TURKEY  \n",
       "34      3.8                    COSTA RICA  \n",
       "35      4.6                CENTRAL TURKEY  \n",
       "36      2.5           NORTHERN CALIFORNIA  \n",
       "37      2.7                CENTRAL TURKEY  \n",
       "38      2.0      ISLAND OF HAWAII, HAWAII  \n",
       "39      2.8                CENTRAL TURKEY  \n",
       "40      3.0                CENTRAL TURKEY  \n",
       "41      2.8                CENTRAL TURKEY  \n",
       "42      3.2                CENTRAL TURKEY  \n",
       "43      2.7                CENTRAL TURKEY  \n",
       "44      2.5                CENTRAL TURKEY  \n",
       "45      4.1               CHIAPAS, MEXICO  \n",
       "46      2.9                CENTRAL TURKEY  \n",
       "47      2.9                CENTRAL TURKEY  \n",
       "48      3.8                CENTRAL TURKEY  \n",
       "49      4.6                 KURIL ISLANDS  "
      ]
     },
     "execution_count": 75,
     "metadata": {},
     "output_type": "execute_result"
    }
   ],
   "source": [
    "df[col_names[0]] = date\n",
    "\n",
    "df[col_names[1]] = latitud \n",
    "\n",
    "df[col_names[2]] = longitud\n",
    "\n",
    "df[col_names[3]] = prof\n",
    "\n",
    "df[col_names[4]] = magnitud\n",
    "\n",
    "df[col_names[5]] = region\n",
    "\n",
    "df"
   ]
  },
  {
   "cell_type": "code",
   "execution_count": null,
   "metadata": {},
   "outputs": [],
   "source": []
  },
  {
   "cell_type": "code",
   "execution_count": null,
   "metadata": {},
   "outputs": [],
   "source": []
  },
  {
   "cell_type": "code",
   "execution_count": null,
   "metadata": {},
   "outputs": [],
   "source": []
  },
  {
   "cell_type": "markdown",
   "metadata": {},
   "source": [
    "#### Display the date, days, title, city, country of next 25 hackathon events as a Pandas dataframe table"
   ]
  },
  {
   "cell_type": "code",
   "execution_count": null,
   "metadata": {},
   "outputs": [],
   "source": []
  },
  {
   "cell_type": "code",
   "execution_count": null,
   "metadata": {},
   "outputs": [],
   "source": []
  },
  {
   "cell_type": "code",
   "execution_count": null,
   "metadata": {},
   "outputs": [],
   "source": []
  },
  {
   "cell_type": "code",
   "execution_count": null,
   "metadata": {},
   "outputs": [],
   "source": [
    "# This is the url you will scrape in this exercise\n",
    "url ='https://hackevents.co/hackathons'"
   ]
  },
  {
   "cell_type": "code",
   "execution_count": null,
   "metadata": {},
   "outputs": [],
   "source": [
    "#your code"
   ]
  },
  {
   "cell_type": "markdown",
   "metadata": {},
   "source": [
    "#### Count number of tweets by a given Twitter account."
   ]
  },
  {
   "cell_type": "markdown",
   "metadata": {},
   "source": [
    "You will need to include a ***try/except block*** for account names not found. \n",
    "<br>***Hint:*** the program should count the number of tweets for any provided account"
   ]
  },
  {
   "cell_type": "code",
   "execution_count": 76,
   "metadata": {},
   "outputs": [],
   "source": [
    "# This is the url you will scrape in this exercise \n",
    "# You will need to add the account credentials to this url\n",
    "url = 'https://twitter.com/'"
   ]
  },
  {
   "cell_type": "code",
   "execution_count": 84,
   "metadata": {
    "scrolled": false
   },
   "outputs": [
    {
     "data": {
      "text/plain": [
       "[<div class=\"errorContainer\">\n",
       " <img alt=\"Twitter\" height=\"38\" src=\"https://abs.twimg.com/errors/logo46x38.png\" srcset=\"https://abs.twimg.com/errors/logo46x38.png 1x, https://abs.twimg.com/errors/logo46x38@2x.png 2x\" width=\"46\"/>\n",
       " <h1>JavaScript is not available.</h1>\n",
       " <p>We’ve detected that JavaScript is disabled in this browser. Please enable JavaScript or switch to a supported browser to continue using twitter.com. You can see a list of supported browsers in our Help Center.</p>\n",
       " <p class=\"errorButton\"><a href=\"https://help.twitter.com/using-twitter/twitter-supported-browsers\">Help Center</a></p>\n",
       " <p class=\"errorFooter\">\n",
       " <a href=\"https://twitter.com/tos\">Terms of Service</a>\n",
       " <a href=\"https://twitter.com/privacy\">Privacy Policy</a>\n",
       " <a href=\"https://support.twitter.com/articles/20170514\">Cookie Policy</a>\n",
       " <a href=\"https://legal.twitter.com/imprint.html\">Imprint</a>\n",
       " <a href=\"https://business.twitter.com/en/help/troubleshooting/how-twitter-ads-work.html?ref=web-twc-ao-gbl-adsinfo&amp;utm_source=twc&amp;utm_medium=web&amp;utm_campaign=ao&amp;utm_content=adsinfo\">Ads info</a>\n",
       "       © 2023 Twitter, Inc.\n",
       "     </p>\n",
       " </div>,\n",
       " <div id=\"react-root\" style=\"height:100%;display:flex;\"><div class=\"css-1dbjc4n r-13awgt0 r-12vffkv\"><div class=\"css-1dbjc4n r-13awgt0 r-12vffkv\"><div aria-label=\"Loading…\" class=\"css-1dbjc4n r-14lw9ot r-1p0dtai r-1d2f490 r-1xcajam r-zchlnj r-ipm5af\" id=\"placeholder\"><svg aria-hidden=\"true\" class=\"r-1p0dtai r-13gxpu9 r-4qtqp9 r-yyyyoo r-wy61xf r-1d2f490 r-ywje51 r-dnmrzs r-u8s1d r-zchlnj r-1plcrui r-ipm5af r-lrvibr r-1blnp2b\" viewbox=\"0 0 24 24\"><g><path d=\"M23.643 4.937c-.835.37-1.732.62-2.675.733.962-.576 1.7-1.49 2.048-2.578-.9.534-1.897.922-2.958 1.13-.85-.904-2.06-1.47-3.4-1.47-2.572 0-4.658 2.086-4.658 4.66 0 .364.042.718.12 1.06-3.873-.195-7.304-2.05-9.602-4.868-.4.69-.63 1.49-.63 2.342 0 1.616.823 3.043 2.072 3.878-.764-.025-1.482-.234-2.11-.583v.06c0 2.257 1.605 4.14 3.737 4.568-.392.106-.803.162-1.227.162-.3 0-.593-.028-.877-.082.593 1.85 2.313 3.198 4.352 3.234-1.595 1.25-3.604 1.995-5.786 1.995-.376 0-.747-.022-1.112-.065 2.062 1.323 4.51 2.093 7.14 2.093 8.57 0 13.255-7.098 13.255-13.254 0-.2-.005-.402-.014-.602.91-.658 1.7-1.477 2.323-2.41z\"></path></g></svg></div><div class=\"css-1dbjc4n r-hvic4v r-1d2f490 r-1xcajam r-zchlnj r-1ykxob0\" id=\"ScriptLoadFailure\"><form action=\"\" method=\"GET\"><div class=\"css-1dbjc4n r-1awozwy r-q4m81j\"><div class=\"css-901oao r-37j5jr r-a023e6 r-16dba41 r-rjixqe r-bcqeeo r-qvutc0\" dir=\"ltr\" style=\"color:rgba(15,20,25,1.00)\"><span class=\"css-901oao css-16my406 r-poiln3 r-bcqeeo r-qvutc0\">Something went wrong, but don’t fret — let’s give it another shot.</span></div><br/><input name=\"failedScript\" type=\"hidden\" value=\"\"/><button style=\"background:transparent;border:none\" type=\"submit\"><div class=\"css-18t94o4 css-1dbjc4n r-sdzlij r-1phboty r-rs99b7 r-2yi16 r-1qi8awa r-1ny4l3l r-ymttw5 r-o7ynqc r-6416eg r-lrvibr\" role=\"button\" style=\"background-color:rgba(15,20,25,1.00);border-top-color:rgba(0,0,0,0.00);border-right-color:rgba(0,0,0,0.00);border-bottom-color:rgba(0,0,0,0.00);border-left-color:rgba(0,0,0,0.00)\" tabindex=\"0\"><div class=\"css-901oao r-1awozwy r-6koalj r-18u37iz r-16y2uox r-37j5jr r-a023e6 r-b88u0q r-1777fci r-rjixqe r-bcqeeo r-q4m81j r-qvutc0\" dir=\"ltr\" style=\"color:rgba(255,255,255,1.00)\"><span class=\"css-901oao css-16my406 css-1hf3ou5 r-poiln3 r-a023e6 r-rjixqe r-bcqeeo r-qvutc0\"><span class=\"css-901oao css-16my406 r-poiln3 r-bcqeeo r-qvutc0\">Try again</span></span></div></div></button></div></form></div></div></div></div>,\n",
       " <div class=\"css-1dbjc4n r-13awgt0 r-12vffkv\"><div class=\"css-1dbjc4n r-13awgt0 r-12vffkv\"><div aria-label=\"Loading…\" class=\"css-1dbjc4n r-14lw9ot r-1p0dtai r-1d2f490 r-1xcajam r-zchlnj r-ipm5af\" id=\"placeholder\"><svg aria-hidden=\"true\" class=\"r-1p0dtai r-13gxpu9 r-4qtqp9 r-yyyyoo r-wy61xf r-1d2f490 r-ywje51 r-dnmrzs r-u8s1d r-zchlnj r-1plcrui r-ipm5af r-lrvibr r-1blnp2b\" viewbox=\"0 0 24 24\"><g><path d=\"M23.643 4.937c-.835.37-1.732.62-2.675.733.962-.576 1.7-1.49 2.048-2.578-.9.534-1.897.922-2.958 1.13-.85-.904-2.06-1.47-3.4-1.47-2.572 0-4.658 2.086-4.658 4.66 0 .364.042.718.12 1.06-3.873-.195-7.304-2.05-9.602-4.868-.4.69-.63 1.49-.63 2.342 0 1.616.823 3.043 2.072 3.878-.764-.025-1.482-.234-2.11-.583v.06c0 2.257 1.605 4.14 3.737 4.568-.392.106-.803.162-1.227.162-.3 0-.593-.028-.877-.082.593 1.85 2.313 3.198 4.352 3.234-1.595 1.25-3.604 1.995-5.786 1.995-.376 0-.747-.022-1.112-.065 2.062 1.323 4.51 2.093 7.14 2.093 8.57 0 13.255-7.098 13.255-13.254 0-.2-.005-.402-.014-.602.91-.658 1.7-1.477 2.323-2.41z\"></path></g></svg></div><div class=\"css-1dbjc4n r-hvic4v r-1d2f490 r-1xcajam r-zchlnj r-1ykxob0\" id=\"ScriptLoadFailure\"><form action=\"\" method=\"GET\"><div class=\"css-1dbjc4n r-1awozwy r-q4m81j\"><div class=\"css-901oao r-37j5jr r-a023e6 r-16dba41 r-rjixqe r-bcqeeo r-qvutc0\" dir=\"ltr\" style=\"color:rgba(15,20,25,1.00)\"><span class=\"css-901oao css-16my406 r-poiln3 r-bcqeeo r-qvutc0\">Something went wrong, but don’t fret — let’s give it another shot.</span></div><br/><input name=\"failedScript\" type=\"hidden\" value=\"\"/><button style=\"background:transparent;border:none\" type=\"submit\"><div class=\"css-18t94o4 css-1dbjc4n r-sdzlij r-1phboty r-rs99b7 r-2yi16 r-1qi8awa r-1ny4l3l r-ymttw5 r-o7ynqc r-6416eg r-lrvibr\" role=\"button\" style=\"background-color:rgba(15,20,25,1.00);border-top-color:rgba(0,0,0,0.00);border-right-color:rgba(0,0,0,0.00);border-bottom-color:rgba(0,0,0,0.00);border-left-color:rgba(0,0,0,0.00)\" tabindex=\"0\"><div class=\"css-901oao r-1awozwy r-6koalj r-18u37iz r-16y2uox r-37j5jr r-a023e6 r-b88u0q r-1777fci r-rjixqe r-bcqeeo r-q4m81j r-qvutc0\" dir=\"ltr\" style=\"color:rgba(255,255,255,1.00)\"><span class=\"css-901oao css-16my406 css-1hf3ou5 r-poiln3 r-a023e6 r-rjixqe r-bcqeeo r-qvutc0\"><span class=\"css-901oao css-16my406 r-poiln3 r-bcqeeo r-qvutc0\">Try again</span></span></div></div></button></div></form></div></div></div>,\n",
       " <div class=\"css-1dbjc4n r-13awgt0 r-12vffkv\"><div aria-label=\"Loading…\" class=\"css-1dbjc4n r-14lw9ot r-1p0dtai r-1d2f490 r-1xcajam r-zchlnj r-ipm5af\" id=\"placeholder\"><svg aria-hidden=\"true\" class=\"r-1p0dtai r-13gxpu9 r-4qtqp9 r-yyyyoo r-wy61xf r-1d2f490 r-ywje51 r-dnmrzs r-u8s1d r-zchlnj r-1plcrui r-ipm5af r-lrvibr r-1blnp2b\" viewbox=\"0 0 24 24\"><g><path d=\"M23.643 4.937c-.835.37-1.732.62-2.675.733.962-.576 1.7-1.49 2.048-2.578-.9.534-1.897.922-2.958 1.13-.85-.904-2.06-1.47-3.4-1.47-2.572 0-4.658 2.086-4.658 4.66 0 .364.042.718.12 1.06-3.873-.195-7.304-2.05-9.602-4.868-.4.69-.63 1.49-.63 2.342 0 1.616.823 3.043 2.072 3.878-.764-.025-1.482-.234-2.11-.583v.06c0 2.257 1.605 4.14 3.737 4.568-.392.106-.803.162-1.227.162-.3 0-.593-.028-.877-.082.593 1.85 2.313 3.198 4.352 3.234-1.595 1.25-3.604 1.995-5.786 1.995-.376 0-.747-.022-1.112-.065 2.062 1.323 4.51 2.093 7.14 2.093 8.57 0 13.255-7.098 13.255-13.254 0-.2-.005-.402-.014-.602.91-.658 1.7-1.477 2.323-2.41z\"></path></g></svg></div><div class=\"css-1dbjc4n r-hvic4v r-1d2f490 r-1xcajam r-zchlnj r-1ykxob0\" id=\"ScriptLoadFailure\"><form action=\"\" method=\"GET\"><div class=\"css-1dbjc4n r-1awozwy r-q4m81j\"><div class=\"css-901oao r-37j5jr r-a023e6 r-16dba41 r-rjixqe r-bcqeeo r-qvutc0\" dir=\"ltr\" style=\"color:rgba(15,20,25,1.00)\"><span class=\"css-901oao css-16my406 r-poiln3 r-bcqeeo r-qvutc0\">Something went wrong, but don’t fret — let’s give it another shot.</span></div><br/><input name=\"failedScript\" type=\"hidden\" value=\"\"/><button style=\"background:transparent;border:none\" type=\"submit\"><div class=\"css-18t94o4 css-1dbjc4n r-sdzlij r-1phboty r-rs99b7 r-2yi16 r-1qi8awa r-1ny4l3l r-ymttw5 r-o7ynqc r-6416eg r-lrvibr\" role=\"button\" style=\"background-color:rgba(15,20,25,1.00);border-top-color:rgba(0,0,0,0.00);border-right-color:rgba(0,0,0,0.00);border-bottom-color:rgba(0,0,0,0.00);border-left-color:rgba(0,0,0,0.00)\" tabindex=\"0\"><div class=\"css-901oao r-1awozwy r-6koalj r-18u37iz r-16y2uox r-37j5jr r-a023e6 r-b88u0q r-1777fci r-rjixqe r-bcqeeo r-q4m81j r-qvutc0\" dir=\"ltr\" style=\"color:rgba(255,255,255,1.00)\"><span class=\"css-901oao css-16my406 css-1hf3ou5 r-poiln3 r-a023e6 r-rjixqe r-bcqeeo r-qvutc0\"><span class=\"css-901oao css-16my406 r-poiln3 r-bcqeeo r-qvutc0\">Try again</span></span></div></div></button></div></form></div></div>,\n",
       " <div aria-label=\"Loading…\" class=\"css-1dbjc4n r-14lw9ot r-1p0dtai r-1d2f490 r-1xcajam r-zchlnj r-ipm5af\" id=\"placeholder\"><svg aria-hidden=\"true\" class=\"r-1p0dtai r-13gxpu9 r-4qtqp9 r-yyyyoo r-wy61xf r-1d2f490 r-ywje51 r-dnmrzs r-u8s1d r-zchlnj r-1plcrui r-ipm5af r-lrvibr r-1blnp2b\" viewbox=\"0 0 24 24\"><g><path d=\"M23.643 4.937c-.835.37-1.732.62-2.675.733.962-.576 1.7-1.49 2.048-2.578-.9.534-1.897.922-2.958 1.13-.85-.904-2.06-1.47-3.4-1.47-2.572 0-4.658 2.086-4.658 4.66 0 .364.042.718.12 1.06-3.873-.195-7.304-2.05-9.602-4.868-.4.69-.63 1.49-.63 2.342 0 1.616.823 3.043 2.072 3.878-.764-.025-1.482-.234-2.11-.583v.06c0 2.257 1.605 4.14 3.737 4.568-.392.106-.803.162-1.227.162-.3 0-.593-.028-.877-.082.593 1.85 2.313 3.198 4.352 3.234-1.595 1.25-3.604 1.995-5.786 1.995-.376 0-.747-.022-1.112-.065 2.062 1.323 4.51 2.093 7.14 2.093 8.57 0 13.255-7.098 13.255-13.254 0-.2-.005-.402-.014-.602.91-.658 1.7-1.477 2.323-2.41z\"></path></g></svg></div>,\n",
       " <div class=\"css-1dbjc4n r-hvic4v r-1d2f490 r-1xcajam r-zchlnj r-1ykxob0\" id=\"ScriptLoadFailure\"><form action=\"\" method=\"GET\"><div class=\"css-1dbjc4n r-1awozwy r-q4m81j\"><div class=\"css-901oao r-37j5jr r-a023e6 r-16dba41 r-rjixqe r-bcqeeo r-qvutc0\" dir=\"ltr\" style=\"color:rgba(15,20,25,1.00)\"><span class=\"css-901oao css-16my406 r-poiln3 r-bcqeeo r-qvutc0\">Something went wrong, but don’t fret — let’s give it another shot.</span></div><br/><input name=\"failedScript\" type=\"hidden\" value=\"\"/><button style=\"background:transparent;border:none\" type=\"submit\"><div class=\"css-18t94o4 css-1dbjc4n r-sdzlij r-1phboty r-rs99b7 r-2yi16 r-1qi8awa r-1ny4l3l r-ymttw5 r-o7ynqc r-6416eg r-lrvibr\" role=\"button\" style=\"background-color:rgba(15,20,25,1.00);border-top-color:rgba(0,0,0,0.00);border-right-color:rgba(0,0,0,0.00);border-bottom-color:rgba(0,0,0,0.00);border-left-color:rgba(0,0,0,0.00)\" tabindex=\"0\"><div class=\"css-901oao r-1awozwy r-6koalj r-18u37iz r-16y2uox r-37j5jr r-a023e6 r-b88u0q r-1777fci r-rjixqe r-bcqeeo r-q4m81j r-qvutc0\" dir=\"ltr\" style=\"color:rgba(255,255,255,1.00)\"><span class=\"css-901oao css-16my406 css-1hf3ou5 r-poiln3 r-a023e6 r-rjixqe r-bcqeeo r-qvutc0\"><span class=\"css-901oao css-16my406 r-poiln3 r-bcqeeo r-qvutc0\">Try again</span></span></div></div></button></div></form></div>,\n",
       " <div class=\"css-1dbjc4n r-1awozwy r-q4m81j\"><div class=\"css-901oao r-37j5jr r-a023e6 r-16dba41 r-rjixqe r-bcqeeo r-qvutc0\" dir=\"ltr\" style=\"color:rgba(15,20,25,1.00)\"><span class=\"css-901oao css-16my406 r-poiln3 r-bcqeeo r-qvutc0\">Something went wrong, but don’t fret — let’s give it another shot.</span></div><br/><input name=\"failedScript\" type=\"hidden\" value=\"\"/><button style=\"background:transparent;border:none\" type=\"submit\"><div class=\"css-18t94o4 css-1dbjc4n r-sdzlij r-1phboty r-rs99b7 r-2yi16 r-1qi8awa r-1ny4l3l r-ymttw5 r-o7ynqc r-6416eg r-lrvibr\" role=\"button\" style=\"background-color:rgba(15,20,25,1.00);border-top-color:rgba(0,0,0,0.00);border-right-color:rgba(0,0,0,0.00);border-bottom-color:rgba(0,0,0,0.00);border-left-color:rgba(0,0,0,0.00)\" tabindex=\"0\"><div class=\"css-901oao r-1awozwy r-6koalj r-18u37iz r-16y2uox r-37j5jr r-a023e6 r-b88u0q r-1777fci r-rjixqe r-bcqeeo r-q4m81j r-qvutc0\" dir=\"ltr\" style=\"color:rgba(255,255,255,1.00)\"><span class=\"css-901oao css-16my406 css-1hf3ou5 r-poiln3 r-a023e6 r-rjixqe r-bcqeeo r-qvutc0\"><span class=\"css-901oao css-16my406 r-poiln3 r-bcqeeo r-qvutc0\">Try again</span></span></div></div></button></div>,\n",
       " <div class=\"css-901oao r-37j5jr r-a023e6 r-16dba41 r-rjixqe r-bcqeeo r-qvutc0\" dir=\"ltr\" style=\"color:rgba(15,20,25,1.00)\"><span class=\"css-901oao css-16my406 r-poiln3 r-bcqeeo r-qvutc0\">Something went wrong, but don’t fret — let’s give it another shot.</span></div>,\n",
       " <div class=\"css-18t94o4 css-1dbjc4n r-sdzlij r-1phboty r-rs99b7 r-2yi16 r-1qi8awa r-1ny4l3l r-ymttw5 r-o7ynqc r-6416eg r-lrvibr\" role=\"button\" style=\"background-color:rgba(15,20,25,1.00);border-top-color:rgba(0,0,0,0.00);border-right-color:rgba(0,0,0,0.00);border-bottom-color:rgba(0,0,0,0.00);border-left-color:rgba(0,0,0,0.00)\" tabindex=\"0\"><div class=\"css-901oao r-1awozwy r-6koalj r-18u37iz r-16y2uox r-37j5jr r-a023e6 r-b88u0q r-1777fci r-rjixqe r-bcqeeo r-q4m81j r-qvutc0\" dir=\"ltr\" style=\"color:rgba(255,255,255,1.00)\"><span class=\"css-901oao css-16my406 css-1hf3ou5 r-poiln3 r-a023e6 r-rjixqe r-bcqeeo r-qvutc0\"><span class=\"css-901oao css-16my406 r-poiln3 r-bcqeeo r-qvutc0\">Try again</span></span></div></div>,\n",
       " <div class=\"css-901oao r-1awozwy r-6koalj r-18u37iz r-16y2uox r-37j5jr r-a023e6 r-b88u0q r-1777fci r-rjixqe r-bcqeeo r-q4m81j r-qvutc0\" dir=\"ltr\" style=\"color:rgba(255,255,255,1.00)\"><span class=\"css-901oao css-16my406 css-1hf3ou5 r-poiln3 r-a023e6 r-rjixqe r-bcqeeo r-qvutc0\"><span class=\"css-901oao css-16my406 r-poiln3 r-bcqeeo r-qvutc0\">Try again</span></span></div>]"
      ]
     },
     "execution_count": 84,
     "metadata": {},
     "output_type": "execute_result"
    }
   ],
   "source": [
    "#your code\n",
    "\n",
    "html = req.get(url).content\n",
    "\n",
    "\n",
    "sopa = bs(html, 'html.parser')\n",
    "\n",
    "sopa.find_all('div')"
   ]
  },
  {
   "cell_type": "markdown",
   "metadata": {},
   "source": [
    "#### Number of followers of a given twitter account"
   ]
  },
  {
   "cell_type": "markdown",
   "metadata": {},
   "source": [
    "You will need to include a ***try/except block*** in case account/s name not found. \n",
    "<br>***Hint:*** the program should count the followers for any provided account"
   ]
  },
  {
   "cell_type": "code",
   "execution_count": null,
   "metadata": {},
   "outputs": [],
   "source": [
    "# This is the url you will scrape in this exercise \n",
    "# You will need to add the account credentials to this url\n",
    "url = 'https://twitter.com/'"
   ]
  },
  {
   "cell_type": "code",
   "execution_count": null,
   "metadata": {},
   "outputs": [],
   "source": [
    "#your code"
   ]
  },
  {
   "cell_type": "markdown",
   "metadata": {},
   "source": [
    "#### List all language names and number of related articles in the order they appear in wikipedia.org"
   ]
  },
  {
   "cell_type": "code",
   "execution_count": null,
   "metadata": {},
   "outputs": [],
   "source": [
    "# This is the url you will scrape in this exercise\n",
    "url = 'https://www.wikipedia.org/'"
   ]
  },
  {
   "cell_type": "code",
   "execution_count": null,
   "metadata": {},
   "outputs": [],
   "source": [
    "#your code"
   ]
  },
  {
   "cell_type": "markdown",
   "metadata": {},
   "source": [
    "#### A list with the different kind of datasets available in data.gov.uk "
   ]
  },
  {
   "cell_type": "code",
   "execution_count": null,
   "metadata": {},
   "outputs": [],
   "source": [
    "# This is the url you will scrape in this exercise\n",
    "url = 'https://data.gov.uk/'"
   ]
  },
  {
   "cell_type": "code",
   "execution_count": null,
   "metadata": {},
   "outputs": [],
   "source": [
    "#your code "
   ]
  },
  {
   "cell_type": "markdown",
   "metadata": {},
   "source": [
    "#### Top 10 languages by number of native speakers stored in a Pandas Dataframe"
   ]
  },
  {
   "cell_type": "code",
   "execution_count": null,
   "metadata": {},
   "outputs": [],
   "source": [
    "# This is the url you will scrape in this exercise\n",
    "url = 'https://en.wikipedia.org/wiki/List_of_languages_by_number_of_native_speakers'"
   ]
  },
  {
   "cell_type": "code",
   "execution_count": null,
   "metadata": {},
   "outputs": [],
   "source": [
    "#your code"
   ]
  },
  {
   "cell_type": "markdown",
   "metadata": {},
   "source": [
    "### BONUS QUESTIONS"
   ]
  },
  {
   "cell_type": "markdown",
   "metadata": {},
   "source": [
    "#### Scrape a certain number of tweets of a given Twitter account."
   ]
  },
  {
   "cell_type": "code",
   "execution_count": null,
   "metadata": {},
   "outputs": [],
   "source": [
    "# This is the url you will scrape in this exercise \n",
    "# You will need to add the account credentials to this url\n",
    "url = 'https://twitter.com/'"
   ]
  },
  {
   "cell_type": "code",
   "execution_count": null,
   "metadata": {},
   "outputs": [],
   "source": [
    "# your code"
   ]
  },
  {
   "cell_type": "markdown",
   "metadata": {},
   "source": [
    "#### IMDB's Top 250 data (movie name, Initial release, director name and stars) as a pandas dataframe"
   ]
  },
  {
   "cell_type": "code",
   "execution_count": null,
   "metadata": {},
   "outputs": [],
   "source": [
    "# This is the url you will scrape in this exercise \n",
    "url = 'https://www.imdb.com/chart/top'"
   ]
  },
  {
   "cell_type": "code",
   "execution_count": null,
   "metadata": {},
   "outputs": [],
   "source": [
    "# your code"
   ]
  },
  {
   "cell_type": "markdown",
   "metadata": {},
   "source": [
    "#### Movie name, year and a brief summary of the top 10 random movies (IMDB) as a pandas dataframe."
   ]
  },
  {
   "cell_type": "code",
   "execution_count": null,
   "metadata": {},
   "outputs": [],
   "source": [
    "#This is the url you will scrape in this exercise\n",
    "url = 'http://www.imdb.com/chart/top'"
   ]
  },
  {
   "cell_type": "code",
   "execution_count": null,
   "metadata": {},
   "outputs": [],
   "source": [
    "#your code"
   ]
  },
  {
   "cell_type": "markdown",
   "metadata": {},
   "source": [
    "#### Find the live weather report (temperature, wind speed, description and weather) of a given city."
   ]
  },
  {
   "cell_type": "code",
   "execution_count": null,
   "metadata": {},
   "outputs": [],
   "source": [
    "#https://openweathermap.org/current\n",
    "city = city=input('Enter the city:')\n",
    "url = 'http://api.openweathermap.org/data/2.5/weather?'+'q='+city+'&APPID=b35975e18dc93725acb092f7272cc6b8&units=metric'"
   ]
  },
  {
   "cell_type": "code",
   "execution_count": null,
   "metadata": {},
   "outputs": [],
   "source": [
    "# your code"
   ]
  },
  {
   "cell_type": "markdown",
   "metadata": {},
   "source": [
    "#### Book name,price and stock availability as a pandas dataframe."
   ]
  },
  {
   "cell_type": "code",
   "execution_count": null,
   "metadata": {},
   "outputs": [],
   "source": [
    "# This is the url you will scrape in this exercise. \n",
    "# It is a fictional bookstore created to be scraped. \n",
    "url = 'http://books.toscrape.com/'"
   ]
  },
  {
   "cell_type": "code",
   "execution_count": null,
   "metadata": {},
   "outputs": [],
   "source": [
    "#your code"
   ]
  }
 ],
 "metadata": {
  "kernelspec": {
   "display_name": "Python 3 (ipykernel)",
   "language": "python",
   "name": "python3"
  },
  "language_info": {
   "codemirror_mode": {
    "name": "ipython",
    "version": 3
   },
   "file_extension": ".py",
   "mimetype": "text/x-python",
   "name": "python",
   "nbconvert_exporter": "python",
   "pygments_lexer": "ipython3",
   "version": "3.9.12"
  }
 },
 "nbformat": 4,
 "nbformat_minor": 2
}
