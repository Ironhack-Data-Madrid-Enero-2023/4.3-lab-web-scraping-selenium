{
 "cells": [
  {
   "cell_type": "markdown",
   "metadata": {},
   "source": [
    "# Web Scraping Lab\n",
    "\n",
    "You will find in this notebook some scrapy exercises to practise your scraping skills.\n",
    "\n",
    "**Tips:**\n",
    "\n",
    "- Check the response status code for each request to ensure you have obtained the intended contennt.\n",
    "- Print the response text in each request to understand the kind of info you are getting and its format.\n",
    "- Check for patterns in the response text to extract the data/info requested in each question.\n",
    "- Visit each url and take a look at its source through Chrome DevTools. You'll need to identify the html tags, special class names etc. used for the html content you are expected to extract."
   ]
  },
  {
   "cell_type": "markdown",
   "metadata": {},
   "source": [
    "- [Selenium Doc](https://www.selenium.dev/documentation/)\n",
    "- [Requests library](http://docs.python-requests.org/en/master/#the-user-guide) documentation \n",
    "- [Urllib](https://docs.python.org/3/library/urllib.html#module-urllib)\n",
    "- [re lib](https://docs.python.org/3/library/re.html)\n",
    "- [lxml lib](https://lxml.de/)\n",
    "- [Scrapy](https://scrapy.org/)\n",
    "- [List of HTTP status codes](https://en.wikipedia.org/wiki/List_of_HTTP_status_codes)\n",
    "- [HTML basics](http://www.simplehtmlguide.com/cheatsheet.php)\n",
    "- [CSS basics](https://www.cssbasics.com/#page_start)"
   ]
  },
  {
   "cell_type": "markdown",
   "metadata": {},
   "source": [
    "#### Below are the libraries and modules you may need. `Selenium` and `pandas` are imported for you."
   ]
  },
  {
   "cell_type": "code",
   "execution_count": null,
   "metadata": {},
   "outputs": [],
   "source": [
    "#%pip install webdriver-manager"
   ]
  },
  {
   "cell_type": "code",
   "execution_count": 1,
   "metadata": {},
   "outputs": [],
   "source": [
    "import pandas as pd\n",
    "from selenium.webdriver.chrome.options import Options\n",
    "from webdriver_manager.chrome import ChromeDriverManager\n",
    "import time\n",
    "import warnings\n",
    "warnings.filterwarnings('ignore')\n",
    "from selenium import webdriver\n",
    "from bs4 import BeautifulSoup as bs\n",
    "import requests as req\n",
    "from selenium.webdriver.common.by import By"
   ]
  },
  {
   "cell_type": "markdown",
   "metadata": {},
   "source": [
    "#### Enable the options you may need. In the next cell you have an example of them but you can choose to use them or not."
   ]
  },
  {
   "cell_type": "code",
   "execution_count": 2,
   "metadata": {},
   "outputs": [],
   "source": [
    "PATH = ChromeDriverManager().install()\n",
    "driver = webdriver.Chrome(PATH)"
   ]
  },
  {
   "cell_type": "markdown",
   "metadata": {},
   "source": [
    "#### Download, parse, and print the content from the Trending Developers page from GitHub:"
   ]
  },
  {
   "cell_type": "code",
   "execution_count": null,
   "metadata": {},
   "outputs": [],
   "source": [
    "url = 'https://github.com/trending/developers'"
   ]
  },
  {
   "cell_type": "markdown",
   "metadata": {},
   "source": [
    "#### Display the names of the trending developers retrieved in the previous step.\n",
    "\n",
    "Your output should be a Python list of developer names. Each name should not contain any html tag.\n",
    "\n",
    "**Instructions:**\n",
    "\n",
    "1. Find out the html tag and class names used for the developer names.\n",
    "\n",
    "1. Use string manipulation techniques to replace whitespaces and linebreaks (i.e. `\\n`) in the *text* of each html element. Use a list to store the clean names.\n",
    "\n",
    "1. Print the list of names.\n",
    "\n",
    "Your output should look like below:\n",
    "\n",
    "```\n",
    "['trimstray (@trimstray)',\n",
    " 'joewalnes (JoeWalnes)',\n",
    " 'charlax (Charles-AxelDein)',\n",
    " 'ForrestKnight (ForrestKnight)',\n",
    " 'revery-ui (revery-ui)',\n",
    " 'alibaba (Alibaba)',\n",
    " 'Microsoft (Microsoft)',\n",
    " 'github (GitHub)',\n",
    " 'facebook (Facebook)',\n",
    " 'boazsegev (Bo)',\n",
    " 'google (Google)',\n",
    " 'cloudfetch',\n",
    " 'sindresorhus (SindreSorhus)',\n",
    " 'tensorflow',\n",
    " 'apache (TheApacheSoftwareFoundation)',\n",
    " 'DevonCrawford (DevonCrawford)',\n",
    " 'ARMmbed (ArmMbed)',\n",
    " 'vuejs (vuejs)',\n",
    " 'fastai (fast.ai)',\n",
    " 'QiShaoXuan (Qi)',\n",
    " 'joelparkerhenderson (JoelParkerHenderson)',\n",
    " 'torvalds (LinusTorvalds)',\n",
    " 'CyC2018',\n",
    " 'komeiji-satori (神楽坂覚々)',\n",
    " 'script-8']\n",
    " ```"
   ]
  },
  {
   "cell_type": "code",
   "execution_count": null,
   "metadata": {},
   "outputs": [],
   "source": [
    "driver.get(url)"
   ]
  },
  {
   "cell_type": "code",
   "execution_count": null,
   "metadata": {},
   "outputs": [],
   "source": [
    "clase_nombre = driver.find_elements(By.CLASS_NAME, 'h3.lh-condensed')"
   ]
  },
  {
   "cell_type": "code",
   "execution_count": null,
   "metadata": {},
   "outputs": [],
   "source": [
    "nombres=[]\n",
    "for e in clase_nombre:\n",
    "    nombres.append(e.text)"
   ]
  },
  {
   "cell_type": "code",
   "execution_count": null,
   "metadata": {},
   "outputs": [],
   "source": [
    "clase_nick = driver.find_elements(By.CLASS_NAME, 'f4.text-normal.mb-1')"
   ]
  },
  {
   "cell_type": "code",
   "execution_count": null,
   "metadata": {},
   "outputs": [],
   "source": [
    "nick = []\n",
    "for e in clase_nick:\n",
    "    nick.append(e.text)"
   ]
  },
  {
   "cell_type": "code",
   "execution_count": null,
   "metadata": {},
   "outputs": [],
   "source": [
    "top_developers = []\n",
    "for a,b in zip(nombres, nick):\n",
    "    top_developers.append(f'{a} ({b})')\n",
    "\n",
    "top_developers"
   ]
  },
  {
   "cell_type": "markdown",
   "metadata": {},
   "source": [
    "#### Display the trending Python repositories in GitHub\n",
    "\n",
    "The steps to solve this problem is similar to the previous one except that you need to find out the repository names instead of developer names."
   ]
  },
  {
   "cell_type": "code",
   "execution_count": null,
   "metadata": {},
   "outputs": [],
   "source": [
    "url = 'https://github.com/trending/python?since=daily'"
   ]
  },
  {
   "cell_type": "code",
   "execution_count": null,
   "metadata": {},
   "outputs": [],
   "source": [
    "driver.get(url)"
   ]
  },
  {
   "cell_type": "code",
   "execution_count": null,
   "metadata": {},
   "outputs": [],
   "source": [
    "repos = driver.find_elements(By.CLASS_NAME, 'h3.lh-condensed')"
   ]
  },
  {
   "cell_type": "code",
   "execution_count": null,
   "metadata": {},
   "outputs": [],
   "source": [
    "reposs = []\n",
    "for e in repos:\n",
    "    reposs.append(e.text.replace(' /',':'))"
   ]
  },
  {
   "cell_type": "code",
   "execution_count": null,
   "metadata": {},
   "outputs": [],
   "source": [
    "reposs"
   ]
  },
  {
   "cell_type": "markdown",
   "metadata": {},
   "source": [
    "#### Display all the image links from Walt Disney wikipedia page"
   ]
  },
  {
   "cell_type": "code",
   "execution_count": null,
   "metadata": {},
   "outputs": [],
   "source": [
    "# This is the url you will scrape in this exercise\n",
    "url = 'https://en.wikipedia.org/wiki/Walt_Disney'"
   ]
  },
  {
   "cell_type": "code",
   "execution_count": null,
   "metadata": {},
   "outputs": [],
   "source": [
    "driver.get(url)"
   ]
  },
  {
   "cell_type": "code",
   "execution_count": null,
   "metadata": {},
   "outputs": [],
   "source": [
    "img = driver.find_elements(By.CLASS_NAME, 'image')"
   ]
  },
  {
   "cell_type": "code",
   "execution_count": null,
   "metadata": {},
   "outputs": [],
   "source": [
    "imagenes = []\n",
    "\n",
    "for e in img:\n",
    "    imagenes.append(e.get_attribute('href'))"
   ]
  },
  {
   "cell_type": "code",
   "execution_count": null,
   "metadata": {},
   "outputs": [],
   "source": [
    "imagenes"
   ]
  },
  {
   "cell_type": "markdown",
   "metadata": {},
   "source": [
    "#### Retrieve an arbitary Wikipedia page of \"Python\" and create a list of links on that page"
   ]
  },
  {
   "cell_type": "code",
   "execution_count": null,
   "metadata": {},
   "outputs": [],
   "source": [
    "url ='https://en.wikipedia.org/wiki/Python' "
   ]
  },
  {
   "cell_type": "code",
   "execution_count": null,
   "metadata": {},
   "outputs": [],
   "source": [
    "driver.get(url)"
   ]
  },
  {
   "cell_type": "code",
   "execution_count": null,
   "metadata": {},
   "outputs": [],
   "source": [
    "lks = driver.find_elements(By.TAG_NAME,'a')"
   ]
  },
  {
   "cell_type": "code",
   "execution_count": null,
   "metadata": {},
   "outputs": [],
   "source": [
    "links = []\n",
    "for e in lks:\n",
    "    links.append(e.get_attribute('href'))"
   ]
  },
  {
   "cell_type": "code",
   "execution_count": null,
   "metadata": {},
   "outputs": [],
   "source": [
    "links[:2]"
   ]
  },
  {
   "cell_type": "markdown",
   "metadata": {},
   "source": [
    "#### Number of Titles that have changed in the United States Code since its last release point "
   ]
  },
  {
   "cell_type": "code",
   "execution_count": null,
   "metadata": {},
   "outputs": [],
   "source": [
    "url = 'http://uscode.house.gov/download/download.shtml'\n",
    "driver.get(url)"
   ]
  },
  {
   "cell_type": "code",
   "execution_count": null,
   "metadata": {},
   "outputs": [],
   "source": [
    "title = driver.find_elements(By.CLASS_NAME, 'usctitlechanged')"
   ]
  },
  {
   "cell_type": "code",
   "execution_count": null,
   "metadata": {},
   "outputs": [],
   "source": [
    "titles = []\n",
    "for e in title:\n",
    "    titles.append(e.text)"
   ]
  },
  {
   "cell_type": "code",
   "execution_count": null,
   "metadata": {},
   "outputs": [],
   "source": [
    "titles"
   ]
  },
  {
   "cell_type": "markdown",
   "metadata": {},
   "source": [
    "#### A Python list with the top ten FBI's Most Wanted names "
   ]
  },
  {
   "cell_type": "code",
   "execution_count": null,
   "metadata": {},
   "outputs": [],
   "source": [
    "url = 'https://www.fbi.gov/wanted/topten'\n",
    "driver.get(url)"
   ]
  },
  {
   "cell_type": "code",
   "execution_count": null,
   "metadata": {},
   "outputs": [],
   "source": [
    "wa = driver.find_elements(By.CLASS_NAME, 'title')"
   ]
  },
  {
   "cell_type": "code",
   "execution_count": null,
   "metadata": {},
   "outputs": [],
   "source": [
    "wanted = []\n",
    "for e in wa:\n",
    "    wanted.append(e.text)"
   ]
  },
  {
   "cell_type": "code",
   "execution_count": null,
   "metadata": {},
   "outputs": [],
   "source": [
    "wanted = wanted[1::]\n",
    "wanted"
   ]
  },
  {
   "cell_type": "markdown",
   "metadata": {},
   "source": [
    "####  20 latest earthquakes info (date, time, latitude, longitude and region name) by the EMSC as a pandas dataframe"
   ]
  },
  {
   "cell_type": "code",
   "execution_count": null,
   "metadata": {},
   "outputs": [],
   "source": [
    "url = 'https://www.emsc-csem.org/Earthquake/'\n",
    "driver.get(url)"
   ]
  },
  {
   "cell_type": "code",
   "execution_count": null,
   "metadata": {},
   "outputs": [],
   "source": [
    "show_more = driver.find_element(By.XPATH, '//*[@id=\"upda\"]/a')\n",
    "show_more.click()"
   ]
  },
  {
   "cell_type": "code",
   "execution_count": null,
   "metadata": {},
   "outputs": [],
   "source": [
    "cols = driver.find_elements(By.CLASS_NAME, 'th2')"
   ]
  },
  {
   "cell_type": "code",
   "execution_count": null,
   "metadata": {},
   "outputs": [],
   "source": [
    "col_names = []\n",
    "for e in cols:\n",
    "    col_names.append(e.text.replace('\\n',' ').replace(' [+]',''))"
   ]
  },
  {
   "cell_type": "code",
   "execution_count": null,
   "metadata": {},
   "outputs": [],
   "source": [
    "col_names = col_names[:7:]"
   ]
  },
  {
   "cell_type": "code",
   "execution_count": null,
   "metadata": {},
   "outputs": [],
   "source": [
    "date = driver.find_elements(By.CLASS_NAME, 'tabev6')"
   ]
  },
  {
   "cell_type": "code",
   "execution_count": null,
   "metadata": {},
   "outputs": [],
   "source": [
    "lista = [e.text for e in date]"
   ]
  },
  {
   "cell_type": "code",
   "execution_count": null,
   "metadata": {},
   "outputs": [],
   "source": [
    "date_and_time =[e[:23:] for e in lista]\n",
    "date_and_time = date_and_time[:20:]"
   ]
  },
  {
   "cell_type": "code",
   "execution_count": null,
   "metadata": {},
   "outputs": [],
   "source": [
    "lat_lon = [e.text for e in driver.find_elements(By.CLASS_NAME, 'tabev1')]\n",
    "latitude = lat_lon[::2]\n",
    "latitude = latitude[:20:]\n",
    "longitude = lat_lon [1::2]\n",
    "longitude = longitude[:20:]"
   ]
  },
  {
   "cell_type": "code",
   "execution_count": null,
   "metadata": {},
   "outputs": [],
   "source": [
    "tabev2 = [e.text for e in driver.find_elements(By.CLASS_NAME, 'tabev2')]"
   ]
  },
  {
   "cell_type": "code",
   "execution_count": null,
   "metadata": {},
   "outputs": [],
   "source": [
    "lat = tabev2[::3]\n",
    "lat = lat[:20:]\n",
    "lon = tabev2[1::3]\n",
    "lon = lon[:20:]\n",
    "mag = tabev2[2::3]\n",
    "mag = mag[:20:]"
   ]
  },
  {
   "cell_type": "code",
   "execution_count": null,
   "metadata": {},
   "outputs": [],
   "source": [
    "region = [e.text for e in driver.find_elements(By.CLASS_NAME, 'tb_region')]\n",
    "region = region[:20:]"
   ]
  },
  {
   "cell_type": "code",
   "execution_count": null,
   "metadata": {},
   "outputs": [],
   "source": [
    "df =pd.DataFrame({'date_and_time': date_and_time,\n",
    "                'latitude': latitude, 'N/S':lat,\n",
    "                'longitude': longitude, 'E/W':lon, \n",
    "                'magnitude': mag,\n",
    "                 'region' : region})"
   ]
  },
  {
   "cell_type": "code",
   "execution_count": null,
   "metadata": {},
   "outputs": [],
   "source": [
    "df"
   ]
  },
  {
   "cell_type": "markdown",
   "metadata": {},
   "source": [
    "#### Count number of tweets by a given Twitter account."
   ]
  },
  {
   "cell_type": "markdown",
   "metadata": {},
   "source": [
    "You will need to include a ***try/except block*** for account names not found. \n",
    "<br>***Hint:*** the program should count the number of tweets for any provided account"
   ]
  },
  {
   "cell_type": "code",
   "execution_count": null,
   "metadata": {},
   "outputs": [],
   "source": [
    "# This is the url you will scrape in this exercise \n",
    "# You will need to add the account credentials to this url\n",
    "url = 'https://twitter.com/'\n",
    "busqueda = input()"
   ]
  },
  {
   "cell_type": "code",
   "execution_count": null,
   "metadata": {},
   "outputs": [],
   "source": [
    "try:\n",
    "    driver.get(url+busqueda)\n",
    "    time.sleep(3)\n",
    "except:\n",
    "    print('No existe esta cuenta')"
   ]
  },
  {
   "cell_type": "code",
   "execution_count": null,
   "metadata": {},
   "outputs": [],
   "source": [
    "try:\n",
    "    driver.find_element(By.XPATH,'//*[@id=\"layers\"]/div/div[2]/div/div/div/div[2]/div[1]/div/span/span').click()\n",
    "except:\n",
    "    pass"
   ]
  },
  {
   "cell_type": "code",
   "execution_count": null,
   "metadata": {},
   "outputs": [],
   "source": [
    "try:\n",
    "    driver.find_element(By.XPATH, '//*[@id=\"layers\"]/div[2]/div/div/div/div/div/div[2]/div[2]/div/div[2]/div/div[2]/div[2]/div[2]/div/span/span').click()\n",
    "except:\n",
    "    pass"
   ]
  },
  {
   "cell_type": "code",
   "execution_count": null,
   "metadata": {},
   "outputs": [],
   "source": [
    "driver.find_element(By.CLASS_NAME, 'css-901oao.css-1hf3ou5.r-14j79pv.r-37j5jr.r-n6v787.r-16dba41.r-1cwl3u0.r-bcqeeo.r-qvutc0').text"
   ]
  },
  {
   "cell_type": "markdown",
   "metadata": {},
   "source": [
    "#### Number of followers of a given twitter account"
   ]
  },
  {
   "cell_type": "markdown",
   "metadata": {},
   "source": [
    "You will need to include a ***try/except block*** in case account/s name not found. \n",
    "<br>***Hint:*** the program should count the followers for any provided account"
   ]
  },
  {
   "cell_type": "code",
   "execution_count": null,
   "metadata": {},
   "outputs": [],
   "source": [
    "url = 'https://twitter.com/'\n",
    "busqueda = input()"
   ]
  },
  {
   "cell_type": "code",
   "execution_count": null,
   "metadata": {},
   "outputs": [],
   "source": [
    "try:\n",
    "    driver.get(url+busqueda)\n",
    "    time.sleep(3)\n",
    "except:\n",
    "    print('No existe esta cuenta')"
   ]
  },
  {
   "cell_type": "code",
   "execution_count": null,
   "metadata": {},
   "outputs": [],
   "source": [
    "try:\n",
    "    driver.find_element(By.XPATH, '//*[@id=\"layers\"]/div/div[2]/div/div/div/div[2]/div[1]/div/span/span').click()\n",
    "    \n",
    "except:\n",
    "    pass"
   ]
  },
  {
   "cell_type": "code",
   "execution_count": null,
   "metadata": {},
   "outputs": [],
   "source": [
    "try:\n",
    "    driver.find_element(By.XPATH, '//*[@id=\"layers\"]/div[2]/div/div/div/div/div/div[2]/div[2]/div/div[2]/div/div[2]/div[2]/div[2]/div/span/span').click()\n",
    "\n",
    "except:\n",
    "    pass"
   ]
  },
  {
   "cell_type": "code",
   "execution_count": null,
   "metadata": {},
   "outputs": [],
   "source": [
    "driver.find_element(By.CLASS_NAME, 'css-901oao.css-16my406.r-18jsvk2.r-poiln3.r-1b43r93.r-b88u0q.r-1cwl3u0.r-bcqeeo.r-qvutc0').text"
   ]
  },
  {
   "cell_type": "code",
   "execution_count": null,
   "metadata": {},
   "outputs": [],
   "source": [
    "#No he podido sacar los seguidores de una cuenta..."
   ]
  },
  {
   "cell_type": "markdown",
   "metadata": {},
   "source": [
    "#### List all language names and number of related articles in the order they appear in wikipedia.org"
   ]
  },
  {
   "cell_type": "code",
   "execution_count": null,
   "metadata": {},
   "outputs": [],
   "source": [
    "url = 'https://www.wikipedia.org/'\n",
    "driver.get(url)"
   ]
  },
  {
   "cell_type": "code",
   "execution_count": null,
   "metadata": {},
   "outputs": [],
   "source": [
    "language = [e.text.replace('\\n',': ') for e in driver.find_elements(By.TAG_NAME, 'a')][:10:]\n",
    "\n",
    "language"
   ]
  },
  {
   "cell_type": "markdown",
   "metadata": {},
   "source": [
    "#### A list with the different kind of datasets available in data.gov.uk "
   ]
  },
  {
   "cell_type": "code",
   "execution_count": null,
   "metadata": {},
   "outputs": [],
   "source": [
    "url = 'https://data.gov.uk/'\n",
    "driver.get(url)"
   ]
  },
  {
   "cell_type": "code",
   "execution_count": null,
   "metadata": {},
   "outputs": [],
   "source": [
    "driver.find_element(By.XPATH, '//*[@id=\"global-cookie-message\"]/div[1]/div/div[2]/button[1]').click()"
   ]
  },
  {
   "cell_type": "code",
   "execution_count": null,
   "metadata": {},
   "outputs": [],
   "source": [
    "driver.find_element(By.XPATH, '//*[@id=\"global-cookie-message\"]/div[2]/div/button').click()"
   ]
  },
  {
   "cell_type": "code",
   "execution_count": null,
   "metadata": {},
   "outputs": [],
   "source": [
    "datasets = [e.text for e in driver.find_elements(By.CLASS_NAME, 'govuk-link')][4::]"
   ]
  },
  {
   "cell_type": "code",
   "execution_count": null,
   "metadata": {},
   "outputs": [],
   "source": [
    "datasets"
   ]
  },
  {
   "cell_type": "markdown",
   "metadata": {},
   "source": [
    "#### Top 10 languages by number of native speakers stored in a Pandas Dataframe"
   ]
  },
  {
   "cell_type": "code",
   "execution_count": null,
   "metadata": {},
   "outputs": [],
   "source": [
    "url = 'https://en.wikipedia.org/wiki/List_of_languages_by_number_of_native_speakers'\n",
    "driver.get(url)"
   ]
  },
  {
   "cell_type": "code",
   "execution_count": null,
   "metadata": {},
   "outputs": [],
   "source": [
    "cabecera = [e.text.replace('\\n',' ') for e in driver.find_elements(By.CLASS_NAME, 'headerSort')][:2:]\n",
    "cabecera"
   ]
  },
  {
   "cell_type": "code",
   "execution_count": null,
   "metadata": {},
   "outputs": [],
   "source": [
    "tablebody = driver.find_element(By.TAG_NAME, 'tbody')"
   ]
  },
  {
   "cell_type": "code",
   "execution_count": null,
   "metadata": {},
   "outputs": [],
   "source": [
    "tr = tablebody.find_elements(By.TAG_NAME, 'tr')"
   ]
  },
  {
   "cell_type": "code",
   "execution_count": null,
   "metadata": {},
   "outputs": [],
   "source": [
    "data = []\n",
    "\n",
    "for e in tr:\n",
    "    \n",
    "    hola = e.find_elements(By.TAG_NAME, 'td')\n",
    "    tp = []\n",
    "    \n",
    "    for h in hola:\n",
    "        tp.append(h.text)\n",
    "    \n",
    "    data.append(tp)\n",
    "\n",
    "data2 = [e[:2:] for e in data]"
   ]
  },
  {
   "cell_type": "code",
   "execution_count": null,
   "metadata": {},
   "outputs": [],
   "source": [
    "data2 = data2[:10:]"
   ]
  },
  {
   "cell_type": "code",
   "execution_count": null,
   "metadata": {
    "scrolled": true
   },
   "outputs": [],
   "source": [
    "df = pd.DataFrame(data2 , columns = cabecera)\n",
    "df"
   ]
  },
  {
   "cell_type": "code",
   "execution_count": null,
   "metadata": {},
   "outputs": [],
   "source": [
    "df['Language'].iloc[0].replace('\\n',' ')"
   ]
  },
  {
   "cell_type": "markdown",
   "metadata": {},
   "source": [
    "### BONUS QUESTIONS"
   ]
  },
  {
   "cell_type": "markdown",
   "metadata": {},
   "source": [
    "#### Scrape a certain number of tweets of a given Twitter account."
   ]
  },
  {
   "cell_type": "code",
   "execution_count": null,
   "metadata": {},
   "outputs": [],
   "source": [
    "# This is the url you will scrape in this exercise \n",
    "# You will need to add the account credentials to this url\n",
    "url = 'https://twitter.com/'"
   ]
  },
  {
   "cell_type": "code",
   "execution_count": null,
   "metadata": {},
   "outputs": [],
   "source": [
    "# your code"
   ]
  },
  {
   "cell_type": "markdown",
   "metadata": {},
   "source": [
    "#### IMDB's Top 250 data (movie name, Initial release, director name and stars) as a pandas dataframe"
   ]
  },
  {
   "cell_type": "markdown",
   "metadata": {},
   "source": [
    "Solo se puede sacara movie name, year y IMDB rating (=stars?)"
   ]
  },
  {
   "cell_type": "code",
   "execution_count": 3,
   "metadata": {},
   "outputs": [],
   "source": [
    "url = 'https://www.imdb.com/chart/top'\n",
    "driver.get(url)"
   ]
  },
  {
   "cell_type": "code",
   "execution_count": 32,
   "metadata": {},
   "outputs": [],
   "source": [
    "movies =[e.text for e in driver.find_elements(By.CLASS_NAME, 'titleColumn')]"
   ]
  },
  {
   "cell_type": "code",
   "execution_count": 33,
   "metadata": {},
   "outputs": [],
   "source": [
    "title =[]\n",
    "\n",
    "for e in movies:\n",
    "    title.append(e[3:-7:])"
   ]
  },
  {
   "cell_type": "code",
   "execution_count": 59,
   "metadata": {},
   "outputs": [],
   "source": []
  },
  {
   "cell_type": "code",
   "execution_count": 73,
   "metadata": {},
   "outputs": [],
   "source": [
    "year = [e[-1] for e in [e.split() for e in movies]]\n",
    "        "
   ]
  },
  {
   "cell_type": "code",
   "execution_count": 74,
   "metadata": {},
   "outputs": [
    {
     "data": {
      "text/plain": [
       "['(1957)']"
      ]
     },
     "execution_count": 74,
     "metadata": {},
     "output_type": "execute_result"
    }
   ],
   "source": [
    "year2 = year2[1:5:]\n",
    "year2"
   ]
  },
  {
   "cell_type": "code",
   "execution_count": 17,
   "metadata": {},
   "outputs": [],
   "source": [
    "director = []\n",
    "\n",
    "for e in driver.find_elements(By.CLASS_NAME, 'titleColumn'):\n",
    "    \n",
    "    hola = e.find_elements(By.TAG_NAME, 'a')\n",
    "    tp = []\n",
    "    \n",
    "    for h in hola:\n",
    "        tp.append(h.get_attribute('title'))\n",
    "    \n",
    "    director.append(tp)"
   ]
  },
  {
   "cell_type": "code",
   "execution_count": 18,
   "metadata": {},
   "outputs": [
    {
     "data": {
      "text/plain": [
       "[['Frank Darabont (dir.), Tim Robbins, Morgan Freeman'],\n",
       " ['Francis Ford Coppola (dir.), Marlon Brando, Al Pacino'],\n",
       " ['Christopher Nolan (dir.), Christian Bale, Heath Ledger'],\n",
       " ['Francis Ford Coppola (dir.), Al Pacino, Robert De Niro'],\n",
       " ['Sidney Lumet (dir.), Henry Fonda, Lee J. Cobb'],\n",
       " ['Steven Spielberg (dir.), Liam Neeson, Ralph Fiennes'],\n",
       " ['Peter Jackson (dir.), Elijah Wood, Viggo Mortensen'],\n",
       " ['Quentin Tarantino (dir.), John Travolta, Uma Thurman'],\n",
       " ['Peter Jackson (dir.), Elijah Wood, Ian McKellen'],\n",
       " ['Sergio Leone (dir.), Clint Eastwood, Eli Wallach'],\n",
       " ['Robert Zemeckis (dir.), Tom Hanks, Robin Wright'],\n",
       " ['David Fincher (dir.), Brad Pitt, Edward Norton'],\n",
       " ['Peter Jackson (dir.), Elijah Wood, Ian McKellen'],\n",
       " ['Christopher Nolan (dir.), Leonardo DiCaprio, Joseph Gordon-Levitt'],\n",
       " ['Irvin Kershner (dir.), Mark Hamill, Harrison Ford'],\n",
       " ['Lana Wachowski (dir.), Keanu Reeves, Laurence Fishburne'],\n",
       " ['Martin Scorsese (dir.), Robert De Niro, Ray Liotta'],\n",
       " ['Milos Forman (dir.), Jack Nicholson, Louise Fletcher'],\n",
       " ['David Fincher (dir.), Morgan Freeman, Brad Pitt'],\n",
       " ['Akira Kurosawa (dir.), Toshirô Mifune, Takashi Shimura'],\n",
       " ['Frank Capra (dir.), James Stewart, Donna Reed'],\n",
       " ['Jonathan Demme (dir.), Jodie Foster, Anthony Hopkins'],\n",
       " ['Fernando Meirelles (dir.), Alexandre Rodrigues, Leandro Firmino'],\n",
       " ['Steven Spielberg (dir.), Tom Hanks, Matt Damon'],\n",
       " ['Christopher Nolan (dir.), Matthew McConaughey, Anne Hathaway'],\n",
       " ['Roberto Benigni (dir.), Roberto Benigni, Nicoletta Braschi'],\n",
       " ['Frank Darabont (dir.), Tom Hanks, Michael Clarke Duncan'],\n",
       " ['George Lucas (dir.), Mark Hamill, Harrison Ford'],\n",
       " ['James Cameron (dir.), Arnold Schwarzenegger, Linda Hamilton'],\n",
       " ['Robert Zemeckis (dir.), Michael J. Fox, Christopher Lloyd'],\n",
       " ['Hayao Miyazaki (dir.), Daveigh Chase, Suzanne Pleshette'],\n",
       " ['Roman Polanski (dir.), Adrien Brody, Thomas Kretschmann'],\n",
       " ['Alfred Hitchcock (dir.), Anthony Perkins, Janet Leigh'],\n",
       " ['Bong Joon Ho (dir.), Song Kang-ho, Lee Sun-kyun'],\n",
       " ['Luc Besson (dir.), Jean Reno, Gary Oldman'],\n",
       " ['Roger Allers (dir.), Matthew Broderick, Jeremy Irons'],\n",
       " ['Ridley Scott (dir.), Russell Crowe, Joaquin Phoenix'],\n",
       " ['Tony Kaye (dir.), Edward Norton, Edward Furlong'],\n",
       " ['Martin Scorsese (dir.), Leonardo DiCaprio, Matt Damon'],\n",
       " ['Bryan Singer (dir.), Kevin Spacey, Gabriel Byrne'],\n",
       " ['Christopher Nolan (dir.), Christian Bale, Hugh Jackman'],\n",
       " ['Damien Chazelle (dir.), Miles Teller, J.K. Simmons'],\n",
       " ['Michael Curtiz (dir.), Humphrey Bogart, Ingrid Bergman'],\n",
       " ['Isao Takahata (dir.), Tsutomu Tatsumi, Ayano Shiraishi'],\n",
       " ['Masaki Kobayashi (dir.), Tatsuya Nakadai, Akira Ishihama'],\n",
       " ['Olivier Nakache (dir.), François Cluzet, Omar Sy'],\n",
       " ['Charles Chaplin (dir.), Charles Chaplin, Paulette Goddard'],\n",
       " ['Sergio Leone (dir.), Henry Fonda, Charles Bronson'],\n",
       " ['Alfred Hitchcock (dir.), James Stewart, Grace Kelly'],\n",
       " ['Giuseppe Tornatore (dir.), Philippe Noiret, Enzo Cannavale'],\n",
       " ['Ridley Scott (dir.), Sigourney Weaver, Tom Skerritt'],\n",
       " ['Charles Chaplin (dir.), Charles Chaplin, Virginia Cherrill'],\n",
       " ['Francis Ford Coppola (dir.), Martin Sheen, Marlon Brando'],\n",
       " ['Christopher Nolan (dir.), Guy Pearce, Carrie-Anne Moss'],\n",
       " ['Quentin Tarantino (dir.), Jamie Foxx, Christoph Waltz'],\n",
       " ['Steven Spielberg (dir.), Harrison Ford, Karen Allen'],\n",
       " ['Andrew Stanton (dir.), Ben Burtt, Elissa Knight'],\n",
       " ['Florian Henckel von Donnersmarck (dir.), Ulrich Mühe, Martina Gedeck'],\n",
       " ['Billy Wilder (dir.), William Holden, Gloria Swanson'],\n",
       " ['Stanley Kubrick (dir.), Kirk Douglas, Ralph Meeker'],\n",
       " ['Stanley Kubrick (dir.), Jack Nicholson, Shelley Duvall'],\n",
       " ['Charles Chaplin (dir.), Charles Chaplin, Paulette Goddard'],\n",
       " ['Anthony Russo (dir.), Robert Downey Jr., Chris Hemsworth'],\n",
       " ['Billy Wilder (dir.), Tyrone Power, Marlene Dietrich'],\n",
       " ['James Cameron (dir.), Sigourney Weaver, Michael Biehn'],\n",
       " ['Bob Persichetti (dir.), Shameik Moore, Jake Johnson'],\n",
       " ['Sam Mendes (dir.), Kevin Spacey, Annette Bening'],\n",
       " ['Stanley Kubrick (dir.), Peter Sellers, George C. Scott'],\n",
       " ['Christopher Nolan (dir.), Christian Bale, Tom Hardy'],\n",
       " ['Park Chan-wook (dir.), Choi Min-sik, Yoo Ji-tae'],\n",
       " ['Quentin Tarantino (dir.), Brad Pitt, Diane Kruger'],\n",
       " ['Milos Forman (dir.), F. Murray Abraham, Tom Hulce'],\n",
       " ['Lee Unkrich (dir.), Anthony Gonzalez, Gael García Bernal'],\n",
       " ['John Lasseter (dir.), Tom Hanks, Tim Allen'],\n",
       " ['Todd Phillips (dir.), Joaquin Phoenix, Robert De Niro'],\n",
       " ['Mel Gibson (dir.), Mel Gibson, Sophie Marceau'],\n",
       " ['Wolfgang Petersen (dir.), Jürgen Prochnow, Herbert Grönemeyer'],\n",
       " ['Anthony Russo (dir.), Robert Downey Jr., Chris Evans'],\n",
       " ['Hayao Miyazaki (dir.), Yôji Matsuda, Yuriko Ishida'],\n",
       " ['Sergio Leone (dir.), Robert De Niro, James Woods'],\n",
       " ['Gus Van Sant (dir.), Robin Williams, Matt Damon'],\n",
       " ['Makoto Shinkai (dir.), Ryûnosuke Kamiki, Mone Kamishiraishi'],\n",
       " ['Rajkumar Hirani (dir.), Aamir Khan, Madhavan'],\n",
       " [\"Stanley Donen (dir.), Gene Kelly, Donald O'Connor\"],\n",
       " ['Darren Aronofsky (dir.), Ellen Burstyn, Jared Leto'],\n",
       " ['Lee Unkrich (dir.), Tom Hanks, Tim Allen'],\n",
       " ['Akira Kurosawa (dir.), Toshirô Mifune, Yutaka Sada'],\n",
       " ['Nadine Labaki (dir.), Zain Al Rafeea, Yordanos Shiferaw'],\n",
       " ['Richard Marquand (dir.), Mark Hamill, Harrison Ford'],\n",
       " ['Michel Gondry (dir.), Jim Carrey, Kate Winslet'],\n",
       " ['Stanley Kubrick (dir.), Keir Dullea, Gary Lockwood'],\n",
       " ['Quentin Tarantino (dir.), Harvey Keitel, Tim Roth'],\n",
       " ['Elem Klimov (dir.), Aleksey Kravchenko, Olga Mironova'],\n",
       " ['Thomas Vinterberg (dir.), Mads Mikkelsen, Thomas Bo Larsen'],\n",
       " ['Orson Welles (dir.), Orson Welles, Joseph Cotten'],\n",
       " ['Fritz Lang (dir.), Peter Lorre, Ellen Widmann'],\n",
       " [\"David Lean (dir.), Peter O'Toole, Alec Guinness\"],\n",
       " ['Alfred Hitchcock (dir.), Cary Grant, Eva Marie Saint'],\n",
       " ['Alfred Hitchcock (dir.), James Stewart, Kim Novak'],\n",
       " ['Akira Kurosawa (dir.), Takashi Shimura, Nobuo Kaneko'],\n",
       " ['Jean-Pierre Jeunet (dir.), Audrey Tautou, Mathieu Kassovitz'],\n",
       " ['Billy Wilder (dir.), Jack Lemmon, Shirley MacLaine'],\n",
       " ['Stanley Kubrick (dir.), Malcolm McDowell, Patrick Magee'],\n",
       " ['Joseph Kosinski (dir.), Tom Cruise, Jennifer Connelly'],\n",
       " ['Billy Wilder (dir.), Fred MacMurray, Barbara Stanwyck'],\n",
       " ['Stanley Kubrick (dir.), Matthew Modine, R. Lee Ermey'],\n",
       " ['Brian De Palma (dir.), Al Pacino, Michelle Pfeiffer'],\n",
       " ['Thomas Kail (dir.), Lin-Manuel Miranda, Phillipa Soo'],\n",
       " ['Denis Villeneuve (dir.), Lubna Azabal, Mélissa Désormeaux-Poulin'],\n",
       " ['Robert Mulligan (dir.), Gregory Peck, John Megna'],\n",
       " ['Michael Mann (dir.), Al Pacino, Robert De Niro'],\n",
       " ['George Roy Hill (dir.), Paul Newman, Robert Redford'],\n",
       " ['Pete Docter (dir.), Edward Asner, Jordan Nagai'],\n",
       " ['Asghar Farhadi (dir.), Payman Maadi, Leila Hatami'],\n",
       " ['Martin Scorsese (dir.), Robert De Niro, Jodie Foster'],\n",
       " ['Fritz Lang (dir.), Brigitte Helm, Alfred Abel'],\n",
       " ['Curtis Hanson (dir.), Kevin Spacey, Russell Crowe'],\n",
       " ['John McTiernan (dir.), Bruce Willis, Alan Rickman'],\n",
       " ['Guy Ritchie (dir.), Jason Statham, Brad Pitt'],\n",
       " ['Steven Spielberg (dir.), Harrison Ford, Sean Connery'],\n",
       " ['Vittorio De Sica (dir.), Lamberto Maggiorani, Enzo Staiola'],\n",
       " ['Aamir Khan (dir.), Darsheel Safary, Aamir Khan'],\n",
       " ['Sam Mendes (dir.), Dean-Charles Chapman, George MacKay'],\n",
       " ['Oliver Hirschbiegel (dir.), Bruno Ganz, Alexandra Maria Lara'],\n",
       " ['Nitesh Tiwari (dir.), Aamir Khan, Sakshi Tanwar'],\n",
       " ['Sergio Leone (dir.), Clint Eastwood, Lee Van Cleef'],\n",
       " ['Christopher Nolan (dir.), Christian Bale, Michael Caine'],\n",
       " ['Charles Chaplin (dir.), Charles Chaplin, Edna Purviance'],\n",
       " ['Billy Wilder (dir.), Marilyn Monroe, Tony Curtis'],\n",
       " ['Florian Zeller (dir.), Anthony Hopkins, Olivia Colman'],\n",
       " ['Joseph L. Mankiewicz (dir.), Bette Davis, Anne Baxter'],\n",
       " ['Peter Farrelly (dir.), Viggo Mortensen, Mahershala Ali'],\n",
       " ['Martin Scorsese (dir.), Leonardo DiCaprio, Jonah Hill'],\n",
       " ['Stanley Kramer (dir.), Spencer Tracy, Burt Lancaster'],\n",
       " ['Martin Scorsese (dir.), Robert De Niro, Sharon Stone'],\n",
       " ['Akira Kurosawa (dir.), Tatsuya Nakadai, Akira Terao'],\n",
       " ['Guillermo del Toro (dir.), Ivana Baquero, Ariadna Gil'],\n",
       " ['Peter Weir (dir.), Jim Carrey, Ed Harris'],\n",
       " ['Paul Thomas Anderson (dir.), Daniel Day-Lewis, Paul Dano'],\n",
       " ['Clint Eastwood (dir.), Clint Eastwood, Gene Hackman'],\n",
       " ['M. Night Shyamalan (dir.), Bruce Willis, Haley Joel Osment'],\n",
       " ['Martin Scorsese (dir.), Leonardo DiCaprio, Emily Mortimer'],\n",
       " ['Ron Howard (dir.), Russell Crowe, Ed Harris'],\n",
       " ['Steven Spielberg (dir.), Sam Neill, Laura Dern'],\n",
       " ['Akira Kurosawa (dir.), Toshirô Mifune, Eijirô Tôno'],\n",
       " ['John Huston (dir.), Humphrey Bogart, Walter Huston'],\n",
       " ['Terry Gilliam (dir.), Graham Chapman, John Cleese'],\n",
       " ['John Sturges (dir.), Steve McQueen, James Garner'],\n",
       " ['Jon Watts (dir.), Tom Holland, Zendaya'],\n",
       " ['Ethan Coen (dir.), Tommy Lee Jones, Javier Bardem'],\n",
       " ['Quentin Tarantino (dir.), Uma Thurman, David Carradine'],\n",
       " ['Akira Kurosawa (dir.), Toshirô Mifune, Machiko Kyô'],\n",
       " ['John Carpenter (dir.), Kurt Russell, Wilford Brimley'],\n",
       " ['Andrew Stanton (dir.), Albert Brooks, Ellen DeGeneres'],\n",
       " ['David Lynch (dir.), Anthony Hopkins, John Hurt'],\n",
       " ['Roman Polanski (dir.), Jack Nicholson, Faye Dunaway'],\n",
       " ['Martin Scorsese (dir.), Robert De Niro, Cathy Moriarty'],\n",
       " ['James McTeigue (dir.), Hugo Weaving, Natalie Portman'],\n",
       " ['Victor Fleming (dir.), Clark Gable, Vivien Leigh'],\n",
       " ['Guy Ritchie (dir.), Jason Flemyng, Dexter Fletcher'],\n",
       " ['Pete Docter (dir.), Amy Poehler, Bill Hader'],\n",
       " ['Alfred Hitchcock (dir.), Ray Milland, Grace Kelly'],\n",
       " ['Juan José Campanella (dir.), Ricardo Darín, Soledad Villamil'],\n",
       " ['Hayao Miyazaki (dir.), Chieko Baisho, Takuya Kimura'],\n",
       " ['Martin McDonagh (dir.), Frances McDormand, Woody Harrelson'],\n",
       " ['David Lean (dir.), William Holden, Alec Guinness'],\n",
       " ['Danny Boyle (dir.), Ewan McGregor, Ewen Bremner'],\n",
       " ['Denis Villeneuve (dir.), Hugh Jackman, Jake Gyllenhaal'],\n",
       " [\"Gavin O'Connor (dir.), Tom Hardy, Nick Nolte\"],\n",
       " ['Joel Coen (dir.), William H. Macy, Frances McDormand'],\n",
       " ['Clint Eastwood (dir.), Clint Eastwood, Bee Vang'],\n",
       " ['Hayao Miyazaki (dir.), Hitoshi Takagi, Noriko Hidaka'],\n",
       " ['Steven Spielberg (dir.), Leonardo DiCaprio, Tom Hanks'],\n",
       " ['Clint Eastwood (dir.), Hilary Swank, Clint Eastwood'],\n",
       " ['Majid Majidi (dir.), Mohammad Amir Naji, Amir Farrokh Hashemian'],\n",
       " ['Ridley Scott (dir.), Harrison Ford, Rutger Hauer'],\n",
       " ['Charles Chaplin (dir.), Charles Chaplin, Mack Swain'],\n",
       " ['Richard Linklater (dir.), Ethan Hawke, Julie Delpy'],\n",
       " ['Steve McQueen (dir.), Chiwetel Ejiofor, Michael Kenneth Williams'],\n",
       " ['Sergio Pablos (dir.), Jason Schwartzman, J.K. Simmons'],\n",
       " ['David Yates (dir.), Daniel Radcliffe, Emma Watson'],\n",
       " ['Elia Kazan (dir.), Marlon Brando, Karl Malden'],\n",
       " ['William Wyler (dir.), Charlton Heston, Jack Hawkins'],\n",
       " ['David Fincher (dir.), Ben Affleck, Rosamund Pike'],\n",
       " ['Wes Anderson (dir.), Ralph Fiennes, F. Murray Abraham'],\n",
       " ['Ingmar Bergman (dir.), Victor Sjöström, Bibi Andersson'],\n",
       " ['Clyde Bruckman (dir.), Buster Keaton, Marion Mack'],\n",
       " ['Carol Reed (dir.), Orson Welles, Joseph Cotten'],\n",
       " ['Jim Sheridan (dir.), Daniel Day-Lewis, Pete Postlethwaite'],\n",
       " ['Michael Cimino (dir.), Robert De Niro, Christopher Walken'],\n",
       " [\"Stanley Kubrick (dir.), Ryan O'Neal, Marisa Berenson\"],\n",
       " ['Mel Gibson (dir.), Andrew Garfield, Sam Worthington'],\n",
       " ['Henri-Georges Clouzot (dir.), Yves Montand, Charles Vanel'],\n",
       " ['Bong Joon Ho (dir.), Song Kang-ho, Kim Sang-kyung'],\n",
       " ['Buster Keaton (dir.), Buster Keaton, Kathryn McGuire'],\n",
       " ['Damián Szifron (dir.), Darío Grandinetti, María Marull'],\n",
       " ['Frank Capra (dir.), James Stewart, Jean Arthur'],\n",
       " ['George Miller (dir.), Tom Hardy, Charlize Theron'],\n",
       " ['Ingmar Bergman (dir.), Max von Sydow, Gunnar Björnstrand'],\n",
       " ['Adam Elliot (dir.), Toni Collette, Philip Seymour Hoffman'],\n",
       " ['Dean DeBlois (dir.), Jay Baruchel, Gerard Butler'],\n",
       " ['Lenny Abrahamson (dir.), Brie Larson, Jacob Tremblay'],\n",
       " ['Pete Docter (dir.), Billy Crystal, John Goodman'],\n",
       " ['Steven Spielberg (dir.), Roy Scheider, Robert Shaw'],\n",
       " ['Joel Coen (dir.), Jeff Bridges, John Goodman'],\n",
       " ['Peter Weir (dir.), Robin Williams, Robert Sean Leonard'],\n",
       " ['Yasujirô Ozu (dir.), Chishû Ryû, Chieko Higashiyama'],\n",
       " ['Carl Theodor Dreyer (dir.), Maria Falconetti, Eugene Silvain'],\n",
       " ['Terry George (dir.), Don Cheadle, Sophie Okonedo'],\n",
       " ['James Mangold (dir.), Matt Damon, Christian Bale'],\n",
       " ['John G. Avildsen (dir.), Sylvester Stallone, Talia Shire'],\n",
       " ['Oliver Stone (dir.), Charlie Sheen, Tom Berenger'],\n",
       " ['Brad Bird (dir.), Brad Garrett, Lou Romano'],\n",
       " ['Tom McCarthy (dir.), Mark Ruffalo, Michael Keaton'],\n",
       " ['James Cameron (dir.), Arnold Schwarzenegger, Linda Hamilton'],\n",
       " ['James Mangold (dir.), Hugh Jackman, Patrick Stewart'],\n",
       " ['Rob Reiner (dir.), Wil Wheaton, River Phoenix'],\n",
       " ['Ron Howard (dir.), Daniel Brühl, Chris Hemsworth'],\n",
       " ['Sidney Lumet (dir.), Faye Dunaway, William Holden'],\n",
       " ['Sean Penn (dir.), Emile Hirsch, Vince Vaughn'],\n",
       " ['Richard Linklater (dir.), Ethan Hawke, Julie Delpy'],\n",
       " ['Victor Fleming (dir.), Judy Garland, Frank Morgan'],\n",
       " ['Satyajit Ray (dir.), Kanu Bannerjee, Karuna Bannerjee'],\n",
       " ['Harold Ramis (dir.), Bill Murray, Andie MacDowell'],\n",
       " ['William Wyler (dir.), Myrna Loy, Dana Andrews'],\n",
       " ['William Friedkin (dir.), Ellen Burstyn, Max von Sydow'],\n",
       " ['Brad Bird (dir.), Craig T. Nelson, Samuel L. Jackson'],\n",
       " ['Ernst Lubitsch (dir.), Carole Lombard, Jack Benny'],\n",
       " ['Mathieu Kassovitz (dir.), Vincent Cassel, Hubert Koundé'],\n",
       " ['Gillo Pontecorvo (dir.), Brahim Hadjadj, Jean Martin'],\n",
       " ['Gore Verbinski (dir.), Johnny Depp, Geoffrey Rush'],\n",
       " ['Lasse Hallström (dir.), Richard Gere, Joan Allen'],\n",
       " ['John Ford (dir.), Henry Fonda, Jane Darwell'],\n",
       " ['Çagan Irmak (dir.), Çetin Tekindor, Fikret Kuskan'],\n",
       " ['T.J. Gnanavel (dir.), Suriya, Lijo Mol Jose'],\n",
       " ['Alejandro G. Iñárritu (dir.), Emilio Echevarría, Gael García Bernal'],\n",
       " ['Alfred Hitchcock (dir.), Laurence Olivier, Joan Fontaine'],\n",
       " ['Stuart Rosenberg (dir.), Paul Newman, George Kennedy'],\n",
       " ['Park Chan-wook (dir.), Kim Min-hee, Ha Jung-woo'],\n",
       " ['François Truffaut (dir.), Jean-Pierre Léaud, Albert Rémy'],\n",
       " ['Robert Wise (dir.), Julie Andrews, Christopher Plummer'],\n",
       " ['Frank Capra (dir.), Clark Gable, Claudette Colbert'],\n",
       " ['Ingmar Bergman (dir.), Bibi Andersson, Liv Ullmann'],\n",
       " ['Terry Jones (dir.), Graham Chapman, John Cleese'],\n",
       " ['Brad Bird (dir.), Eli Marienthal, Harry Connick Jr.'],\n",
       " ['Tate Taylor (dir.), Viola Davis, Emma Stone'],\n",
       " ['Akira Kurosawa (dir.), Maksim Munzuk, Yuriy Solomin'],\n",
       " ['Ron Clements (dir.), Scott Weinger, Robin Williams'],\n",
       " ['Richard Attenborough (dir.), Ben Kingsley, John Gielgud'],\n",
       " ['Kevin Costner (dir.), Kevin Costner, Mary McDonnell']]"
      ]
     },
     "execution_count": 18,
     "metadata": {},
     "output_type": "execute_result"
    }
   ],
   "source": [
    "director"
   ]
  },
  {
   "cell_type": "code",
   "execution_count": null,
   "metadata": {},
   "outputs": [],
   "source": []
  },
  {
   "cell_type": "code",
   "execution_count": null,
   "metadata": {},
   "outputs": [],
   "source": []
  },
  {
   "cell_type": "markdown",
   "metadata": {},
   "source": [
    "#### Movie name, year and a brief summary of the top 10 random movies (IMDB) as a pandas dataframe."
   ]
  },
  {
   "cell_type": "code",
   "execution_count": null,
   "metadata": {},
   "outputs": [],
   "source": [
    "#This is the url you will scrape in this exercise\n",
    "url = 'http://www.imdb.com/chart/top'"
   ]
  },
  {
   "cell_type": "code",
   "execution_count": null,
   "metadata": {},
   "outputs": [],
   "source": [
    "#your code"
   ]
  },
  {
   "cell_type": "markdown",
   "metadata": {},
   "source": [
    "#### Find the live weather report (temperature, wind speed, description and weather) of a given city."
   ]
  },
  {
   "cell_type": "code",
   "execution_count": null,
   "metadata": {},
   "outputs": [],
   "source": [
    "#https://openweathermap.org/current\n",
    "city = city=input('Enter the city:')\n",
    "url = 'http://api.openweathermap.org/data/2.5/weather?'+'q='+city+'&APPID=b35975e18dc93725acb092f7272cc6b8&units=metric'"
   ]
  },
  {
   "cell_type": "code",
   "execution_count": null,
   "metadata": {},
   "outputs": [],
   "source": [
    "# your code"
   ]
  },
  {
   "cell_type": "markdown",
   "metadata": {},
   "source": [
    "#### Book name,price and stock availability as a pandas dataframe."
   ]
  },
  {
   "cell_type": "code",
   "execution_count": null,
   "metadata": {},
   "outputs": [],
   "source": [
    "# This is the url you will scrape in this exercise. \n",
    "# It is a fictional bookstore created to be scraped. \n",
    "url = 'http://books.toscrape.com/'"
   ]
  },
  {
   "cell_type": "code",
   "execution_count": null,
   "metadata": {},
   "outputs": [],
   "source": [
    "#your code"
   ]
  }
 ],
 "metadata": {
  "kernelspec": {
   "display_name": "Python 3 (ipykernel)",
   "language": "python",
   "name": "python3"
  },
  "language_info": {
   "codemirror_mode": {
    "name": "ipython",
    "version": 3
   },
   "file_extension": ".py",
   "mimetype": "text/x-python",
   "name": "python",
   "nbconvert_exporter": "python",
   "pygments_lexer": "ipython3",
   "version": "3.9.13"
  }
 },
 "nbformat": 4,
 "nbformat_minor": 2
}
