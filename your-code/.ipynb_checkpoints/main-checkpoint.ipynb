{
 "cells": [
  {
   "cell_type": "markdown",
   "metadata": {},
   "source": [
    "# Web Scraping Lab\n",
    "\n",
    "You will find in this notebook some scrapy exercises to practise your scraping skills.\n",
    "\n",
    "**Tips:**\n",
    "\n",
    "- Check the response status code for each request to ensure you have obtained the intended contennt.\n",
    "- Print the response text in each request to understand the kind of info you are getting and its format.\n",
    "- Check for patterns in the response text to extract the data/info requested in each question.\n",
    "- Visit each url and take a look at its source through Chrome DevTools. You'll need to identify the html tags, special class names etc. used for the html content you are expected to extract."
   ]
  },
  {
   "cell_type": "markdown",
   "metadata": {},
   "source": [
    "- [Selenium Doc](https://www.selenium.dev/documentation/)\n",
    "- [Requests library](http://docs.python-requests.org/en/master/#the-user-guide) documentation \n",
    "- [Urllib](https://docs.python.org/3/library/urllib.html#module-urllib)\n",
    "- [re lib](https://docs.python.org/3/library/re.html)\n",
    "- [lxml lib](https://lxml.de/)\n",
    "- [Scrapy](https://scrapy.org/)\n",
    "- [List of HTTP status codes](https://en.wikipedia.org/wiki/List_of_HTTP_status_codes)\n",
    "- [HTML basics](http://www.simplehtmlguide.com/cheatsheet.php)\n",
    "- [CSS basics](https://www.cssbasics.com/#page_start)"
   ]
  },
  {
   "cell_type": "markdown",
   "metadata": {},
   "source": [
    "#### Below are the libraries and modules you may need. `Selenium` and `pandas` are imported for you."
   ]
  },
  {
   "cell_type": "code",
   "execution_count": 1,
   "metadata": {},
   "outputs": [],
   "source": [
    "import pandas as pd\n",
    "from selenium import webdriver\n",
    "from selenium.webdriver.chrome.options import Options\n",
    "from webdriver_manager.chrome import ChromeDriverManager\n",
    "from selenium.webdriver.common.by import By\n",
    "import re\n",
    "from selenium.webdriver.common.keys import Keys"
   ]
  },
  {
   "cell_type": "markdown",
   "metadata": {},
   "source": [
    "#### Enable the options you may need. In the next cell you have an example of them but you can choose to use them or not."
   ]
  },
  {
   "cell_type": "code",
   "execution_count": 2,
   "metadata": {},
   "outputs": [],
   "source": [
    "#driver configuration\n",
    "opciones=Options()\n",
    "\n",
    "opciones.add_experimental_option('excludeSwitches', ['enable-automation'])\n",
    "opciones.add_experimental_option('useAutomationExtension', False)\n",
    "opciones.headless=False    # si True, no aperece la ventana (headless=no visible)\n",
    "opciones.add_argument('--start-maximized')         # comienza maximizado\n",
    "#opciones.add_argument('user-data-dir=selenium')    # mantiene las cookies\n",
    "#opcines.add_extension('driver_folder/adblock.crx')       # adblocker\n",
    "#opciones.add_argument('--incognito')"
   ]
  },
  {
   "cell_type": "code",
   "execution_count": 3,
   "metadata": {},
   "outputs": [
    {
     "name": "stderr",
     "output_type": "stream",
     "text": [
      "/var/folders/6l/31x7hhz57xx8r01s93tx63f00000gn/T/ipykernel_4870/2002262159.py:3: DeprecationWarning: executable_path has been deprecated, please pass in a Service object\n",
      "  driver=webdriver.Chrome(PATH)       # abre una venta una de chrome\n"
     ]
    }
   ],
   "source": [
    "PATH = ChromeDriverManager().install()     # instala el driver de chrome\n",
    "\n",
    "driver=webdriver.Chrome(PATH)       # abre una venta una de chrome"
   ]
  },
  {
   "cell_type": "markdown",
   "metadata": {},
   "source": [
    "#### Display the names of the trending developers retrieved in the previous step.\n",
    "\n",
    "Your output should be a Python list of developer names. Each name should not contain any html tag.\n",
    "\n",
    "**Instructions:**\n",
    "\n",
    "1. Find out the html tag and class names used for the developer names.\n",
    "\n",
    "1. Use string manipulation techniques to replace whitespaces and linebreaks (i.e. `\\n`) in the *text* of each html element. Use a list to store the clean names.\n",
    "\n",
    "1. Print the list of names.\n",
    "\n",
    "Your output should look like below:\n",
    "\n",
    "```\n",
    "['trimstray (@trimstray)',\n",
    " 'joewalnes (JoeWalnes)',\n",
    " 'charlax (Charles-AxelDein)',\n",
    " 'ForrestKnight (ForrestKnight)',\n",
    " 'revery-ui (revery-ui)',\n",
    " 'alibaba (Alibaba)',\n",
    " 'Microsoft (Microsoft)',\n",
    " 'github (GitHub)',\n",
    " 'facebook (Facebook)',\n",
    " 'boazsegev (Bo)',\n",
    " 'google (Google)',\n",
    " 'cloudfetch',\n",
    " 'sindresorhus (SindreSorhus)',\n",
    " 'tensorflow',\n",
    " 'apache (TheApacheSoftwareFoundation)',\n",
    " 'DevonCrawford (DevonCrawford)',\n",
    " 'ARMmbed (ArmMbed)',\n",
    " 'vuejs (vuejs)',\n",
    " 'fastai (fast.ai)',\n",
    " 'QiShaoXuan (Qi)',\n",
    " 'joelparkerhenderson (JoelParkerHenderson)',\n",
    " 'torvalds (LinusTorvalds)',\n",
    " 'CyC2018',\n",
    " 'komeiji-satori (神楽坂覚々)',\n",
    " 'script-8']\n",
    " ```"
   ]
  },
  {
   "cell_type": "code",
   "execution_count": 4,
   "metadata": {},
   "outputs": [],
   "source": [
    "# This is the url you will scrape in this exercise\n",
    "url = 'https://github.com/trending/developers'"
   ]
  },
  {
   "cell_type": "code",
   "execution_count": 5,
   "metadata": {},
   "outputs": [
    {
     "data": {
      "text/plain": [
       "['Ariel Mashraki (a8m)',\n",
       " 'Henrik Rydgård (hrydgard)',\n",
       " 'jxxghp (jxxghp)',\n",
       " 'Shrikant Sharat Kandula (sharat87)',\n",
       " 'Azure SDK Bot (azure-sdk)',\n",
       " 'Casey Rodarmor (casey)',\n",
       " 'Florian Roth (Neo23x0)',\n",
       " 'Brad Fitzpatrick (bradfitz)',\n",
       " 'Emil Ernerfeldt (emilk)',\n",
       " 'atomiks',\n",
       " 'Ariel Mashraki (zkamvar)',\n",
       " 'Henrik Rydgård (a8m)',\n",
       " 'jxxghp (hrydgard)',\n",
       " 'Shrikant Sharat Kandula (jxxghp)',\n",
       " 'Azure SDK Bot (sharat87)',\n",
       " 'Casey Rodarmor (azure-sdk)',\n",
       " 'Florian Roth (casey)',\n",
       " 'Brad Fitzpatrick (Neo23x0)',\n",
       " 'Emil Ernerfeldt (bradfitz)',\n",
       " 'atomiks (emilk)',\n",
       " 'Jeffrey Su (JeffreySu)',\n",
       " 'Yair Morgenstern (yairm210)',\n",
       " 'Manuel Kaufmann (humitos)',\n",
       " 'Paul Razvan Berg (PaulRBerg)',\n",
       " 'Matt Karl (bigtimebuddy)',\n",
       " 'nodiscc (nodiscc)',\n",
       " 'Matthew Leibowitz (mattleibow)',\n",
       " 'Maarten Grootendorst (MaartenGr)',\n",
       " 'Ben McCann (benmccann)',\n",
       " 'Costa Huang (vwxyzjn)',\n",
       " 'François Chollet (fchollet)',\n",
       " 'Ross Wightman (rwightman)',\n",
       " 'Robert Martin (robertmartin8)',\n",
       " 'Huon Wilson (huonw)',\n",
       " 'Zhian N. Kamvar (zkamvar)']"
      ]
     },
     "execution_count": 5,
     "metadata": {},
     "output_type": "execute_result"
    }
   ],
   "source": [
    "driver.get(url)\n",
    "\n",
    "usuarios = []\n",
    "\n",
    "for i in range(len(driver.find_elements(By.CLASS_NAME, 'h3.lh-condensed'))):  \n",
    "    \n",
    "    contador = 0\n",
    "    \n",
    "    nombre = driver.find_elements(By.CLASS_NAME, 'h3.lh-condensed')[i].text.strip()\n",
    "    \n",
    "    if nombre != 'atomiks':\n",
    "        \n",
    "        usuario = driver.find_elements(By.CLASS_NAME, 'f4.text-normal.mb-1')[i].text.strip()\n",
    "        \n",
    "        usuarios.append(f'{nombre} ({usuario})')\n",
    "        \n",
    "        contador += 1\n",
    "        \n",
    "    else: \n",
    "        \n",
    "        usuarios.append(nombre)\n",
    "        \n",
    "        for i in range(contador,len(driver.find_elements(By.CLASS_NAME, 'h3.lh-condensed'))):  \n",
    "\n",
    "            nombre = driver.find_elements(By.CLASS_NAME, 'h3.lh-condensed')[i].text.strip()\n",
    "        \n",
    "            usuario = driver.find_elements(By.CLASS_NAME, 'f4.text-normal.mb-1')[i-1].text.strip()\n",
    "        \n",
    "            usuarios.append(f'{nombre} ({usuario})')\n",
    "            \n",
    "        break\n",
    "                \n",
    "usuarios"
   ]
  },
  {
   "cell_type": "markdown",
   "metadata": {},
   "source": [
    "#### Display the trending Python repositories in GitHub\n",
    "\n",
    "The steps to solve this problem is similar to the previous one except that you need to find out the repository names instead of developer names."
   ]
  },
  {
   "cell_type": "code",
   "execution_count": 6,
   "metadata": {},
   "outputs": [],
   "source": [
    "# This is the url you will scrape in this exercise\n",
    "url = 'https://github.com/trending/python?since=daily'"
   ]
  },
  {
   "cell_type": "code",
   "execution_count": 7,
   "metadata": {},
   "outputs": [
    {
     "data": {
      "text/plain": [
       "['acikkaynak / deprem-yardim-backend',\n",
       " 'TheAlgorithms / Python',\n",
       " 'Zero6992 / chatGPT-discord-bot',\n",
       " 'zhayujie / chatgpt-on-wechat',\n",
       " 'TEXTurePaper / TEXTurePaper',\n",
       " 'acheong08 / ChatGPT',\n",
       " 'LAION-AI / Open-Assistant',\n",
       " 'AIGCT / EASYChatGPT',\n",
       " 'BlinkDL / ChatRWKV',\n",
       " 'ddPn08 / Lsmith',\n",
       " 'd2l-ai / d2l-zh',\n",
       " 'chidiwilliams / buzz',\n",
       " 'arc53 / DocsGPT',\n",
       " 'prowler-cloud / prowler',\n",
       " 'openai / openai-python',\n",
       " 'hwchase17 / langchain',\n",
       " 'karfly / chatgpt_telegram_bot',\n",
       " 'biancangming / wtv',\n",
       " 'LlmKira / Openaibot',\n",
       " 'BlinkDL / RWKV-LM',\n",
       " 'wagtail / wagtail',\n",
       " 'PaddlePaddle / ERNIE',\n",
       " 'MrMimic / data-scientist-roadmap',\n",
       " 'PaddlePaddle / PaddleSpeech',\n",
       " 'bellingcat / octosuite']"
      ]
     },
     "execution_count": 7,
     "metadata": {},
     "output_type": "execute_result"
    }
   ],
   "source": [
    "driver.get(url)\n",
    "\n",
    "[e.text.strip() for e in driver.find_elements(By.CLASS_NAME, 'h3.lh-condensed')]"
   ]
  },
  {
   "cell_type": "markdown",
   "metadata": {},
   "source": [
    "#### Display all the image links from Walt Disney wikipedia page"
   ]
  },
  {
   "cell_type": "code",
   "execution_count": 8,
   "metadata": {},
   "outputs": [],
   "source": [
    "# This is the url you will scrape in this exercise\n",
    "url = 'https://en.wikipedia.org/wiki/Walt_Disney'"
   ]
  },
  {
   "cell_type": "code",
   "execution_count": 9,
   "metadata": {},
   "outputs": [
    {
     "data": {
      "text/plain": [
       "['https://en.wikipedia.org/wiki/File:Walt_Disney_1946.JPG',\n",
       " 'https://en.wikipedia.org/wiki/File:Walt_Disney_1942_signature.svg',\n",
       " 'https://en.wikipedia.org/wiki/File:Walt_Disney_Birthplace_Exterior_Hermosa_Chicago_Illinois.jpg',\n",
       " 'https://en.wikipedia.org/wiki/File:Walt_Disney_envelope_ca._1921.jpg',\n",
       " 'https://en.wikipedia.org/wiki/File:Trolley_Troubles_poster.jpg',\n",
       " 'https://en.wikipedia.org/wiki/File:Steamboat-willie.jpg',\n",
       " 'https://en.wikipedia.org/wiki/File:Walt_Disney_1935.jpg',\n",
       " 'https://en.wikipedia.org/wiki/File:Walt_Disney_Snow_white_1937_trailer_screenshot_(13).jpg',\n",
       " 'https://en.wikipedia.org/wiki/File:Disney_drawing_goofy.jpg',\n",
       " 'https://en.wikipedia.org/wiki/File:WaltDisneyplansDisneylandDec1954.jpg',\n",
       " 'https://en.wikipedia.org/wiki/File:Walt_disney_portrait_right.jpg',\n",
       " 'https://en.wikipedia.org/wiki/File:Walt_Disney_Grave.JPG',\n",
       " 'https://en.wikipedia.org/wiki/File:Roy_O._Disney_with_Company_at_Press_Conference.jpg',\n",
       " 'https://en.wikipedia.org/wiki/File:DisneySchiphol1951.jpg',\n",
       " 'https://en.wikipedia.org/wiki/File:Disney1968.jpg',\n",
       " 'https://en.wikipedia.org/wiki/File:Disney_Oscar_1953_(cropped).jpg',\n",
       " 'https://en.wikipedia.org/wiki/File:Disneyland_Resort_logo.svg',\n",
       " 'https://en.wikipedia.org/wiki/File:Animation_disc.svg',\n",
       " 'https://en.wikipedia.org/wiki/File:Magic_Kingdom_castle.jpg',\n",
       " 'https://en.wikipedia.org/wiki/File:Blank_television_set.svg']"
      ]
     },
     "execution_count": 9,
     "metadata": {},
     "output_type": "execute_result"
    }
   ],
   "source": [
    "driver.get(url)\n",
    "\n",
    "[e.get_attribute('href') for e in driver.find_elements(By.CLASS_NAME, 'image')]"
   ]
  },
  {
   "cell_type": "markdown",
   "metadata": {},
   "source": [
    "#### Retrieve an arbitary Wikipedia page of \"Python\" and create a list of links on that page"
   ]
  },
  {
   "cell_type": "code",
   "execution_count": 10,
   "metadata": {},
   "outputs": [],
   "source": [
    "# This is the url you will scrape in this exercise\n",
    "url ='https://en.wikipedia.org/wiki/Python' "
   ]
  },
  {
   "cell_type": "code",
   "execution_count": 11,
   "metadata": {},
   "outputs": [],
   "source": [
    "driver.get(url)\n",
    "\n",
    "#[e.get_attribute('href') for e in driver.find_elements(By.TAG_NAME, \"a\")]"
   ]
  },
  {
   "cell_type": "markdown",
   "metadata": {},
   "source": [
    "#### Number of Titles that have changed in the United States Code since its last release point "
   ]
  },
  {
   "cell_type": "code",
   "execution_count": 12,
   "metadata": {},
   "outputs": [],
   "source": [
    "# This is the url you will scrape in this exercise\n",
    "url = 'http://uscode.house.gov/download/download.shtml'"
   ]
  },
  {
   "cell_type": "code",
   "execution_count": 13,
   "metadata": {},
   "outputs": [
    {
     "data": {
      "text/plain": [
       "14"
      ]
     },
     "execution_count": 13,
     "metadata": {},
     "output_type": "execute_result"
    }
   ],
   "source": [
    "driver.get(url)\n",
    "\n",
    "len(driver.find_elements(By.CLASS_NAME, 'usctitlechanged'))"
   ]
  },
  {
   "cell_type": "markdown",
   "metadata": {},
   "source": [
    "#### A Python list with the top ten FBI's Most Wanted names "
   ]
  },
  {
   "cell_type": "code",
   "execution_count": 14,
   "metadata": {},
   "outputs": [],
   "source": [
    "# This is the url you will scrape in this exercise\n",
    "url = 'https://www.fbi.gov/wanted/topten'"
   ]
  },
  {
   "cell_type": "code",
   "execution_count": 15,
   "metadata": {},
   "outputs": [
    {
     "data": {
      "text/plain": [
       "['Yulan Adonay Archaga Carias',\n",
       " 'Ruja Ignatova',\n",
       " 'Arnoldo Jimenez',\n",
       " 'Omar Alexander Cardenas',\n",
       " 'Alexis Flores',\n",
       " 'Bhadreshkumar Chetanbhai Patel',\n",
       " 'Alejandro Rosales Castillo',\n",
       " 'Jose Rodolfo Villarreal-Hernandez',\n",
       " 'Michael James Pratt',\n",
       " 'Rafael Caro-Quintero']"
      ]
     },
     "execution_count": 15,
     "metadata": {},
     "output_type": "execute_result"
    }
   ],
   "source": [
    "driver.get(url)\n",
    "\n",
    "lst = [e.text.strip().title() for e in driver.find_elements(By.CLASS_NAME, 'title')]\n",
    "\n",
    "lst.pop(0)\n",
    "\n",
    "lst"
   ]
  },
  {
   "cell_type": "markdown",
   "metadata": {},
   "source": [
    "####  20 latest earthquakes info (date, time, latitude, longitude and region name) by the EMSC as a pandas dataframe"
   ]
  },
  {
   "cell_type": "code",
   "execution_count": 16,
   "metadata": {},
   "outputs": [],
   "source": [
    "# This is the url you will scrape in this exercise\n",
    "url = 'https://www.emsc-csem.org/Earthquake/'"
   ]
  },
  {
   "cell_type": "code",
   "execution_count": 17,
   "metadata": {},
   "outputs": [
    {
     "data": {
      "text/html": [
       "<div>\n",
       "<style scoped>\n",
       "    .dataframe tbody tr th:only-of-type {\n",
       "        vertical-align: middle;\n",
       "    }\n",
       "\n",
       "    .dataframe tbody tr th {\n",
       "        vertical-align: top;\n",
       "    }\n",
       "\n",
       "    .dataframe thead th {\n",
       "        text-align: right;\n",
       "    }\n",
       "</style>\n",
       "<table border=\"1\" class=\"dataframe\">\n",
       "  <thead>\n",
       "    <tr style=\"text-align: right;\">\n",
       "      <th></th>\n",
       "      <th>Date &amp; Time UTC</th>\n",
       "      <th>Latitude</th>\n",
       "      <th>Longitude</th>\n",
       "      <th>Depth km</th>\n",
       "      <th>Mag</th>\n",
       "      <th>Region name</th>\n",
       "    </tr>\n",
       "  </thead>\n",
       "  <tbody>\n",
       "    <tr>\n",
       "      <th>0</th>\n",
       "      <td>2023-02-08 19:13:23</td>\n",
       "      <td>37.47N</td>\n",
       "      <td>37.08E</td>\n",
       "      <td>6</td>\n",
       "      <td>3.1</td>\n",
       "      <td>CENTRAL TURKEY</td>\n",
       "    </tr>\n",
       "    <tr>\n",
       "      <th>1</th>\n",
       "      <td>2023-02-08 19:10:06</td>\n",
       "      <td>38.09N</td>\n",
       "      <td>37.74E</td>\n",
       "      <td>10</td>\n",
       "      <td>2.8</td>\n",
       "      <td>CENTRAL TURKEY</td>\n",
       "    </tr>\n",
       "    <tr>\n",
       "      <th>2</th>\n",
       "      <td>2023-02-08 19:05:18</td>\n",
       "      <td>38.04N</td>\n",
       "      <td>36.50E</td>\n",
       "      <td>2</td>\n",
       "      <td>4.0</td>\n",
       "      <td>CENTRAL TURKEY</td>\n",
       "    </tr>\n",
       "    <tr>\n",
       "      <th>3</th>\n",
       "      <td>2023-02-08 19:03:17</td>\n",
       "      <td>38.41N</td>\n",
       "      <td>37.84E</td>\n",
       "      <td>10</td>\n",
       "      <td>2.6</td>\n",
       "      <td>CENTRAL TURKEY</td>\n",
       "    </tr>\n",
       "    <tr>\n",
       "      <th>4</th>\n",
       "      <td>2023-02-08 18:58:58</td>\n",
       "      <td>34.25N</td>\n",
       "      <td>36.39E</td>\n",
       "      <td>30</td>\n",
       "      <td>4.3</td>\n",
       "      <td>LEBANON - SYRIA REGION</td>\n",
       "    </tr>\n",
       "    <tr>\n",
       "      <th>5</th>\n",
       "      <td>2023-02-08 18:58:08</td>\n",
       "      <td>35.26N</td>\n",
       "      <td>119.07W</td>\n",
       "      <td>16</td>\n",
       "      <td>2.0</td>\n",
       "      <td>CENTRAL CALIFORNIA</td>\n",
       "    </tr>\n",
       "    <tr>\n",
       "      <th>6</th>\n",
       "      <td>2023-02-08 18:56:51</td>\n",
       "      <td>2.41S</td>\n",
       "      <td>140.63E</td>\n",
       "      <td>15</td>\n",
       "      <td>2.6</td>\n",
       "      <td>NEAR N COAST OF PAPUA, INDONESIA</td>\n",
       "    </tr>\n",
       "    <tr>\n",
       "      <th>7</th>\n",
       "      <td>2023-02-08 18:53:22</td>\n",
       "      <td>38.00N</td>\n",
       "      <td>38.12E</td>\n",
       "      <td>5</td>\n",
       "      <td>3.3</td>\n",
       "      <td>EASTERN TURKEY</td>\n",
       "    </tr>\n",
       "    <tr>\n",
       "      <th>8</th>\n",
       "      <td>2023-02-08 18:40:24</td>\n",
       "      <td>38.07N</td>\n",
       "      <td>37.29E</td>\n",
       "      <td>7</td>\n",
       "      <td>3.6</td>\n",
       "      <td>CENTRAL TURKEY</td>\n",
       "    </tr>\n",
       "    <tr>\n",
       "      <th>9</th>\n",
       "      <td>2023-02-08 18:37:18</td>\n",
       "      <td>14.96N</td>\n",
       "      <td>92.33W</td>\n",
       "      <td>99</td>\n",
       "      <td>4.0</td>\n",
       "      <td>CHIAPAS, MEXICO</td>\n",
       "    </tr>\n",
       "    <tr>\n",
       "      <th>10</th>\n",
       "      <td>2023-02-08 18:36:45</td>\n",
       "      <td>24.03S</td>\n",
       "      <td>68.88W</td>\n",
       "      <td>101</td>\n",
       "      <td>2.7</td>\n",
       "      <td>ANTOFAGASTA, CHILE</td>\n",
       "    </tr>\n",
       "    <tr>\n",
       "      <th>11</th>\n",
       "      <td>2023-02-08 18:32:44</td>\n",
       "      <td>39.58N</td>\n",
       "      <td>118.47W</td>\n",
       "      <td>8</td>\n",
       "      <td>2.2</td>\n",
       "      <td>NEVADA</td>\n",
       "    </tr>\n",
       "    <tr>\n",
       "      <th>12</th>\n",
       "      <td>2023-02-08 18:28:47</td>\n",
       "      <td>38.09N</td>\n",
       "      <td>37.68E</td>\n",
       "      <td>30</td>\n",
       "      <td>2.5</td>\n",
       "      <td>CENTRAL TURKEY</td>\n",
       "    </tr>\n",
       "    <tr>\n",
       "      <th>13</th>\n",
       "      <td>2023-02-08 18:26:12</td>\n",
       "      <td>37.32N</td>\n",
       "      <td>37.07E</td>\n",
       "      <td>5</td>\n",
       "      <td>3.0</td>\n",
       "      <td>CENTRAL TURKEY</td>\n",
       "    </tr>\n",
       "    <tr>\n",
       "      <th>14</th>\n",
       "      <td>2023-02-08 18:22:00</td>\n",
       "      <td>33.07S</td>\n",
       "      <td>72.06W</td>\n",
       "      <td>25</td>\n",
       "      <td>2.8</td>\n",
       "      <td>OFFSHORE VALPARAISO, CHILE</td>\n",
       "    </tr>\n",
       "    <tr>\n",
       "      <th>15</th>\n",
       "      <td>2023-02-08 18:19:12</td>\n",
       "      <td>27.90N</td>\n",
       "      <td>15.21W</td>\n",
       "      <td>6</td>\n",
       "      <td>1.9</td>\n",
       "      <td>CANARY ISLANDS, SPAIN REGION</td>\n",
       "    </tr>\n",
       "    <tr>\n",
       "      <th>16</th>\n",
       "      <td>2023-02-08 18:18:57</td>\n",
       "      <td>37.87N</td>\n",
       "      <td>36.63E</td>\n",
       "      <td>8</td>\n",
       "      <td>2.6</td>\n",
       "      <td>CENTRAL TURKEY</td>\n",
       "    </tr>\n",
       "    <tr>\n",
       "      <th>17</th>\n",
       "      <td>2023-02-08 18:16:30</td>\n",
       "      <td>42.10N</td>\n",
       "      <td>142.80E</td>\n",
       "      <td>40</td>\n",
       "      <td>3.6</td>\n",
       "      <td>HOKKAIDO, JAPAN REGION</td>\n",
       "    </tr>\n",
       "    <tr>\n",
       "      <th>18</th>\n",
       "      <td>2023-02-08 18:12:48</td>\n",
       "      <td>38.15N</td>\n",
       "      <td>36.94E</td>\n",
       "      <td>5</td>\n",
       "      <td>3.1</td>\n",
       "      <td>CENTRAL TURKEY</td>\n",
       "    </tr>\n",
       "    <tr>\n",
       "      <th>19</th>\n",
       "      <td>2023-02-08 18:08:40</td>\n",
       "      <td>27.80S</td>\n",
       "      <td>70.20W</td>\n",
       "      <td>97</td>\n",
       "      <td>2.9</td>\n",
       "      <td>ATACAMA, CHILE</td>\n",
       "    </tr>\n",
       "  </tbody>\n",
       "</table>\n",
       "</div>"
      ],
      "text/plain": [
       "       Date & Time UTC Latitude Longitude Depth km  Mag  \\\n",
       "0  2023-02-08 19:13:23   37.47N    37.08E        6  3.1   \n",
       "1  2023-02-08 19:10:06   38.09N    37.74E       10  2.8   \n",
       "2  2023-02-08 19:05:18   38.04N    36.50E        2  4.0   \n",
       "3  2023-02-08 19:03:17   38.41N    37.84E       10  2.6   \n",
       "4  2023-02-08 18:58:58   34.25N    36.39E       30  4.3   \n",
       "5  2023-02-08 18:58:08   35.26N   119.07W       16  2.0   \n",
       "6  2023-02-08 18:56:51    2.41S   140.63E       15  2.6   \n",
       "7  2023-02-08 18:53:22   38.00N    38.12E        5  3.3   \n",
       "8  2023-02-08 18:40:24   38.07N    37.29E        7  3.6   \n",
       "9  2023-02-08 18:37:18   14.96N    92.33W       99  4.0   \n",
       "10 2023-02-08 18:36:45   24.03S    68.88W      101  2.7   \n",
       "11 2023-02-08 18:32:44   39.58N   118.47W        8  2.2   \n",
       "12 2023-02-08 18:28:47   38.09N    37.68E       30  2.5   \n",
       "13 2023-02-08 18:26:12   37.32N    37.07E        5  3.0   \n",
       "14 2023-02-08 18:22:00   33.07S    72.06W       25  2.8   \n",
       "15 2023-02-08 18:19:12   27.90N    15.21W        6  1.9   \n",
       "16 2023-02-08 18:18:57   37.87N    36.63E        8  2.6   \n",
       "17 2023-02-08 18:16:30   42.10N   142.80E       40  3.6   \n",
       "18 2023-02-08 18:12:48   38.15N    36.94E        5  3.1   \n",
       "19 2023-02-08 18:08:40   27.80S    70.20W       97  2.9   \n",
       "\n",
       "                         Region name  \n",
       "0                     CENTRAL TURKEY  \n",
       "1                     CENTRAL TURKEY  \n",
       "2                     CENTRAL TURKEY  \n",
       "3                     CENTRAL TURKEY  \n",
       "4             LEBANON - SYRIA REGION  \n",
       "5                 CENTRAL CALIFORNIA  \n",
       "6   NEAR N COAST OF PAPUA, INDONESIA  \n",
       "7                     EASTERN TURKEY  \n",
       "8                     CENTRAL TURKEY  \n",
       "9                    CHIAPAS, MEXICO  \n",
       "10                ANTOFAGASTA, CHILE  \n",
       "11                            NEVADA  \n",
       "12                    CENTRAL TURKEY  \n",
       "13                    CENTRAL TURKEY  \n",
       "14        OFFSHORE VALPARAISO, CHILE  \n",
       "15      CANARY ISLANDS, SPAIN REGION  \n",
       "16                    CENTRAL TURKEY  \n",
       "17            HOKKAIDO, JAPAN REGION  \n",
       "18                    CENTRAL TURKEY  \n",
       "19                    ATACAMA, CHILE  "
      ]
     },
     "execution_count": 17,
     "metadata": {},
     "output_type": "execute_result"
    }
   ],
   "source": [
    "driver.get(url)\n",
    "\n",
    "data = []\n",
    "\n",
    "lat_sum = 0\n",
    "\n",
    "lat_sum2 = 0\n",
    "\n",
    "long_sum = 1\n",
    "\n",
    "long_sum2 = 1\n",
    "\n",
    "mag_sum = 2\n",
    "\n",
    "for i in range(20):\n",
    "\n",
    "    date = driver.find_elements(By.CLASS_NAME, 'tabev6')[i].text.strip()\n",
    "    \n",
    "    lat = driver.find_elements(By.CLASS_NAME, 'tabev1')[i+lat_sum].text.strip() + driver.find_elements(By.CLASS_NAME, 'tabev2')[i+lat_sum2].text.strip()\n",
    "    \n",
    "    lat_sum += 1\n",
    "    \n",
    "    lat_sum2 += 2\n",
    "    \n",
    "    long = driver.find_elements(By.CLASS_NAME, 'tabev1')[i+long_sum].text.strip() + driver.find_elements(By.CLASS_NAME, 'tabev2')[i+long_sum2].text.strip()\n",
    "    \n",
    "    long_sum+=1\n",
    "    \n",
    "    long_sum2 += 2\n",
    "    \n",
    "    depth = driver.find_elements(By.CLASS_NAME, 'tabev3')[i].text.strip()\n",
    "    \n",
    "    mag = driver.find_elements(By.CLASS_NAME, 'tabev2')[i+mag_sum].text.strip()\n",
    "    \n",
    "    mag_sum+=2\n",
    "\n",
    "    region = driver.find_elements(By.CLASS_NAME, 'tb_region')[i].text.strip()\n",
    "    \n",
    "    data.append({'Date & Time UTC': date,\n",
    "                 'Latitude': lat,\n",
    "                 'Longitude': long,\n",
    "                 'Depth km': depth, \n",
    "                 'Mag': mag, \n",
    "                 'Region name': region})\n",
    "    \n",
    "df = pd.DataFrame(data)\n",
    "\n",
    "# Lmpieza\n",
    "\n",
    "df['Date & Time UTC'] = df['Date & Time UTC'].apply(lambda x: re.sub(r\"\\s\\w+\\sago\", \"\", x))\n",
    "df['Date & Time UTC'] = df['Date & Time UTC'].apply(lambda x: re.sub(r\"\\s\", \"\", x))\n",
    "df['Date & Time UTC'] = df['Date & Time UTC'].apply(lambda x: re.search(r\"2.*\", x).group())\n",
    "df['Date & Time UTC'] = df['Date & Time UTC'].apply(lambda x: re.search(r\".*\\.\", x).group())\n",
    "df['Date & Time UTC'] = df['Date & Time UTC'].apply(lambda x: re.sub(r\"\\.\", \"\", x))\n",
    "df['Date & Time UTC'] = pd.to_datetime(df['Date & Time UTC'], format='%Y-%m-%d%H:%M:%S')\n",
    "\n",
    "df.head(20)"
   ]
  },
  {
   "cell_type": "markdown",
   "metadata": {},
   "source": [
    "#### Count number of tweets by a given Twitter account."
   ]
  },
  {
   "cell_type": "markdown",
   "metadata": {},
   "source": [
    "You will need to include a ***try/except block*** for account names not found. \n",
    "<br>***Hint:*** the program should count the number of tweets for any provided account"
   ]
  },
  {
   "cell_type": "code",
   "execution_count": 18,
   "metadata": {},
   "outputs": [],
   "source": [
    "# This is the url you will scrape in this exercise \n",
    "URL = 'https://twitter.com/' "
   ]
  },
  {
   "cell_type": "code",
   "execution_count": 19,
   "metadata": {},
   "outputs": [
    {
     "name": "stdout",
     "output_type": "stream",
     "text": [
      "https://twitter.com/nasa\n"
     ]
    },
    {
     "data": {
      "text/plain": [
       "6"
      ]
     },
     "execution_count": 19,
     "metadata": {},
     "output_type": "execute_result"
    }
   ],
   "source": [
    "usuario = 'nasa'\n",
    "\n",
    "def scrap_twitter(account): \n",
    "    try:\n",
    "        scrape_url = ''.join([URL, f'{account}'])\n",
    "        print(scrape_url)\n",
    "        driver.get(scrape_url)\n",
    "        for i in range(3):\n",
    "            driver.execute_script('window.scrollTo(0, document.body.scrollHeight);')\n",
    "        num_tweets = [driver.find_elements(By.CLASS_NAME, 'css-1dbjc4n')[i].text for i in range(len(driver.find_elements(By.CLASS_NAME, 'css-1dbjc4n')))]\n",
    "    except:\n",
    "        return print('La cuenta no existe')\n",
    "    return len(num_tweets)\n",
    "\n",
    "scrap_twitter(usuario)"
   ]
  },
  {
   "cell_type": "markdown",
   "metadata": {},
   "source": [
    "#### Number of followers of a given twitter account"
   ]
  },
  {
   "cell_type": "markdown",
   "metadata": {},
   "source": [
    "You will need to include a ***try/except block*** in case account/s name not found. \n",
    "<br>***Hint:*** the program should count the followers for any provided account"
   ]
  },
  {
   "cell_type": "code",
   "execution_count": 20,
   "metadata": {},
   "outputs": [],
   "source": [
    "# This is the url you will scrape in this exercise \n",
    "# You will need to add the account credentials to this url\n",
    "url = 'https://twitter.com/'"
   ]
  },
  {
   "cell_type": "code",
   "execution_count": 21,
   "metadata": {},
   "outputs": [],
   "source": [
    "#your code"
   ]
  },
  {
   "cell_type": "markdown",
   "metadata": {},
   "source": [
    "#### List all language names and number of related articles in the order they appear in wikipedia.org"
   ]
  },
  {
   "cell_type": "code",
   "execution_count": 22,
   "metadata": {},
   "outputs": [],
   "source": [
    "# This is the url you will scrape in this exercise\n",
    "url = 'https://www.wikipedia.org/'"
   ]
  },
  {
   "cell_type": "code",
   "execution_count": 23,
   "metadata": {},
   "outputs": [
    {
     "data": {
      "text/plain": [
       "['Español --> 1 833 000+articles',\n",
       " 'English --> 6 606 000+articles',\n",
       " 'Русский --> 1 887 000+articles',\n",
       " '日本語 --> 1 359 000+articles',\n",
       " 'Deutsch --> 2 764 000+articles',\n",
       " 'Français --> 2 488 000+articles',\n",
       " 'Italiano --> 1 792 000+articles',\n",
       " '中文 --> 1 331 000+articles',\n",
       " 'فارسی --> 947 000+articles',\n",
       " 'Polski --> 1 552 000+articles']"
      ]
     },
     "execution_count": 23,
     "metadata": {},
     "output_type": "execute_result"
    }
   ],
   "source": [
    "driver.get(url)\n",
    "\n",
    "idiomas = [e.text.strip() for e in driver.find_elements(By.TAG_NAME, 'strong')]\n",
    "\n",
    "idiomas.pop(0)\n",
    "\n",
    "idiomas.pop(-1)\n",
    "\n",
    "numeros = [e.text.strip() for e in driver.find_elements(By.TAG_NAME, 'bdi')]\n",
    "\n",
    "resultado = []\n",
    "\n",
    "for i in range(len(idiomas)):\n",
    "\n",
    "    if i >= 8: resultado.append(idiomas[i] + ' --> ' + numeros[i+1] + 'articles') \n",
    "        \n",
    "    else: resultado.append(idiomas[i] + ' --> ' + numeros[i] + 'articles')    \n",
    "\n",
    "resultado"
   ]
  },
  {
   "cell_type": "markdown",
   "metadata": {},
   "source": [
    "#### A list with the different kind of datasets available in data.gov.uk "
   ]
  },
  {
   "cell_type": "code",
   "execution_count": 24,
   "metadata": {},
   "outputs": [],
   "source": [
    "# This is the url you will scrape in this exercise\n",
    "url = 'https://data.gov.uk/'"
   ]
  },
  {
   "cell_type": "code",
   "execution_count": 25,
   "metadata": {},
   "outputs": [
    {
     "data": {
      "text/plain": [
       "['Business and economy',\n",
       " 'Crime and justice',\n",
       " 'Defence',\n",
       " 'Education',\n",
       " 'Environment',\n",
       " 'Government',\n",
       " 'Government spending',\n",
       " 'Health',\n",
       " 'Mapping',\n",
       " 'Society',\n",
       " 'Towns and cities',\n",
       " 'Transport',\n",
       " 'Digital service performance',\n",
       " 'Government reference data']"
      ]
     },
     "execution_count": 25,
     "metadata": {},
     "output_type": "execute_result"
    }
   ],
   "source": [
    "driver.get(url)\n",
    "\n",
    "lst = [e.text.strip() for e in driver.find_elements(By.CLASS_NAME, 'govuk-link')]\n",
    "\n",
    "for i in range(4):\n",
    "    lst.pop(0)\n",
    "    \n",
    "lst"
   ]
  },
  {
   "cell_type": "markdown",
   "metadata": {},
   "source": [
    "#### Top 10 languages by number of native speakers stored in a Pandas Dataframe"
   ]
  },
  {
   "cell_type": "code",
   "execution_count": 26,
   "metadata": {},
   "outputs": [],
   "source": [
    "# This is the url you will scrape in this exercise\n",
    "url = 'https://en.wikipedia.org/wiki/List_of_languages_by_number_of_native_speakers'"
   ]
  },
  {
   "cell_type": "code",
   "execution_count": 27,
   "metadata": {},
   "outputs": [
    {
     "data": {
      "text/plain": [
       "['Mandarin Chinese',\n",
       " 'Spanish',\n",
       " 'English',\n",
       " 'Hindi',\n",
       " 'Bengali',\n",
       " 'Portuguese',\n",
       " 'Russian',\n",
       " 'Japanese',\n",
       " 'Yue Chinese']"
      ]
     },
     "execution_count": 27,
     "metadata": {},
     "output_type": "execute_result"
    }
   ],
   "source": [
    "driver.get(url)\n",
    "\n",
    "lst = [e.text.strip() for e in driver.find_elements(By.CLASS_NAME, 'mw-redirect')]\n",
    "\n",
    "for i in range(7):\n",
    "    \n",
    "    lst.pop(0)\n",
    "    \n",
    "lst = lst [:9]\n",
    "\n",
    "lst"
   ]
  },
  {
   "cell_type": "markdown",
   "metadata": {},
   "source": [
    "### BONUS QUESTIONS"
   ]
  },
  {
   "cell_type": "markdown",
   "metadata": {},
   "source": [
    "#### Scrape a certain number of tweets of a given Twitter account."
   ]
  },
  {
   "cell_type": "code",
   "execution_count": 28,
   "metadata": {},
   "outputs": [],
   "source": [
    "# This is the url you will scrape in this exercise \n",
    "# You will need to add the account credentials to this url\n",
    "url = 'https://twitter.com/'"
   ]
  },
  {
   "cell_type": "code",
   "execution_count": 29,
   "metadata": {},
   "outputs": [],
   "source": [
    "# your code"
   ]
  },
  {
   "cell_type": "markdown",
   "metadata": {},
   "source": [
    "#### IMDB's Top 250 data (movie name, Initial release, director name and stars) as a pandas dataframe"
   ]
  },
  {
   "cell_type": "code",
   "execution_count": 30,
   "metadata": {},
   "outputs": [],
   "source": [
    "# This is the url you will scrape in this exercise \n",
    "url = 'https://www.imdb.com/chart/top'"
   ]
  },
  {
   "cell_type": "code",
   "execution_count": 31,
   "metadata": {},
   "outputs": [
    {
     "name": "stdout",
     "output_type": "stream",
     "text": [
      "1. Cadena perpetua (1994) -- -- 9,2\n",
      "2. El padrino (1972) -- -- 9,2\n",
      "3. El caballero oscuro (2008) -- -- 9,0\n",
      "4. El padrino (parte II) (1974) -- Frank Darabont -- 9,0\n",
      "5. 12 hombres sin piedad (1957) -- Francis Ford Coppola -- 9,0\n",
      "6. La lista de Schindler (1993) -- Christopher Nolan -- 8,9\n",
      "7. El señor de los anillos: El retorno del rey (2003) -- Francis Ford Coppola -- 8,9\n",
      "8. Pulp Fiction (1994) -- Sidney Lumet -- 8,8\n",
      "9. El señor de los anillos: La comunidad del anillo (2001) -- Steven Spielberg -- 8,8\n",
      "10. El bueno, el feo y el malo (1966) -- Peter Jackson -- 8,8\n",
      "11. Forrest Gump (1994) -- Peter Jackson -- 8,8\n",
      "12. El club de la lucha (1999) -- Sergio Leone -- 8,7\n",
      "13. El señor de los anillos: Las dos torres (2002) -- David Fincher -- 8,7\n",
      "14. Origen (2010) -- Peter Jackson -- 8,7\n",
      "15. El imperio contraataca (1980) -- Irvin Kershner -- 8,7\n",
      "16. Matrix (1999) -- Lana Wachowski -- 8,7\n",
      "17. Uno de los nuestros (1990) -- Akira Kurosawa -- 8,7\n",
      "18. Alguien voló sobre el nido del cuco (1975) -- Fernando Meirelles -- 8,6\n",
      "19. Seven (1995) -- Steven Spielberg -- 8,6\n",
      "20. Los siete samuráis (1954) -- Christopher Nolan -- 8,6\n"
     ]
    }
   ],
   "source": [
    "driver.get(url)\n",
    "\n",
    "for i in range(20):\n",
    "    \n",
    "    movie = driver.find_elements(By.CLASS_NAME, 'titleColumn')[i].text.strip()\n",
    "    \n",
    "    director = driver.find_elements(By.PARTIAL_LINK_TEXT, 'a')[i+1].get_attribute('title')\n",
    "    \n",
    "    director = re.sub(r\"\\(.*\", \"\", director)\n",
    "    \n",
    "    rating = driver.find_elements(By.CLASS_NAME, 'ratingColumn.imdbRating')[i].text.strip()\n",
    "      \n",
    "    print(movie + ' -- ' + director + '-- ' + rating)\n",
    "    \n",
    "    "
   ]
  },
  {
   "cell_type": "markdown",
   "metadata": {},
   "source": [
    "#### Movie name, year and a brief summary of the top 10 random movies (IMDB) as a pandas dataframe."
   ]
  },
  {
   "cell_type": "code",
   "execution_count": 32,
   "metadata": {},
   "outputs": [],
   "source": [
    "#This is the url you will scrape in this exercise\n",
    "url = 'http://www.imdb.com/chart/top'"
   ]
  },
  {
   "cell_type": "code",
   "execution_count": 33,
   "metadata": {},
   "outputs": [],
   "source": [
    "#your code"
   ]
  },
  {
   "cell_type": "markdown",
   "metadata": {},
   "source": [
    "#### Find the live weather report (temperature, wind speed, description and weather) of a given city."
   ]
  },
  {
   "cell_type": "code",
   "execution_count": 34,
   "metadata": {},
   "outputs": [
    {
     "ename": "NameError",
     "evalue": "name 'city' is not defined",
     "output_type": "error",
     "traceback": [
      "\u001b[0;31m---------------------------------------------------------------------------\u001b[0m",
      "\u001b[0;31mNameError\u001b[0m                                 Traceback (most recent call last)",
      "\u001b[0;32m/var/folders/6l/31x7hhz57xx8r01s93tx63f00000gn/T/ipykernel_4870/1110384329.py\u001b[0m in \u001b[0;36m<module>\u001b[0;34m\u001b[0m\n\u001b[1;32m      1\u001b[0m \u001b[0;31m#https://openweathermap.org/current\u001b[0m\u001b[0;34m\u001b[0m\u001b[0;34m\u001b[0m\u001b[0m\n\u001b[1;32m      2\u001b[0m \u001b[0;31m#city = city=input('Enter the city:')\u001b[0m\u001b[0;34m\u001b[0m\u001b[0;34m\u001b[0m\u001b[0m\n\u001b[0;32m----> 3\u001b[0;31m \u001b[0murl\u001b[0m \u001b[0;34m=\u001b[0m \u001b[0;34m'http://api.openweathermap.org/data/2.5/weather?'\u001b[0m\u001b[0;34m+\u001b[0m\u001b[0;34m'q='\u001b[0m\u001b[0;34m+\u001b[0m\u001b[0mcity\u001b[0m\u001b[0;34m+\u001b[0m\u001b[0;34m'&APPID=b35975e18dc93725acb092f7272cc6b8&units=metric'\u001b[0m\u001b[0;34m\u001b[0m\u001b[0;34m\u001b[0m\u001b[0m\n\u001b[0m",
      "\u001b[0;31mNameError\u001b[0m: name 'city' is not defined"
     ]
    }
   ],
   "source": [
    "#https://openweathermap.org/current\n",
    "#city = city=input('Enter the city:')\n",
    "url = 'http://api.openweathermap.org/data/2.5/weather?'+'q='+city+'&APPID=b35975e18dc93725acb092f7272cc6b8&units=metric'"
   ]
  },
  {
   "cell_type": "code",
   "execution_count": null,
   "metadata": {},
   "outputs": [],
   "source": [
    "# your code"
   ]
  },
  {
   "cell_type": "markdown",
   "metadata": {},
   "source": [
    "#### Book name,price and stock availability as a pandas dataframe."
   ]
  },
  {
   "cell_type": "code",
   "execution_count": null,
   "metadata": {},
   "outputs": [],
   "source": [
    "# This is the url you will scrape in this exercise. \n",
    "# It is a fictional bookstore created to be scraped. \n",
    "url = 'http://books.toscrape.com/'"
   ]
  },
  {
   "cell_type": "code",
   "execution_count": null,
   "metadata": {},
   "outputs": [],
   "source": [
    "#your code"
   ]
  }
 ],
 "metadata": {
  "kernelspec": {
   "display_name": "Python 3 (ipykernel)",
   "language": "python",
   "name": "python3"
  },
  "language_info": {
   "codemirror_mode": {
    "name": "ipython",
    "version": 3
   },
   "file_extension": ".py",
   "mimetype": "text/x-python",
   "name": "python",
   "nbconvert_exporter": "python",
   "pygments_lexer": "ipython3",
   "version": "3.9.13"
  }
 },
 "nbformat": 4,
 "nbformat_minor": 2
}
