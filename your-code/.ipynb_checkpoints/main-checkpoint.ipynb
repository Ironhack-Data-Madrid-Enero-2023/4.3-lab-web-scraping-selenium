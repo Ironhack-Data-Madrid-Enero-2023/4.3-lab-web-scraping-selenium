{
 "cells": [
  {
   "cell_type": "markdown",
   "metadata": {},
   "source": [
    "# Web Scraping Lab\n",
    "\n",
    "You will find in this notebook some scrapy exercises to practise your scraping skills.\n",
    "\n",
    "**Tips:**\n",
    "\n",
    "- Check the response status code for each request to ensure you have obtained the intended contennt.\n",
    "- Print the response text in each request to understand the kind of info you are getting and its format.\n",
    "- Check for patterns in the response text to extract the data/info requested in each question.\n",
    "- Visit each url and take a look at its source through Chrome DevTools. You'll need to identify the html tags, special class names etc. used for the html content you are expected to extract."
   ]
  },
  {
   "cell_type": "markdown",
   "metadata": {},
   "source": [
    "- [Selenium Doc](https://www.selenium.dev/documentation/)\n",
    "- [Requests library](http://docs.python-requests.org/en/master/#the-user-guide) documentation \n",
    "- [Urllib](https://docs.python.org/3/library/urllib.html#module-urllib)\n",
    "- [re lib](https://docs.python.org/3/library/re.html)\n",
    "- [lxml lib](https://lxml.de/)\n",
    "- [Scrapy](https://scrapy.org/)\n",
    "- [List of HTTP status codes](https://en.wikipedia.org/wiki/List_of_HTTP_status_codes)\n",
    "- [HTML basics](http://www.simplehtmlguide.com/cheatsheet.php)\n",
    "- [CSS basics](https://www.cssbasics.com/#page_start)"
   ]
  },
  {
   "cell_type": "markdown",
   "metadata": {},
   "source": [
    "#### Below are the libraries and modules you may need. `Selenium` and `pandas` are imported for you."
   ]
  },
  {
   "cell_type": "code",
   "execution_count": 1,
   "metadata": {},
   "outputs": [],
   "source": [
    "import pandas as pd\n",
    "from selenium import webdriver\n",
    "from selenium.webdriver.chrome.options import Options\n",
    "from webdriver_manager.chrome import ChromeDriverManager\n",
    "from selenium.webdriver.support.ui import WebDriverWait\n",
    "from selenium.webdriver.support import expected_conditions as EC \n",
    "from selenium.webdriver import ActionChains as AC \n",
    "from selenium.webdriver.common.keys import Keys\n",
    "\n",
    "\n",
    "from selenium.webdriver.common.by import By # By es para buscar por tag, clase, id...\n",
    "\n",
    "import time\n",
    "\n",
    "import warnings\n",
    "warnings.filterwarnings('ignore')"
   ]
  },
  {
   "cell_type": "markdown",
   "metadata": {},
   "source": [
    "#### Enable the options you may need. In the next cell you have an example of them but you can choose to use them or not."
   ]
  },
  {
   "cell_type": "code",
   "execution_count": 2,
   "metadata": {},
   "outputs": [],
   "source": [
    "#driver configuration\n",
    "opciones=Options()\n",
    "\n",
    "opciones.add_experimental_option('excludeSwitches', ['enable-automation'])\n",
    "opciones.add_experimental_option('useAutomationExtension', False)\n",
    "opciones.headless=False    # si True, no aperece la ventana (headless=no visible)\n",
    "opciones.add_argument('--start-maximized')         # comienza maximizado\n",
    "#opciones.add_argument('user-data-dir=selenium')    # mantiene las cookies\n",
    "#opciones.add_extension('driver_folder/adblock.crx')       # adblocker\n",
    "opciones.add_argument('--incognito')\n"
   ]
  },
  {
   "cell_type": "code",
   "execution_count": 3,
   "metadata": {},
   "outputs": [],
   "source": [
    "PATH = ChromeDriverManager().install()     # instala el driver de chrome\n",
    "\n",
    "driver = webdriver.Chrome(PATH, options = opciones)       # abre una venta una de chrome\n",
    "\n",
    "#driver.get('https://www.google.es')"
   ]
  },
  {
   "cell_type": "markdown",
   "metadata": {},
   "source": [
    "#### Download, parse, and print the content from the Trending Developers page from GitHub:"
   ]
  },
  {
   "cell_type": "code",
   "execution_count": 4,
   "metadata": {},
   "outputs": [],
   "source": [
    "# This is the url you will scrape in this exercise\n",
    "url1 = 'https://github.com/trending/developers'"
   ]
  },
  {
   "cell_type": "code",
   "execution_count": 5,
   "metadata": {},
   "outputs": [
    {
     "data": {
      "text/plain": [
       "\"PATH = ChromeDriverManager().install()     # instala el driver de chrome\\ndriver = webdriver.Chrome(PATH, options = opciones)       # abre una venta una de chrome\\ndriver.get(url1)\\ntime.sleep(1)\\n\\nelemento = driver.find_element(By.XPATH, '/html')  # XPATH de todo\\n\\nelemento\""
      ]
     },
     "execution_count": 5,
     "metadata": {},
     "output_type": "execute_result"
    }
   ],
   "source": [
    "'''PATH = ChromeDriverManager().install()     # instala el driver de chrome\n",
    "driver = webdriver.Chrome(PATH, options = opciones)       # abre una venta una de chrome\n",
    "driver.get(url1)\n",
    "time.sleep(1)\n",
    "\n",
    "elemento = driver.find_element(By.XPATH, '/html')  # XPATH de todo\n",
    "\n",
    "elemento'''"
   ]
  },
  {
   "cell_type": "code",
   "execution_count": 6,
   "metadata": {},
   "outputs": [
    {
     "data": {
      "text/plain": [
       "'PATH = ChromeDriverManager().install()     # instala el driver de chrome\\ndriver = webdriver.Chrome(PATH, options = opciones)       # abre una venta una de chrome\\ndriver.get(url1)\\ntime.sleep(1)\\n\\nelemento = driver.find_element(By.XPATH, \\'//*[@id=\"pa-a8m\"]/div[2]/div[1]/div[1]/h1\\')  # XPATH de Ariel\\n\\nelemento.text'"
      ]
     },
     "execution_count": 6,
     "metadata": {},
     "output_type": "execute_result"
    }
   ],
   "source": [
    "'''PATH = ChromeDriverManager().install()     # instala el driver de chrome\n",
    "driver = webdriver.Chrome(PATH, options = opciones)       # abre una venta una de chrome\n",
    "driver.get(url1)\n",
    "time.sleep(1)\n",
    "\n",
    "elemento = driver.find_element(By.XPATH, '//*[@id=\"pa-a8m\"]/div[2]/div[1]/div[1]/h1')  # XPATH de Ariel\n",
    "\n",
    "elemento.text'''"
   ]
  },
  {
   "cell_type": "code",
   "execution_count": 7,
   "metadata": {},
   "outputs": [
    {
     "data": {
      "text/plain": [
       "'PATH = ChromeDriverManager().install()     # instala el driver de chrome\\ndriver = webdriver.Chrome(PATH, options = opciones)       # abre una venta una de chrome\\ndriver.get(url1)\\ntime.sleep(1)\\n\\nelemento = driver.find_element(By.CLASS_NAME, \\'h3.lh-condensed\\')  # tag de Ariel\\n\\nelemento.text\\n\\n#<h1 class=\"h3 lh-condensed\">'"
      ]
     },
     "execution_count": 7,
     "metadata": {},
     "output_type": "execute_result"
    }
   ],
   "source": [
    "'''PATH = ChromeDriverManager().install()     # instala el driver de chrome\n",
    "driver = webdriver.Chrome(PATH, options = opciones)       # abre una venta una de chrome\n",
    "driver.get(url1)\n",
    "time.sleep(1)\n",
    "\n",
    "elemento = driver.find_element(By.CLASS_NAME, 'h3.lh-condensed')  # tag de Ariel\n",
    "\n",
    "elemento.text\n",
    "\n",
    "#<h1 class=\"h3 lh-condensed\">'''\n",
    "    "
   ]
  },
  {
   "cell_type": "markdown",
   "metadata": {},
   "source": [
    "#### Display the names of the trending developers retrieved in the previous step.\n",
    "\n",
    "Your output should be a Python list of developer names. Each name should not contain any html tag.\n",
    "\n",
    "**Instructions:**\n",
    "\n",
    "1. Find out the html tag and class names used for the developer names.\n",
    "\n",
    "1. Use string manipulation techniques to replace whitespaces and linebreaks (i.e. `\\n`) in the *text* of each html element. Use a list to store the clean names.\n",
    "\n",
    "1. Print the list of names.\n",
    "\n",
    "Your output should look like below:\n",
    "\n",
    "```\n",
    "['trimstray (@trimstray)',\n",
    " 'joewalnes (JoeWalnes)',\n",
    " 'charlax (Charles-AxelDein)',\n",
    " 'ForrestKnight (ForrestKnight)',\n",
    " 'revery-ui (revery-ui)',\n",
    " 'alibaba (Alibaba)',\n",
    " 'Microsoft (Microsoft)',\n",
    " 'github (GitHub)',\n",
    " 'facebook (Facebook)',\n",
    " 'boazsegev (Bo)',\n",
    " 'google (Google)',\n",
    " 'cloudfetch',\n",
    " 'sindresorhus (SindreSorhus)',\n",
    " 'tensorflow',\n",
    " 'apache (TheApacheSoftwareFoundation)',\n",
    " 'DevonCrawford (DevonCrawford)',\n",
    " 'ARMmbed (ArmMbed)',\n",
    " 'vuejs (vuejs)',\n",
    " 'fastai (fast.ai)',\n",
    " 'QiShaoXuan (Qi)',\n",
    " 'joelparkerhenderson (JoelParkerHenderson)',\n",
    " 'torvalds (LinusTorvalds)',\n",
    " 'CyC2018',\n",
    " 'komeiji-satori (神楽坂覚々)',\n",
    " 'script-8']\n",
    " ```"
   ]
  },
  {
   "cell_type": "code",
   "execution_count": 8,
   "metadata": {},
   "outputs": [
    {
     "data": {
      "text/plain": [
       "'PATH = ChromeDriverManager().install()     # instala el driver de chrome\\ndriver = webdriver.Chrome(PATH, options = opciones)       # abre una venta una de chrome\\ndriver.get(url1)\\ntime.sleep(1)\\n\\nelementos = driver.find_elements(By.CLASS_NAME, \\'h3.lh-condensed\\')  # tag de Ariel\\n\\n[e.text for e in elementos]\\n\\n#<h1 class=\"h3 lh-condensed\">'"
      ]
     },
     "execution_count": 8,
     "metadata": {},
     "output_type": "execute_result"
    }
   ],
   "source": [
    "'''PATH = ChromeDriverManager().install()     # instala el driver de chrome\n",
    "driver = webdriver.Chrome(PATH, options = opciones)       # abre una venta una de chrome\n",
    "driver.get(url1)\n",
    "time.sleep(1)\n",
    "\n",
    "elementos = driver.find_elements(By.CLASS_NAME, 'h3.lh-condensed')  # tag de Ariel\n",
    "\n",
    "[e.text for e in elementos]\n",
    "\n",
    "#<h1 class=\"h3 lh-condensed\">'''"
   ]
  },
  {
   "cell_type": "markdown",
   "metadata": {},
   "source": [
    "#### Display the trending Python repositories in GitHub\n",
    "\n",
    "The steps to solve this problem is similar to the previous one except that you need to find out the repository names instead of developer names."
   ]
  },
  {
   "cell_type": "code",
   "execution_count": 9,
   "metadata": {},
   "outputs": [],
   "source": [
    "# This is the url you will scrape in this exercise\n",
    "url2 = 'https://github.com/trending/python?since=daily'"
   ]
  },
  {
   "cell_type": "code",
   "execution_count": 10,
   "metadata": {},
   "outputs": [
    {
     "data": {
      "text/plain": [
       "'PATH = ChromeDriverManager().install()     # instala el driver de chrome\\ndriver = webdriver.Chrome(PATH, options = opciones)       # abre una venta una de chrome\\ndriver.get(url2)\\ntime.sleep(1)\\n\\nelementos = driver.find_elements(By.CLASS_NAME, \\'h3.lh-condensed\\')  # tag de chatgpt\\n\\n[e.text for e in elementos]\\n\\n#<h1 class=\"h3 lh-condensed\">'"
      ]
     },
     "execution_count": 10,
     "metadata": {},
     "output_type": "execute_result"
    }
   ],
   "source": [
    "'''PATH = ChromeDriverManager().install()     # instala el driver de chrome\n",
    "driver = webdriver.Chrome(PATH, options = opciones)       # abre una venta una de chrome\n",
    "driver.get(url2)\n",
    "time.sleep(1)\n",
    "\n",
    "elementos = driver.find_elements(By.CLASS_NAME, 'h3.lh-condensed')  # tag de chatgpt\n",
    "\n",
    "[e.text for e in elementos]\n",
    "\n",
    "#<h1 class=\"h3 lh-condensed\">'''"
   ]
  },
  {
   "cell_type": "markdown",
   "metadata": {},
   "source": [
    "#### Display all the image links from Walt Disney wikipedia page"
   ]
  },
  {
   "cell_type": "code",
   "execution_count": 11,
   "metadata": {},
   "outputs": [],
   "source": [
    "# This is the url you will scrape in this exercise\n",
    "url3 = 'https://en.wikipedia.org/wiki/Walt_Disney'"
   ]
  },
  {
   "cell_type": "code",
   "execution_count": 12,
   "metadata": {},
   "outputs": [
    {
     "data": {
      "text/plain": [
       "\"PATH = ChromeDriverManager().install()     # instala el driver de chrome\\ndriver = webdriver.Chrome(PATH, options = opciones)       # abre una venta una de chrome\\ndriver.get(url3)\\ntime.sleep(1)\\n\\nelementos = [e.get_attribute('href') for e in driver.find_elements(By.CLASS_NAME, 'image')]\\nelementos\\n\\n\""
      ]
     },
     "execution_count": 12,
     "metadata": {},
     "output_type": "execute_result"
    }
   ],
   "source": [
    "'''PATH = ChromeDriverManager().install()     # instala el driver de chrome\n",
    "driver = webdriver.Chrome(PATH, options = opciones)       # abre una venta una de chrome\n",
    "driver.get(url3)\n",
    "time.sleep(1)\n",
    "\n",
    "elementos = [e.get_attribute('href') for e in driver.find_elements(By.CLASS_NAME, 'image')]\n",
    "elementos\n",
    "\n",
    "'''"
   ]
  },
  {
   "cell_type": "markdown",
   "metadata": {},
   "source": [
    "#### Retrieve an arbitary Wikipedia page of \"Python\" and create a list of links on that page"
   ]
  },
  {
   "cell_type": "code",
   "execution_count": 13,
   "metadata": {},
   "outputs": [],
   "source": [
    "# This is the url you will scrape in this exercise\n",
    "url4 ='https://en.wikipedia.org/wiki/Python' "
   ]
  },
  {
   "cell_type": "code",
   "execution_count": 14,
   "metadata": {},
   "outputs": [
    {
     "data": {
      "text/plain": [
       "\"PATH = ChromeDriverManager().install()     # instala el driver de chrome\\ndriver = webdriver.Chrome(PATH, options = opciones)       # abre una venta una de chrome\\ndriver.get(url4)\\ntime.sleep(1)\\n\\nelementos = [e.get_attribute('href') for e in driver.find_elements(By.TAG_NAME, 'a')]\\nelementos\""
      ]
     },
     "execution_count": 14,
     "metadata": {},
     "output_type": "execute_result"
    }
   ],
   "source": [
    "'''PATH = ChromeDriverManager().install()     # instala el driver de chrome\n",
    "driver = webdriver.Chrome(PATH, options = opciones)       # abre una venta una de chrome\n",
    "driver.get(url4)\n",
    "time.sleep(1)\n",
    "\n",
    "elementos = [e.get_attribute('href') for e in driver.find_elements(By.TAG_NAME, 'a')]\n",
    "elementos'''"
   ]
  },
  {
   "cell_type": "markdown",
   "metadata": {},
   "source": [
    "#### Number of Titles that have changed in the United States Code since its last release point "
   ]
  },
  {
   "cell_type": "code",
   "execution_count": 15,
   "metadata": {},
   "outputs": [],
   "source": [
    "# This is the url you will scrape in this exercise\n",
    "url5 = 'http://uscode.house.gov/download/download.shtml'"
   ]
  },
  {
   "cell_type": "code",
   "execution_count": 16,
   "metadata": {},
   "outputs": [
    {
     "data": {
      "text/plain": [
       "\"PATH = ChromeDriverManager().install()     # instala el driver de chrome\\ndriver = webdriver.Chrome(PATH, options = opciones)       # abre una venta una de chrome\\ndriver.get(url5)\\ntime.sleep(1)\\n\\nelementos = [e.text for e in driver.find_elements(By.CLASS_NAME, 'usctitlechanged')]\\nlen(elementos)\""
      ]
     },
     "execution_count": 16,
     "metadata": {},
     "output_type": "execute_result"
    }
   ],
   "source": [
    "'''PATH = ChromeDriverManager().install()     # instala el driver de chrome\n",
    "driver = webdriver.Chrome(PATH, options = opciones)       # abre una venta una de chrome\n",
    "driver.get(url5)\n",
    "time.sleep(1)\n",
    "\n",
    "elementos = [e.text for e in driver.find_elements(By.CLASS_NAME, 'usctitlechanged')]\n",
    "len(elementos)'''"
   ]
  },
  {
   "cell_type": "markdown",
   "metadata": {},
   "source": [
    "#### A Python list with the top ten FBI's Most Wanted names "
   ]
  },
  {
   "cell_type": "code",
   "execution_count": 17,
   "metadata": {},
   "outputs": [],
   "source": [
    "# This is the url you will scrape in this exercise\n",
    "url6 = 'https://www.fbi.gov/wanted/topten'"
   ]
  },
  {
   "cell_type": "code",
   "execution_count": 18,
   "metadata": {},
   "outputs": [
    {
     "data": {
      "text/plain": [
       "\"PATH = ChromeDriverManager().install()     # instala el driver de chrome\\ndriver = webdriver.Chrome(PATH, options = opciones)       # abre una venta una de chrome\\ndriver.get(url6)\\ntime.sleep(1)\\n\\nelementos = [e.text for e in driver.find_elements(By.TAG_NAME, 'h3')]\\nelementos[:-2]\""
      ]
     },
     "execution_count": 18,
     "metadata": {},
     "output_type": "execute_result"
    }
   ],
   "source": [
    "'''PATH = ChromeDriverManager().install()     # instala el driver de chrome\n",
    "driver = webdriver.Chrome(PATH, options = opciones)       # abre una venta una de chrome\n",
    "driver.get(url6)\n",
    "time.sleep(1)\n",
    "\n",
    "elementos = [e.text for e in driver.find_elements(By.TAG_NAME, 'h3')]\n",
    "elementos[:-2]'''"
   ]
  },
  {
   "cell_type": "markdown",
   "metadata": {},
   "source": [
    "####  20 latest earthquakes info (date, time, latitude, longitude and region name) by the EMSC as a pandas dataframe"
   ]
  },
  {
   "cell_type": "code",
   "execution_count": 19,
   "metadata": {},
   "outputs": [],
   "source": [
    "# This is the url you will scrape in this exercise\n",
    "url7 = 'https://www.emsc-csem.org/Earthquake/'"
   ]
  },
  {
   "cell_type": "code",
   "execution_count": 20,
   "metadata": {},
   "outputs": [
    {
     "data": {
      "text/plain": [
       "\"PATH = ChromeDriverManager().install()     # instala el driver de chrome\\ndriver = webdriver.Chrome(PATH, options = opciones)       # abre una venta una de chrome\\ndriver.get(url7)\\ntime.sleep(1)\\n\\n\\ndatetime = [e.text.split() for e in driver.find_elements(By.PARTIAL_LINK_TEXT, '2023')]\\nfecha = []\\nhora = []\\nfor i in datetime:\\n    for e in range(len(i)):\\n        if e % 2 == 0:\\n            fecha.append(i[e])\\n        else:\\n            hora.append(i[e])\\n\\ncoord = [e.text for e in driver.find_elements(By.CLASS_NAME, 'tabev1')]\\nlatitude = []\\nlongitude = []\\nfor e in range(len(coord)):\\n    if e % 2 == 0:\\n        latitude.append(coord[e])\\n    else:\\n        longitude.append(coord[e])\\n\\nregion_name = [e.text for e in driver.find_elements(By.CLASS_NAME, 'tb_region')]\\n\\ndata = {'Date': fecha,\\n        'Time': hora,\\n        'Latitude': latitude,\\n        'Longitude': longitude,\\n        'Region_Name': region_name}\\n\\ntenemossismo = pd.DataFrame(data)\""
      ]
     },
     "execution_count": 20,
     "metadata": {},
     "output_type": "execute_result"
    }
   ],
   "source": [
    "'''PATH = ChromeDriverManager().install()     # instala el driver de chrome\n",
    "driver = webdriver.Chrome(PATH, options = opciones)       # abre una venta una de chrome\n",
    "driver.get(url7)\n",
    "time.sleep(1)\n",
    "\n",
    "\n",
    "datetime = [e.text.split() for e in driver.find_elements(By.PARTIAL_LINK_TEXT, '2023')]\n",
    "fecha = []\n",
    "hora = []\n",
    "for i in datetime:\n",
    "    for e in range(len(i)):\n",
    "        if e % 2 == 0:\n",
    "            fecha.append(i[e])\n",
    "        else:\n",
    "            hora.append(i[e])\n",
    "\n",
    "coord = [e.text for e in driver.find_elements(By.CLASS_NAME, 'tabev1')]\n",
    "latitude = []\n",
    "longitude = []\n",
    "for e in range(len(coord)):\n",
    "    if e % 2 == 0:\n",
    "        latitude.append(coord[e])\n",
    "    else:\n",
    "        longitude.append(coord[e])\n",
    "\n",
    "region_name = [e.text for e in driver.find_elements(By.CLASS_NAME, 'tb_region')]\n",
    "\n",
    "data = {'Date': fecha,\n",
    "        'Time': hora,\n",
    "        'Latitude': latitude,\n",
    "        'Longitude': longitude,\n",
    "        'Region_Name': region_name}\n",
    "\n",
    "tenemossismo = pd.DataFrame(data)'''"
   ]
  },
  {
   "cell_type": "code",
   "execution_count": 21,
   "metadata": {},
   "outputs": [],
   "source": [
    "#tenemossismo.head(20)"
   ]
  },
  {
   "cell_type": "markdown",
   "metadata": {},
   "source": [
    "#### Count number of tweets by a given Twitter account."
   ]
  },
  {
   "cell_type": "markdown",
   "metadata": {},
   "source": [
    "You will need to include a ***try/except block*** for account names not found. \n",
    "<br>***Hint:*** the program should count the number of tweets for any provided account"
   ]
  },
  {
   "cell_type": "code",
   "execution_count": 22,
   "metadata": {},
   "outputs": [],
   "source": [
    "# This is the url you will scrape in this exercise \n",
    "# You will need to add the account credentials to this url\n",
    "url8 = 'https://twitter.com/'"
   ]
  },
  {
   "cell_type": "code",
   "execution_count": 23,
   "metadata": {},
   "outputs": [
    {
     "data": {
      "text/plain": [
       "'from fake_useragent import UserAgent\\n\\nusuario=UserAgent().random\\n\\nprint(usuario)'"
      ]
     },
     "execution_count": 23,
     "metadata": {},
     "output_type": "execute_result"
    }
   ],
   "source": [
    "'''from fake_useragent import UserAgent\n",
    "\n",
    "usuario=UserAgent().random\n",
    "\n",
    "print(usuario)'''"
   ]
  },
  {
   "cell_type": "code",
   "execution_count": 24,
   "metadata": {},
   "outputs": [
    {
     "data": {
      "text/plain": [
       "1"
      ]
     },
     "execution_count": 24,
     "metadata": {},
     "output_type": "execute_result"
    }
   ],
   "source": [
    "'''PATH = ChromeDriverManager().install()     # instala el driver de chrome\n",
    "driver = webdriver.Chrome(PATH, options = opciones)       # abre una venta una de chrome\n",
    "driver.get(url8)\n",
    "time.sleep(1)\n",
    "\n",
    "cookies=driver.find_element(By.XPATH, '//*[@id=\"layers\"]/div/div[2]/div/div/div/div[2]/div[1]/div')\n",
    "cookies.click()\n",
    "time.sleep(3)\n",
    "\n",
    "driver.execute_script('window.scrollTo(0, 19000);')  # 19000px de scroll\n",
    "time.sleep(2)\n",
    "\n",
    "def tuitero(stri): \n",
    "    arroba = stri.find('@') \n",
    "    ojitos = stri.find('\\n·\\n') \n",
    "    if ojitos - arroba < 20: \n",
    "        return stri[arroba+1:ojitos] \n",
    "    else: \n",
    "        return None\n",
    "\n",
    "tuits = [e.text.strip() for e in driver.find_elements(By.TAG_NAME, 'article')]\n",
    "tuiteros = [tuitero(e) for e in tuits]\n",
    "\n",
    "tuitazos = 0\n",
    "for e in tuits:\n",
    "    if str(tuiteros[0]) in e:\n",
    "        tuitazos += 1\n",
    "        \n",
    "tuitazos'''"
   ]
  },
  {
   "cell_type": "markdown",
   "metadata": {},
   "source": [
    "#### Number of followers of a given twitter account"
   ]
  },
  {
   "cell_type": "code",
   "execution_count": null,
   "metadata": {},
   "outputs": [],
   "source": []
  },
  {
   "cell_type": "code",
   "execution_count": null,
   "metadata": {},
   "outputs": [],
   "source": []
  },
  {
   "cell_type": "markdown",
   "metadata": {},
   "source": [
    "You will need to include a ***try/except block*** in case account/s name not found. \n",
    "<br>***Hint:*** the program should count the followers for any provided account"
   ]
  },
  {
   "cell_type": "code",
   "execution_count": 26,
   "metadata": {},
   "outputs": [],
   "source": [
    "# This is the url you will scrape in this exercise \n",
    "# You will need to add the account credentials to this url\n",
    "url = 'https://twitter.com/'"
   ]
  },
  {
   "cell_type": "code",
   "execution_count": null,
   "metadata": {},
   "outputs": [],
   "source": []
  },
  {
   "cell_type": "markdown",
   "metadata": {},
   "source": [
    "#### List all language names and number of related articles in the order they appear in wikipedia.org"
   ]
  },
  {
   "cell_type": "code",
   "execution_count": 27,
   "metadata": {},
   "outputs": [],
   "source": [
    "# This is the url you will scrape in this exercise\n",
    "url = 'https://www.wikipedia.org/'"
   ]
  },
  {
   "cell_type": "code",
   "execution_count": 28,
   "metadata": {},
   "outputs": [],
   "source": [
    "#your code"
   ]
  },
  {
   "cell_type": "markdown",
   "metadata": {},
   "source": [
    "#### A list with the different kind of datasets available in data.gov.uk "
   ]
  },
  {
   "cell_type": "code",
   "execution_count": 29,
   "metadata": {},
   "outputs": [],
   "source": [
    "# This is the url you will scrape in this exercise\n",
    "url = 'https://data.gov.uk/'"
   ]
  },
  {
   "cell_type": "code",
   "execution_count": 30,
   "metadata": {},
   "outputs": [],
   "source": [
    "#your code "
   ]
  },
  {
   "cell_type": "markdown",
   "metadata": {},
   "source": [
    "#### Top 10 languages by number of native speakers stored in a Pandas Dataframe"
   ]
  },
  {
   "cell_type": "code",
   "execution_count": 31,
   "metadata": {},
   "outputs": [],
   "source": [
    "# This is the url you will scrape in this exercise\n",
    "url = 'https://en.wikipedia.org/wiki/List_of_languages_by_number_of_native_speakers'"
   ]
  },
  {
   "cell_type": "code",
   "execution_count": 32,
   "metadata": {},
   "outputs": [],
   "source": [
    "#your code"
   ]
  },
  {
   "cell_type": "markdown",
   "metadata": {},
   "source": [
    "### BONUS QUESTIONS"
   ]
  },
  {
   "cell_type": "markdown",
   "metadata": {},
   "source": [
    "#### Scrape a certain number of tweets of a given Twitter account."
   ]
  },
  {
   "cell_type": "code",
   "execution_count": 33,
   "metadata": {},
   "outputs": [],
   "source": [
    "# This is the url you will scrape in this exercise \n",
    "# You will need to add the account credentials to this url\n",
    "url = 'https://twitter.com/'"
   ]
  },
  {
   "cell_type": "code",
   "execution_count": 34,
   "metadata": {},
   "outputs": [],
   "source": [
    "# your code"
   ]
  },
  {
   "cell_type": "markdown",
   "metadata": {},
   "source": [
    "#### IMDB's Top 250 data (movie name, Initial release, director name and stars) as a pandas dataframe"
   ]
  },
  {
   "cell_type": "code",
   "execution_count": 35,
   "metadata": {},
   "outputs": [],
   "source": [
    "# This is the url you will scrape in this exercise \n",
    "url = 'https://www.imdb.com/chart/top'"
   ]
  },
  {
   "cell_type": "code",
   "execution_count": 36,
   "metadata": {},
   "outputs": [],
   "source": [
    "# your code"
   ]
  },
  {
   "cell_type": "markdown",
   "metadata": {},
   "source": [
    "#### Movie name, year and a brief summary of the top 10 random movies (IMDB) as a pandas dataframe."
   ]
  },
  {
   "cell_type": "code",
   "execution_count": 37,
   "metadata": {},
   "outputs": [],
   "source": [
    "#This is the url you will scrape in this exercise\n",
    "url = 'http://www.imdb.com/chart/top'"
   ]
  },
  {
   "cell_type": "code",
   "execution_count": 38,
   "metadata": {},
   "outputs": [],
   "source": [
    "#your code"
   ]
  },
  {
   "cell_type": "markdown",
   "metadata": {},
   "source": [
    "#### Find the live weather report (temperature, wind speed, description and weather) of a given city."
   ]
  },
  {
   "cell_type": "code",
   "execution_count": 39,
   "metadata": {},
   "outputs": [
    {
     "ename": "SyntaxError",
     "evalue": "EOL while scanning string literal (3440220161.py, line 3)",
     "output_type": "error",
     "traceback": [
      "\u001b[0;36m  File \u001b[0;32m\"/tmp/ipykernel_30740/3440220161.py\"\u001b[0;36m, line \u001b[0;32m3\u001b[0m\n\u001b[0;31m    url = 'http://api.openweathermap.org/data/2.5/weather?'+'q='+city+'&APPID=b35975e18dc93725acb092f7272cc6b8&units=metric''''\u001b[0m\n\u001b[0m                                                                                                                               \n^\u001b[0m\n\u001b[0;31mSyntaxError\u001b[0m\u001b[0;31m:\u001b[0m EOL while scanning string literal\n"
     ]
    }
   ],
   "source": [
    "'''#https://openweathermap.org/current\n",
    "city = city=input('Enter the city:')\n",
    "url = 'http://api.openweathermap.org/data/2.5/weather?'+'q='+city+'&APPID=b35975e18dc93725acb092f7272cc6b8&units=metric''''"
   ]
  },
  {
   "cell_type": "code",
   "execution_count": null,
   "metadata": {},
   "outputs": [],
   "source": [
    "# your code"
   ]
  },
  {
   "cell_type": "markdown",
   "metadata": {},
   "source": [
    "#### Book name,price and stock availability as a pandas dataframe."
   ]
  },
  {
   "cell_type": "code",
   "execution_count": null,
   "metadata": {},
   "outputs": [],
   "source": [
    "# This is the url you will scrape in this exercise. \n",
    "# It is a fictional bookstore created to be scraped. \n",
    "url = 'http://books.toscrape.com/'"
   ]
  },
  {
   "cell_type": "code",
   "execution_count": null,
   "metadata": {},
   "outputs": [],
   "source": [
    "#your code"
   ]
  }
 ],
 "metadata": {
  "kernelspec": {
   "display_name": "Python 3 (ipykernel)",
   "language": "python",
   "name": "python3"
  },
  "language_info": {
   "codemirror_mode": {
    "name": "ipython",
    "version": 3
   },
   "file_extension": ".py",
   "mimetype": "text/x-python",
   "name": "python",
   "nbconvert_exporter": "python",
   "pygments_lexer": "ipython3",
   "version": "3.9.15"
  }
 },
 "nbformat": 4,
 "nbformat_minor": 2
}
